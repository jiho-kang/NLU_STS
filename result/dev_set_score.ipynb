{
  "nbformat": 4,
  "nbformat_minor": 0,
  "metadata": {
    "colab": {
      "name": "기업과제3_11팀_Score.ipynb",
      "provenance": []
    },
    "kernelspec": {
      "name": "python3",
      "display_name": "Python 3"
    },
    "language_info": {
      "name": "python"
    }
  },
  "cells": [
    {
      "cell_type": "markdown",
      "source": [
        "# dev set score 파일을 불러와서 F1 score와 Pearson'sr 계산하기"
      ],
      "metadata": {
        "id": "_jIAbh5yx-pC"
      }
    },
    {
      "cell_type": "code",
      "source": [
        "import pandas as pd\n",
        "from sklearn.metrics import classification_report\n",
        "from scipy.stats import pearsonr"
      ],
      "metadata": {
        "id": "QSv2AzBErcRJ"
      },
      "execution_count": 12,
      "outputs": []
    },
    {
      "cell_type": "markdown",
      "source": [
        "### 데이터"
      ],
      "metadata": {
        "id": "mDF3Yw1U22H6"
      }
    },
    {
      "cell_type": "code",
      "source": [
        "# dev set score 파일\n",
        "path = 'https://raw.githubusercontent.com/seawavve/NLU_STS/main/result/dev_set_score.csv'\n",
        "dev = pd.read_csv(path)\n",
        "dev"
      ],
      "metadata": {
        "colab": {
          "base_uri": "https://localhost:8080/",
          "height": 675
        },
        "id": "XKMwXr99xopk",
        "outputId": "3b6f239e-a2ca-4b4c-dc5f-d1062325e91e"
      },
      "execution_count": 10,
      "outputs": [
        {
          "output_type": "execute_result",
          "data": {
            "text/plain": [
              "     Unnamed: 0                   guid  \\\n",
              "0             0  klue-sts-v1_dev_00000   \n",
              "1             1  klue-sts-v1_dev_00001   \n",
              "2             2  klue-sts-v1_dev_00002   \n",
              "3             3  klue-sts-v1_dev_00003   \n",
              "4             4  klue-sts-v1_dev_00004   \n",
              "..          ...                    ...   \n",
              "514         514  klue-sts-v1_dev_00514   \n",
              "515         515  klue-sts-v1_dev_00515   \n",
              "516         516  klue-sts-v1_dev_00516   \n",
              "517         517  klue-sts-v1_dev_00517   \n",
              "518         518  klue-sts-v1_dev_00518   \n",
              "\n",
              "                                             sentence1  \\\n",
              "0                             무엇보다도 호스트분들이 너무 친절하셨습니다.   \n",
              "1                               주요 관광지 모두 걸어서 이동가능합니다.   \n",
              "2    학생들의 균형 있는 영어능력을 향상시킬 수 있는 학교 수업을 유도하기 위해 2018...   \n",
              "3                            다만, 도로와 인접해서 거리의 소음이 들려요.   \n",
              "4                  형이 다시 캐나다 들어가야 하니 가족모임 일정은 바꾸지 마세요.   \n",
              "..                                                 ...   \n",
              "514    문체부는 이를 연차적으로 확대, 시행해 학교운동부와 스포츠클럽 간의 연계를 강화한다.   \n",
              "515                        일단 정확한 정보와 빠른 답변이 정말 좋았습니다.   \n",
              "516                         게스트에 대한 배려가 묻어나는 시설들이었습니다.   \n",
              "517                         밤하늘을 배경으로 ‘비대면 드론쇼’도 펼쳐진다.   \n",
              "518                      여느 포르투갈의 비앤비와 같이 엘리베이터는 없습니다.   \n",
              "\n",
              "                                             sentence2  \\\n",
              "0                              무엇보다도, 호스트들은 매우 친절했습니다.   \n",
              "1                          위치는 피렌체 중심가까지 걸어서 이동 가능합니다.   \n",
              "2    영어 영역의 경우 학생들이 한글 해석본을 암기하는 문제를 해소하기 위해 2016학년...   \n",
              "3                   하지만, 길과 가깝기 때문에 거리의 소음을 들을 수 있습니다.   \n",
              "4                              가족 모임 일정은 바꾸지 말도록 하십시오.   \n",
              "..                                                 ...   \n",
              "514  문화체육관광부는 학교스포츠학과와 스포츠클럽의 연계성을 강화하기 위해 매년 이 프로그...   \n",
              "515                      호스트의 빠른 답변과 유용한 정보들이 정말 좋습니다.   \n",
              "516                         우선 공간에 대한 센스가 돋보이는 곳이었습니다.   \n",
              "517                            ‘비대면 실감형 문화공연 플랫폼’ 개념도.   \n",
              "518                     포르투의 거의 모든 숙박 시설은 엘리베이터는 없습니다.   \n",
              "\n",
              "                                                labels  binary-label  \\\n",
              "0    {'label': 4.9, 'real-label': 4.857142857142857...             1   \n",
              "1    {'label': 1.4, 'real-label': 1.428571428571429...             0   \n",
              "2    {'label': 1.3, 'real-label': 1.285714285714286...             0   \n",
              "3    {'label': 3.7, 'real-label': 3.714285714285714...             1   \n",
              "4    {'label': 2.5, 'real-label': 2.5, 'binary-labe...             0   \n",
              "..                                                 ...           ...   \n",
              "514  {'label': 2.2, 'real-label': 2.2, 'binary-labe...             0   \n",
              "515  {'label': 2.8, 'real-label': 2.833333333333333...             0   \n",
              "516  {'label': 0.30000000000000004, 'real-label': 0...             0   \n",
              "517  {'label': 0.30000000000000004, 'real-label': 0...             0   \n",
              "518  {'label': 2.9, 'real-label': 2.857142857142857...             0   \n",
              "\n",
              "     real-label  y_pred  y_real-label_pred  \n",
              "0      4.857143       1           4.771169  \n",
              "1      1.428571       0           2.981372  \n",
              "2      1.285714       0           2.945632  \n",
              "3      3.714286       1           4.012879  \n",
              "4      2.500000       0           2.837561  \n",
              "..          ...     ...                ...  \n",
              "514    2.200000       1           4.185130  \n",
              "515    2.833333       1           3.687774  \n",
              "516    0.333333       0           1.885594  \n",
              "517    0.333333       0           1.224555  \n",
              "518    2.857143       1           3.178819  \n",
              "\n",
              "[519 rows x 9 columns]"
            ],
            "text/html": [
              "\n",
              "  <div id=\"df-4190589a-fa7c-4070-b9bd-02782ae15c8f\">\n",
              "    <div class=\"colab-df-container\">\n",
              "      <div>\n",
              "<style scoped>\n",
              "    .dataframe tbody tr th:only-of-type {\n",
              "        vertical-align: middle;\n",
              "    }\n",
              "\n",
              "    .dataframe tbody tr th {\n",
              "        vertical-align: top;\n",
              "    }\n",
              "\n",
              "    .dataframe thead th {\n",
              "        text-align: right;\n",
              "    }\n",
              "</style>\n",
              "<table border=\"1\" class=\"dataframe\">\n",
              "  <thead>\n",
              "    <tr style=\"text-align: right;\">\n",
              "      <th></th>\n",
              "      <th>Unnamed: 0</th>\n",
              "      <th>guid</th>\n",
              "      <th>sentence1</th>\n",
              "      <th>sentence2</th>\n",
              "      <th>labels</th>\n",
              "      <th>binary-label</th>\n",
              "      <th>real-label</th>\n",
              "      <th>y_pred</th>\n",
              "      <th>y_real-label_pred</th>\n",
              "    </tr>\n",
              "  </thead>\n",
              "  <tbody>\n",
              "    <tr>\n",
              "      <th>0</th>\n",
              "      <td>0</td>\n",
              "      <td>klue-sts-v1_dev_00000</td>\n",
              "      <td>무엇보다도 호스트분들이 너무 친절하셨습니다.</td>\n",
              "      <td>무엇보다도, 호스트들은 매우 친절했습니다.</td>\n",
              "      <td>{'label': 4.9, 'real-label': 4.857142857142857...</td>\n",
              "      <td>1</td>\n",
              "      <td>4.857143</td>\n",
              "      <td>1</td>\n",
              "      <td>4.771169</td>\n",
              "    </tr>\n",
              "    <tr>\n",
              "      <th>1</th>\n",
              "      <td>1</td>\n",
              "      <td>klue-sts-v1_dev_00001</td>\n",
              "      <td>주요 관광지 모두 걸어서 이동가능합니다.</td>\n",
              "      <td>위치는 피렌체 중심가까지 걸어서 이동 가능합니다.</td>\n",
              "      <td>{'label': 1.4, 'real-label': 1.428571428571429...</td>\n",
              "      <td>0</td>\n",
              "      <td>1.428571</td>\n",
              "      <td>0</td>\n",
              "      <td>2.981372</td>\n",
              "    </tr>\n",
              "    <tr>\n",
              "      <th>2</th>\n",
              "      <td>2</td>\n",
              "      <td>klue-sts-v1_dev_00002</td>\n",
              "      <td>학생들의 균형 있는 영어능력을 향상시킬 수 있는 학교 수업을 유도하기 위해 2018...</td>\n",
              "      <td>영어 영역의 경우 학생들이 한글 해석본을 암기하는 문제를 해소하기 위해 2016학년...</td>\n",
              "      <td>{'label': 1.3, 'real-label': 1.285714285714286...</td>\n",
              "      <td>0</td>\n",
              "      <td>1.285714</td>\n",
              "      <td>0</td>\n",
              "      <td>2.945632</td>\n",
              "    </tr>\n",
              "    <tr>\n",
              "      <th>3</th>\n",
              "      <td>3</td>\n",
              "      <td>klue-sts-v1_dev_00003</td>\n",
              "      <td>다만, 도로와 인접해서 거리의 소음이 들려요.</td>\n",
              "      <td>하지만, 길과 가깝기 때문에 거리의 소음을 들을 수 있습니다.</td>\n",
              "      <td>{'label': 3.7, 'real-label': 3.714285714285714...</td>\n",
              "      <td>1</td>\n",
              "      <td>3.714286</td>\n",
              "      <td>1</td>\n",
              "      <td>4.012879</td>\n",
              "    </tr>\n",
              "    <tr>\n",
              "      <th>4</th>\n",
              "      <td>4</td>\n",
              "      <td>klue-sts-v1_dev_00004</td>\n",
              "      <td>형이 다시 캐나다 들어가야 하니 가족모임 일정은 바꾸지 마세요.</td>\n",
              "      <td>가족 모임 일정은 바꾸지 말도록 하십시오.</td>\n",
              "      <td>{'label': 2.5, 'real-label': 2.5, 'binary-labe...</td>\n",
              "      <td>0</td>\n",
              "      <td>2.500000</td>\n",
              "      <td>0</td>\n",
              "      <td>2.837561</td>\n",
              "    </tr>\n",
              "    <tr>\n",
              "      <th>...</th>\n",
              "      <td>...</td>\n",
              "      <td>...</td>\n",
              "      <td>...</td>\n",
              "      <td>...</td>\n",
              "      <td>...</td>\n",
              "      <td>...</td>\n",
              "      <td>...</td>\n",
              "      <td>...</td>\n",
              "      <td>...</td>\n",
              "    </tr>\n",
              "    <tr>\n",
              "      <th>514</th>\n",
              "      <td>514</td>\n",
              "      <td>klue-sts-v1_dev_00514</td>\n",
              "      <td>문체부는 이를 연차적으로 확대, 시행해 학교운동부와 스포츠클럽 간의 연계를 강화한다.</td>\n",
              "      <td>문화체육관광부는 학교스포츠학과와 스포츠클럽의 연계성을 강화하기 위해 매년 이 프로그...</td>\n",
              "      <td>{'label': 2.2, 'real-label': 2.2, 'binary-labe...</td>\n",
              "      <td>0</td>\n",
              "      <td>2.200000</td>\n",
              "      <td>1</td>\n",
              "      <td>4.185130</td>\n",
              "    </tr>\n",
              "    <tr>\n",
              "      <th>515</th>\n",
              "      <td>515</td>\n",
              "      <td>klue-sts-v1_dev_00515</td>\n",
              "      <td>일단 정확한 정보와 빠른 답변이 정말 좋았습니다.</td>\n",
              "      <td>호스트의 빠른 답변과 유용한 정보들이 정말 좋습니다.</td>\n",
              "      <td>{'label': 2.8, 'real-label': 2.833333333333333...</td>\n",
              "      <td>0</td>\n",
              "      <td>2.833333</td>\n",
              "      <td>1</td>\n",
              "      <td>3.687774</td>\n",
              "    </tr>\n",
              "    <tr>\n",
              "      <th>516</th>\n",
              "      <td>516</td>\n",
              "      <td>klue-sts-v1_dev_00516</td>\n",
              "      <td>게스트에 대한 배려가 묻어나는 시설들이었습니다.</td>\n",
              "      <td>우선 공간에 대한 센스가 돋보이는 곳이었습니다.</td>\n",
              "      <td>{'label': 0.30000000000000004, 'real-label': 0...</td>\n",
              "      <td>0</td>\n",
              "      <td>0.333333</td>\n",
              "      <td>0</td>\n",
              "      <td>1.885594</td>\n",
              "    </tr>\n",
              "    <tr>\n",
              "      <th>517</th>\n",
              "      <td>517</td>\n",
              "      <td>klue-sts-v1_dev_00517</td>\n",
              "      <td>밤하늘을 배경으로 ‘비대면 드론쇼’도 펼쳐진다.</td>\n",
              "      <td>‘비대면 실감형 문화공연 플랫폼’ 개념도.</td>\n",
              "      <td>{'label': 0.30000000000000004, 'real-label': 0...</td>\n",
              "      <td>0</td>\n",
              "      <td>0.333333</td>\n",
              "      <td>0</td>\n",
              "      <td>1.224555</td>\n",
              "    </tr>\n",
              "    <tr>\n",
              "      <th>518</th>\n",
              "      <td>518</td>\n",
              "      <td>klue-sts-v1_dev_00518</td>\n",
              "      <td>여느 포르투갈의 비앤비와 같이 엘리베이터는 없습니다.</td>\n",
              "      <td>포르투의 거의 모든 숙박 시설은 엘리베이터는 없습니다.</td>\n",
              "      <td>{'label': 2.9, 'real-label': 2.857142857142857...</td>\n",
              "      <td>0</td>\n",
              "      <td>2.857143</td>\n",
              "      <td>1</td>\n",
              "      <td>3.178819</td>\n",
              "    </tr>\n",
              "  </tbody>\n",
              "</table>\n",
              "<p>519 rows × 9 columns</p>\n",
              "</div>\n",
              "      <button class=\"colab-df-convert\" onclick=\"convertToInteractive('df-4190589a-fa7c-4070-b9bd-02782ae15c8f')\"\n",
              "              title=\"Convert this dataframe to an interactive table.\"\n",
              "              style=\"display:none;\">\n",
              "        \n",
              "  <svg xmlns=\"http://www.w3.org/2000/svg\" height=\"24px\"viewBox=\"0 0 24 24\"\n",
              "       width=\"24px\">\n",
              "    <path d=\"M0 0h24v24H0V0z\" fill=\"none\"/>\n",
              "    <path d=\"M18.56 5.44l.94 2.06.94-2.06 2.06-.94-2.06-.94-.94-2.06-.94 2.06-2.06.94zm-11 1L8.5 8.5l.94-2.06 2.06-.94-2.06-.94L8.5 2.5l-.94 2.06-2.06.94zm10 10l.94 2.06.94-2.06 2.06-.94-2.06-.94-.94-2.06-.94 2.06-2.06.94z\"/><path d=\"M17.41 7.96l-1.37-1.37c-.4-.4-.92-.59-1.43-.59-.52 0-1.04.2-1.43.59L10.3 9.45l-7.72 7.72c-.78.78-.78 2.05 0 2.83L4 21.41c.39.39.9.59 1.41.59.51 0 1.02-.2 1.41-.59l7.78-7.78 2.81-2.81c.8-.78.8-2.07 0-2.86zM5.41 20L4 18.59l7.72-7.72 1.47 1.35L5.41 20z\"/>\n",
              "  </svg>\n",
              "      </button>\n",
              "      \n",
              "  <style>\n",
              "    .colab-df-container {\n",
              "      display:flex;\n",
              "      flex-wrap:wrap;\n",
              "      gap: 12px;\n",
              "    }\n",
              "\n",
              "    .colab-df-convert {\n",
              "      background-color: #E8F0FE;\n",
              "      border: none;\n",
              "      border-radius: 50%;\n",
              "      cursor: pointer;\n",
              "      display: none;\n",
              "      fill: #1967D2;\n",
              "      height: 32px;\n",
              "      padding: 0 0 0 0;\n",
              "      width: 32px;\n",
              "    }\n",
              "\n",
              "    .colab-df-convert:hover {\n",
              "      background-color: #E2EBFA;\n",
              "      box-shadow: 0px 1px 2px rgba(60, 64, 67, 0.3), 0px 1px 3px 1px rgba(60, 64, 67, 0.15);\n",
              "      fill: #174EA6;\n",
              "    }\n",
              "\n",
              "    [theme=dark] .colab-df-convert {\n",
              "      background-color: #3B4455;\n",
              "      fill: #D2E3FC;\n",
              "    }\n",
              "\n",
              "    [theme=dark] .colab-df-convert:hover {\n",
              "      background-color: #434B5C;\n",
              "      box-shadow: 0px 1px 3px 1px rgba(0, 0, 0, 0.15);\n",
              "      filter: drop-shadow(0px 1px 2px rgba(0, 0, 0, 0.3));\n",
              "      fill: #FFFFFF;\n",
              "    }\n",
              "  </style>\n",
              "\n",
              "      <script>\n",
              "        const buttonEl =\n",
              "          document.querySelector('#df-4190589a-fa7c-4070-b9bd-02782ae15c8f button.colab-df-convert');\n",
              "        buttonEl.style.display =\n",
              "          google.colab.kernel.accessAllowed ? 'block' : 'none';\n",
              "\n",
              "        async function convertToInteractive(key) {\n",
              "          const element = document.querySelector('#df-4190589a-fa7c-4070-b9bd-02782ae15c8f');\n",
              "          const dataTable =\n",
              "            await google.colab.kernel.invokeFunction('convertToInteractive',\n",
              "                                                     [key], {});\n",
              "          if (!dataTable) return;\n",
              "\n",
              "          const docLinkHtml = 'Like what you see? Visit the ' +\n",
              "            '<a target=\"_blank\" href=https://colab.research.google.com/notebooks/data_table.ipynb>data table notebook</a>'\n",
              "            + ' to learn more about interactive tables.';\n",
              "          element.innerHTML = '';\n",
              "          dataTable['output_type'] = 'display_data';\n",
              "          await google.colab.output.renderOutput(dataTable, element);\n",
              "          const docLink = document.createElement('div');\n",
              "          docLink.innerHTML = docLinkHtml;\n",
              "          element.appendChild(docLink);\n",
              "        }\n",
              "      </script>\n",
              "    </div>\n",
              "  </div>\n",
              "  "
            ]
          },
          "metadata": {},
          "execution_count": 10
        }
      ]
    },
    {
      "cell_type": "code",
      "source": [
        "# F1 score\n",
        "real_label = dev['binary-label']\n",
        "predict_label = dev['y_pred']\n",
        "print(classification_report(real_label, predict_label))"
      ],
      "metadata": {
        "colab": {
          "base_uri": "https://localhost:8080/"
        },
        "id": "aIFAxHHlrlXy",
        "outputId": "e10b5633-f560-470e-f5de-2566a90a764a"
      },
      "execution_count": 18,
      "outputs": [
        {
          "output_type": "stream",
          "name": "stdout",
          "text": [
            "              precision    recall  f1-score   support\n",
            "\n",
            "           0       0.98      0.73      0.84       299\n",
            "           1       0.73      0.98      0.83       220\n",
            "\n",
            "    accuracy                           0.84       519\n",
            "   macro avg       0.85      0.85      0.84       519\n",
            "weighted avg       0.87      0.84      0.84       519\n",
            "\n"
          ]
        }
      ]
    },
    {
      "cell_type": "code",
      "source": [
        "# Pearson's r\n",
        "real_label = dev['real-label']\n",
        "predict_label = dev['y_real-label_pred']\n",
        "print(pearsonr(real_label, predict_label)[0])"
      ],
      "metadata": {
        "colab": {
          "base_uri": "https://localhost:8080/"
        },
        "id": "1qaukHBzuig-",
        "outputId": "4378bb98-aa2c-49ee-f9a9-b4c287f8d692"
      },
      "execution_count": 20,
      "outputs": [
        {
          "output_type": "stream",
          "name": "stdout",
          "text": [
            "0.8822131482486593\n"
          ]
        }
      ]
    },
    {
      "cell_type": "code",
      "source": [
        "# 시각화\n",
        "import matplotlib.pyplot as plt\n",
        "plt.scatter(real_label, predict_label)\n",
        "plt.xlabel('real_label')\n",
        "plt.ylabel('predict_label')\n",
        "plt.show()"
      ],
      "metadata": {
        "colab": {
          "base_uri": "https://localhost:8080/",
          "height": 280
        },
        "id": "RQxwdi_5xKzZ",
        "outputId": "194bb6bf-956f-4690-855c-cbfce18cd8a8"
      },
      "execution_count": 21,
      "outputs": [
        {
          "output_type": "display_data",
          "data": {
            "text/plain": [
              "<Figure size 432x288 with 1 Axes>"
            ],
            "image/png": "[encoded data removed]"
          },
          "metadata": {
            "needs_background": "light"
          }
        }
      ]
    },
    {
      "cell_type": "code",
      "source": [
        ""
      ],
      "metadata": {
        "id": "WxiN7RA3xh6N"
      },
      "execution_count": null,
      "outputs": []
    }
  ]
}