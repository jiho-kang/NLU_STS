{
  "nbformat": 4,
  "nbformat_minor": 0,
  "metadata": {
    "colab": {
      "name": "jinheon_NLU_STS.ipynb",
      "provenance": [],
      "collapsed_sections": [],
      "machine_shape": "hm"
    },
    "kernelspec": {
      "name": "python3",
      "display_name": "Python 3"
    },
    "language_info": {
      "name": "python"
    },
    "accelerator": "GPU",
    "widgets": {
      "application/vnd.jupyter.widget-state+json": {
        "c01ddf2f5650479db10296f9c78da603": {
          "model_module": "@jupyter-widgets/controls",
          "model_name": "HBoxModel",
          "model_module_version": "1.5.0",
          "state": {
            "_dom_classes": [],
            "_model_module": "@jupyter-widgets/controls",
            "_model_module_version": "1.5.0",
            "_model_name": "HBoxModel",
            "_view_count": null,
            "_view_module": "@jupyter-widgets/controls",
            "_view_module_version": "1.5.0",
            "_view_name": "HBoxView",
            "box_style": "",
            "children": [
              "IPY_MODEL_8ac936912f09453683fd5b96f80b3b46",
              "IPY_MODEL_d1fdbd6f809042fc9937bef6ae5fa3c4",
              "IPY_MODEL_6eb47f79e8c642dc8fc320cf53ffc727"
            ],
            "layout": "IPY_MODEL_ca65439ec95040bf8019dbbeddf2d8de"
          }
        },
        "8ac936912f09453683fd5b96f80b3b46": {
          "model_module": "@jupyter-widgets/controls",
          "model_name": "HTMLModel",
          "model_module_version": "1.5.0",
          "state": {
            "_dom_classes": [],
            "_model_module": "@jupyter-widgets/controls",
            "_model_module_version": "1.5.0",
            "_model_name": "HTMLModel",
            "_view_count": null,
            "_view_module": "@jupyter-widgets/controls",
            "_view_module_version": "1.5.0",
            "_view_name": "HTMLView",
            "description": "",
            "description_tooltip": null,
            "layout": "IPY_MODEL_3d760488373a4c0ea7faa0985b60c461",
            "placeholder": "​",
            "style": "IPY_MODEL_1f16f5c6d9cb417484ab5ba624f41f39",
            "value": "Downloading: 100%"
          }
        },
        "d1fdbd6f809042fc9937bef6ae5fa3c4": {
          "model_module": "@jupyter-widgets/controls",
          "model_name": "FloatProgressModel",
          "model_module_version": "1.5.0",
          "state": {
            "_dom_classes": [],
            "_model_module": "@jupyter-widgets/controls",
            "_model_module_version": "1.5.0",
            "_model_name": "FloatProgressModel",
            "_view_count": null,
            "_view_module": "@jupyter-widgets/controls",
            "_view_module_version": "1.5.0",
            "_view_name": "ProgressView",
            "bar_style": "success",
            "description": "",
            "description_tooltip": null,
            "layout": "IPY_MODEL_c178fb7f2d634c4e8fc4403ed6045c3f",
            "max": 744,
            "min": 0,
            "orientation": "horizontal",
            "style": "IPY_MODEL_be3fa185342a4fb3b2a2e9dad62bf495",
            "value": 744
          }
        },
        "6eb47f79e8c642dc8fc320cf53ffc727": {
          "model_module": "@jupyter-widgets/controls",
          "model_name": "HTMLModel",
          "model_module_version": "1.5.0",
          "state": {
            "_dom_classes": [],
            "_model_module": "@jupyter-widgets/controls",
            "_model_module_version": "1.5.0",
            "_model_name": "HTMLModel",
            "_view_count": null,
            "_view_module": "@jupyter-widgets/controls",
            "_view_module_version": "1.5.0",
            "_view_name": "HTMLView",
            "description": "",
            "description_tooltip": null,
            "layout": "IPY_MODEL_f2397bac27b24b8b847ab5d4be3469a7",
            "placeholder": "​",
            "style": "IPY_MODEL_ba2d60c2a1d843bd89bb1ae89a0ebfc0",
            "value": " 744/744 [00:00&lt;00:00, 21.4kB/s]"
          }
        },
        "ca65439ec95040bf8019dbbeddf2d8de": {
          "model_module": "@jupyter-widgets/base",
          "model_name": "LayoutModel",
          "model_module_version": "1.2.0",
          "state": {
            "_model_module": "@jupyter-widgets/base",
            "_model_module_version": "1.2.0",
            "_model_name": "LayoutModel",
            "_view_count": null,
            "_view_module": "@jupyter-widgets/base",
            "_view_module_version": "1.2.0",
            "_view_name": "LayoutView",
            "align_content": null,
            "align_items": null,
            "align_self": null,
            "border": null,
            "bottom": null,
            "display": null,
            "flex": null,
            "flex_flow": null,
            "grid_area": null,
            "grid_auto_columns": null,
            "grid_auto_flow": null,
            "grid_auto_rows": null,
            "grid_column": null,
            "grid_gap": null,
            "grid_row": null,
            "grid_template_areas": null,
            "grid_template_columns": null,
            "grid_template_rows": null,
            "height": null,
            "justify_content": null,
            "justify_items": null,
            "left": null,
            "margin": null,
            "max_height": null,
            "max_width": null,
            "min_height": null,
            "min_width": null,
            "object_fit": null,
            "object_position": null,
            "order": null,
            "overflow": null,
            "overflow_x": null,
            "overflow_y": null,
            "padding": null,
            "right": null,
            "top": null,
            "visibility": null,
            "width": null
          }
        },
        "3d760488373a4c0ea7faa0985b60c461": {
          "model_module": "@jupyter-widgets/base",
          "model_name": "LayoutModel",
          "model_module_version": "1.2.0",
          "state": {
            "_model_module": "@jupyter-widgets/base",
            "_model_module_version": "1.2.0",
            "_model_name": "LayoutModel",
            "_view_count": null,
            "_view_module": "@jupyter-widgets/base",
            "_view_module_version": "1.2.0",
            "_view_name": "LayoutView",
            "align_content": null,
            "align_items": null,
            "align_self": null,
            "border": null,
            "bottom": null,
            "display": null,
            "flex": null,
            "flex_flow": null,
            "grid_area": null,
            "grid_auto_columns": null,
            "grid_auto_flow": null,
            "grid_auto_rows": null,
            "grid_column": null,
            "grid_gap": null,
            "grid_row": null,
            "grid_template_areas": null,
            "grid_template_columns": null,
            "grid_template_rows": null,
            "height": null,
            "justify_content": null,
            "justify_items": null,
            "left": null,
            "margin": null,
            "max_height": null,
            "max_width": null,
            "min_height": null,
            "min_width": null,
            "object_fit": null,
            "object_position": null,
            "order": null,
            "overflow": null,
            "overflow_x": null,
            "overflow_y": null,
            "padding": null,
            "right": null,
            "top": null,
            "visibility": null,
            "width": null
          }
        },
        "1f16f5c6d9cb417484ab5ba624f41f39": {
          "model_module": "@jupyter-widgets/controls",
          "model_name": "DescriptionStyleModel",
          "model_module_version": "1.5.0",
          "state": {
            "_model_module": "@jupyter-widgets/controls",
            "_model_module_version": "1.5.0",
            "_model_name": "DescriptionStyleModel",
            "_view_count": null,
            "_view_module": "@jupyter-widgets/base",
            "_view_module_version": "1.2.0",
            "_view_name": "StyleView",
            "description_width": ""
          }
        },
        "c178fb7f2d634c4e8fc4403ed6045c3f": {
          "model_module": "@jupyter-widgets/base",
          "model_name": "LayoutModel",
          "model_module_version": "1.2.0",
          "state": {
            "_model_module": "@jupyter-widgets/base",
            "_model_module_version": "1.2.0",
            "_model_name": "LayoutModel",
            "_view_count": null,
            "_view_module": "@jupyter-widgets/base",
            "_view_module_version": "1.2.0",
            "_view_name": "LayoutView",
            "align_content": null,
            "align_items": null,
            "align_self": null,
            "border": null,
            "bottom": null,
            "display": null,
            "flex": null,
            "flex_flow": null,
            "grid_area": null,
            "grid_auto_columns": null,
            "grid_auto_flow": null,
            "grid_auto_rows": null,
            "grid_column": null,
            "grid_gap": null,
            "grid_row": null,
            "grid_template_areas": null,
            "grid_template_columns": null,
            "grid_template_rows": null,
            "height": null,
            "justify_content": null,
            "justify_items": null,
            "left": null,
            "margin": null,
            "max_height": null,
            "max_width": null,
            "min_height": null,
            "min_width": null,
            "object_fit": null,
            "object_position": null,
            "order": null,
            "overflow": null,
            "overflow_x": null,
            "overflow_y": null,
            "padding": null,
            "right": null,
            "top": null,
            "visibility": null,
            "width": null
          }
        },
        "be3fa185342a4fb3b2a2e9dad62bf495": {
          "model_module": "@jupyter-widgets/controls",
          "model_name": "ProgressStyleModel",
          "model_module_version": "1.5.0",
          "state": {
            "_model_module": "@jupyter-widgets/controls",
            "_model_module_version": "1.5.0",
            "_model_name": "ProgressStyleModel",
            "_view_count": null,
            "_view_module": "@jupyter-widgets/base",
            "_view_module_version": "1.2.0",
            "_view_name": "StyleView",
            "bar_color": null,
            "description_width": ""
          }
        },
        "f2397bac27b24b8b847ab5d4be3469a7": {
          "model_module": "@jupyter-widgets/base",
          "model_name": "LayoutModel",
          "model_module_version": "1.2.0",
          "state": {
            "_model_module": "@jupyter-widgets/base",
            "_model_module_version": "1.2.0",
            "_model_name": "LayoutModel",
            "_view_count": null,
            "_view_module": "@jupyter-widgets/base",
            "_view_module_version": "1.2.0",
            "_view_name": "LayoutView",
            "align_content": null,
            "align_items": null,
            "align_self": null,
            "border": null,
            "bottom": null,
            "display": null,
            "flex": null,
            "flex_flow": null,
            "grid_area": null,
            "grid_auto_columns": null,
            "grid_auto_flow": null,
            "grid_auto_rows": null,
            "grid_column": null,
            "grid_gap": null,
            "grid_row": null,
            "grid_template_areas": null,
            "grid_template_columns": null,
            "grid_template_rows": null,
            "height": null,
            "justify_content": null,
            "justify_items": null,
            "left": null,
            "margin": null,
            "max_height": null,
            "max_width": null,
            "min_height": null,
            "min_width": null,
            "object_fit": null,
            "object_position": null,
            "order": null,
            "overflow": null,
            "overflow_x": null,
            "overflow_y": null,
            "padding": null,
            "right": null,
            "top": null,
            "visibility": null,
            "width": null
          }
        },
        "ba2d60c2a1d843bd89bb1ae89a0ebfc0": {
          "model_module": "@jupyter-widgets/controls",
          "model_name": "DescriptionStyleModel",
          "model_module_version": "1.5.0",
          "state": {
            "_model_module": "@jupyter-widgets/controls",
            "_model_module_version": "1.5.0",
            "_model_name": "DescriptionStyleModel",
            "_view_count": null,
            "_view_module": "@jupyter-widgets/base",
            "_view_module_version": "1.2.0",
            "_view_name": "StyleView",
            "description_width": ""
          }
        },
        "88d513509e8348f69d987b9fa149f7da": {
          "model_module": "@jupyter-widgets/controls",
          "model_name": "HBoxModel",
          "model_module_version": "1.5.0",
          "state": {
            "_dom_classes": [],
            "_model_module": "@jupyter-widgets/controls",
            "_model_module_version": "1.5.0",
            "_model_name": "HBoxModel",
            "_view_count": null,
            "_view_module": "@jupyter-widgets/controls",
            "_view_module_version": "1.5.0",
            "_view_name": "HBoxView",
            "box_style": "",
            "children": [
              "IPY_MODEL_5a72d8b2d930408195bb6d352cd895d9",
              "IPY_MODEL_1628c2e632b7400684f8de9a0f0d6089",
              "IPY_MODEL_409779fc81924ea0bdd1f66daca09bcb"
            ],
            "layout": "IPY_MODEL_eb371c13a5594ac2875b71da8b0980b8"
          }
        },
        "5a72d8b2d930408195bb6d352cd895d9": {
          "model_module": "@jupyter-widgets/controls",
          "model_name": "HTMLModel",
          "model_module_version": "1.5.0",
          "state": {
            "_dom_classes": [],
            "_model_module": "@jupyter-widgets/controls",
            "_model_module_version": "1.5.0",
            "_model_name": "HTMLModel",
            "_view_count": null,
            "_view_module": "@jupyter-widgets/controls",
            "_view_module_version": "1.5.0",
            "_view_name": "HTMLView",
            "description": "",
            "description_tooltip": null,
            "layout": "IPY_MODEL_5f870e72f1ed46499d20cc9bfe4b22c3",
            "placeholder": "​",
            "style": "IPY_MODEL_c03659266b8f454bb916a76c6f86d390",
            "value": "Downloading: 100%"
          }
        },
        "1628c2e632b7400684f8de9a0f0d6089": {
          "model_module": "@jupyter-widgets/controls",
          "model_name": "FloatProgressModel",
          "model_module_version": "1.5.0",
          "state": {
            "_dom_classes": [],
            "_model_module": "@jupyter-widgets/controls",
            "_model_module_version": "1.5.0",
            "_model_name": "FloatProgressModel",
            "_view_count": null,
            "_view_module": "@jupyter-widgets/controls",
            "_view_module_version": "1.5.0",
            "_view_name": "ProgressView",
            "bar_style": "success",
            "description": "",
            "description_tooltip": null,
            "layout": "IPY_MODEL_b2c284a2038b4786a4eeb6ebeb01cc48",
            "max": 442552823,
            "min": 0,
            "orientation": "horizontal",
            "style": "IPY_MODEL_2d02f7b2dc334f36bd448fbb01043801",
            "value": 442552823
          }
        },
        "409779fc81924ea0bdd1f66daca09bcb": {
          "model_module": "@jupyter-widgets/controls",
          "model_name": "HTMLModel",
          "model_module_version": "1.5.0",
          "state": {
            "_dom_classes": [],
            "_model_module": "@jupyter-widgets/controls",
            "_model_module_version": "1.5.0",
            "_model_name": "HTMLModel",
            "_view_count": null,
            "_view_module": "@jupyter-widgets/controls",
            "_view_module_version": "1.5.0",
            "_view_name": "HTMLView",
            "description": "",
            "description_tooltip": null,
            "layout": "IPY_MODEL_ee962f1856764040bfa1dc5b6c3e9b39",
            "placeholder": "​",
            "style": "IPY_MODEL_c151c93a4ee549f19d1d2403a9d6f85a",
            "value": " 422M/422M [00:18&lt;00:00, 16.3MB/s]"
          }
        },
        "eb371c13a5594ac2875b71da8b0980b8": {
          "model_module": "@jupyter-widgets/base",
          "model_name": "LayoutModel",
          "model_module_version": "1.2.0",
          "state": {
            "_model_module": "@jupyter-widgets/base",
            "_model_module_version": "1.2.0",
            "_model_name": "LayoutModel",
            "_view_count": null,
            "_view_module": "@jupyter-widgets/base",
            "_view_module_version": "1.2.0",
            "_view_name": "LayoutView",
            "align_content": null,
            "align_items": null,
            "align_self": null,
            "border": null,
            "bottom": null,
            "display": null,
            "flex": null,
            "flex_flow": null,
            "grid_area": null,
            "grid_auto_columns": null,
            "grid_auto_flow": null,
            "grid_auto_rows": null,
            "grid_column": null,
            "grid_gap": null,
            "grid_row": null,
            "grid_template_areas": null,
            "grid_template_columns": null,
            "grid_template_rows": null,
            "height": null,
            "justify_content": null,
            "justify_items": null,
            "left": null,
            "margin": null,
            "max_height": null,
            "max_width": null,
            "min_height": null,
            "min_width": null,
            "object_fit": null,
            "object_position": null,
            "order": null,
            "overflow": null,
            "overflow_x": null,
            "overflow_y": null,
            "padding": null,
            "right": null,
            "top": null,
            "visibility": null,
            "width": null
          }
        },
        "5f870e72f1ed46499d20cc9bfe4b22c3": {
          "model_module": "@jupyter-widgets/base",
          "model_name": "LayoutModel",
          "model_module_version": "1.2.0",
          "state": {
            "_model_module": "@jupyter-widgets/base",
            "_model_module_version": "1.2.0",
            "_model_name": "LayoutModel",
            "_view_count": null,
            "_view_module": "@jupyter-widgets/base",
            "_view_module_version": "1.2.0",
            "_view_name": "LayoutView",
            "align_content": null,
            "align_items": null,
            "align_self": null,
            "border": null,
            "bottom": null,
            "display": null,
            "flex": null,
            "flex_flow": null,
            "grid_area": null,
            "grid_auto_columns": null,
            "grid_auto_flow": null,
            "grid_auto_rows": null,
            "grid_column": null,
            "grid_gap": null,
            "grid_row": null,
            "grid_template_areas": null,
            "grid_template_columns": null,
            "grid_template_rows": null,
            "height": null,
            "justify_content": null,
            "justify_items": null,
            "left": null,
            "margin": null,
            "max_height": null,
            "max_width": null,
            "min_height": null,
            "min_width": null,
            "object_fit": null,
            "object_position": null,
            "order": null,
            "overflow": null,
            "overflow_x": null,
            "overflow_y": null,
            "padding": null,
            "right": null,
            "top": null,
            "visibility": null,
            "width": null
          }
        },
        "c03659266b8f454bb916a76c6f86d390": {
          "model_module": "@jupyter-widgets/controls",
          "model_name": "DescriptionStyleModel",
          "model_module_version": "1.5.0",
          "state": {
            "_model_module": "@jupyter-widgets/controls",
            "_model_module_version": "1.5.0",
            "_model_name": "DescriptionStyleModel",
            "_view_count": null,
            "_view_module": "@jupyter-widgets/base",
            "_view_module_version": "1.2.0",
            "_view_name": "StyleView",
            "description_width": ""
          }
        },
        "b2c284a2038b4786a4eeb6ebeb01cc48": {
          "model_module": "@jupyter-widgets/base",
          "model_name": "LayoutModel",
          "model_module_version": "1.2.0",
          "state": {
            "_model_module": "@jupyter-widgets/base",
            "_model_module_version": "1.2.0",
            "_model_name": "LayoutModel",
            "_view_count": null,
            "_view_module": "@jupyter-widgets/base",
            "_view_module_version": "1.2.0",
            "_view_name": "LayoutView",
            "align_content": null,
            "align_items": null,
            "align_self": null,
            "border": null,
            "bottom": null,
            "display": null,
            "flex": null,
            "flex_flow": null,
            "grid_area": null,
            "grid_auto_columns": null,
            "grid_auto_flow": null,
            "grid_auto_rows": null,
            "grid_column": null,
            "grid_gap": null,
            "grid_row": null,
            "grid_template_areas": null,
            "grid_template_columns": null,
            "grid_template_rows": null,
            "height": null,
            "justify_content": null,
            "justify_items": null,
            "left": null,
            "margin": null,
            "max_height": null,
            "max_width": null,
            "min_height": null,
            "min_width": null,
            "object_fit": null,
            "object_position": null,
            "order": null,
            "overflow": null,
            "overflow_x": null,
            "overflow_y": null,
            "padding": null,
            "right": null,
            "top": null,
            "visibility": null,
            "width": null
          }
        },
        "2d02f7b2dc334f36bd448fbb01043801": {
          "model_module": "@jupyter-widgets/controls",
          "model_name": "ProgressStyleModel",
          "model_module_version": "1.5.0",
          "state": {
            "_model_module": "@jupyter-widgets/controls",
            "_model_module_version": "1.5.0",
            "_model_name": "ProgressStyleModel",
            "_view_count": null,
            "_view_module": "@jupyter-widgets/base",
            "_view_module_version": "1.2.0",
            "_view_name": "StyleView",
            "bar_color": null,
            "description_width": ""
          }
        },
        "ee962f1856764040bfa1dc5b6c3e9b39": {
          "model_module": "@jupyter-widgets/base",
          "model_name": "LayoutModel",
          "model_module_version": "1.2.0",
          "state": {
            "_model_module": "@jupyter-widgets/base",
            "_model_module_version": "1.2.0",
            "_model_name": "LayoutModel",
            "_view_count": null,
            "_view_module": "@jupyter-widgets/base",
            "_view_module_version": "1.2.0",
            "_view_name": "LayoutView",
            "align_content": null,
            "align_items": null,
            "align_self": null,
            "border": null,
            "bottom": null,
            "display": null,
            "flex": null,
            "flex_flow": null,
            "grid_area": null,
            "grid_auto_columns": null,
            "grid_auto_flow": null,
            "grid_auto_rows": null,
            "grid_column": null,
            "grid_gap": null,
            "grid_row": null,
            "grid_template_areas": null,
            "grid_template_columns": null,
            "grid_template_rows": null,
            "height": null,
            "justify_content": null,
            "justify_items": null,
            "left": null,
            "margin": null,
            "max_height": null,
            "max_width": null,
            "min_height": null,
            "min_width": null,
            "object_fit": null,
            "object_position": null,
            "order": null,
            "overflow": null,
            "overflow_x": null,
            "overflow_y": null,
            "padding": null,
            "right": null,
            "top": null,
            "visibility": null,
            "width": null
          }
        },
        "c151c93a4ee549f19d1d2403a9d6f85a": {
          "model_module": "@jupyter-widgets/controls",
          "model_name": "DescriptionStyleModel",
          "model_module_version": "1.5.0",
          "state": {
            "_model_module": "@jupyter-widgets/controls",
            "_model_module_version": "1.5.0",
            "_model_name": "DescriptionStyleModel",
            "_view_count": null,
            "_view_module": "@jupyter-widgets/base",
            "_view_module_version": "1.2.0",
            "_view_name": "StyleView",
            "description_width": ""
          }
        },
        "794138330128463187d7d50f85c80edd": {
          "model_module": "@jupyter-widgets/controls",
          "model_name": "HBoxModel",
          "model_module_version": "1.5.0",
          "state": {
            "_dom_classes": [],
            "_model_module": "@jupyter-widgets/controls",
            "_model_module_version": "1.5.0",
            "_model_name": "HBoxModel",
            "_view_count": null,
            "_view_module": "@jupyter-widgets/controls",
            "_view_module_version": "1.5.0",
            "_view_name": "HBoxView",
            "box_style": "",
            "children": [
              "IPY_MODEL_e562cdcc6508446bab1f52f9f8b64e77",
              "IPY_MODEL_99205eb6a85a4841a2b863966594a54d",
              "IPY_MODEL_91a46557bd5248c8a5d5e0bfbf82cf44"
            ],
            "layout": "IPY_MODEL_ca042f49ca564201938461724ffcc807"
          }
        },
        "e562cdcc6508446bab1f52f9f8b64e77": {
          "model_module": "@jupyter-widgets/controls",
          "model_name": "HTMLModel",
          "model_module_version": "1.5.0",
          "state": {
            "_dom_classes": [],
            "_model_module": "@jupyter-widgets/controls",
            "_model_module_version": "1.5.0",
            "_model_name": "HTMLModel",
            "_view_count": null,
            "_view_module": "@jupyter-widgets/controls",
            "_view_module_version": "1.5.0",
            "_view_name": "HTMLView",
            "description": "",
            "description_tooltip": null,
            "layout": "IPY_MODEL_cd890eaf613040b586ec3e1f3e734ec1",
            "placeholder": "​",
            "style": "IPY_MODEL_1201209fcfd1402181cc05af2a325aae",
            "value": "Downloading: 100%"
          }
        },
        "99205eb6a85a4841a2b863966594a54d": {
          "model_module": "@jupyter-widgets/controls",
          "model_name": "FloatProgressModel",
          "model_module_version": "1.5.0",
          "state": {
            "_dom_classes": [],
            "_model_module": "@jupyter-widgets/controls",
            "_model_module_version": "1.5.0",
            "_model_name": "FloatProgressModel",
            "_view_count": null,
            "_view_module": "@jupyter-widgets/controls",
            "_view_module_version": "1.5.0",
            "_view_name": "ProgressView",
            "bar_style": "success",
            "description": "",
            "description_tooltip": null,
            "layout": "IPY_MODEL_102a9932fe334713b5e50e4f67106ab4",
            "max": 558,
            "min": 0,
            "orientation": "horizontal",
            "style": "IPY_MODEL_64cc478814ac42cba4e247b12114ce40",
            "value": 558
          }
        },
        "91a46557bd5248c8a5d5e0bfbf82cf44": {
          "model_module": "@jupyter-widgets/controls",
          "model_name": "HTMLModel",
          "model_module_version": "1.5.0",
          "state": {
            "_dom_classes": [],
            "_model_module": "@jupyter-widgets/controls",
            "_model_module_version": "1.5.0",
            "_model_name": "HTMLModel",
            "_view_count": null,
            "_view_module": "@jupyter-widgets/controls",
            "_view_module_version": "1.5.0",
            "_view_name": "HTMLView",
            "description": "",
            "description_tooltip": null,
            "layout": "IPY_MODEL_6ef764f70301470f8e6f3ecf89ec283e",
            "placeholder": "​",
            "style": "IPY_MODEL_e647b300c99e4bbeb9545d51569641cb",
            "value": " 558/558 [00:00&lt;00:00, 6.02kB/s]"
          }
        },
        "ca042f49ca564201938461724ffcc807": {
          "model_module": "@jupyter-widgets/base",
          "model_name": "LayoutModel",
          "model_module_version": "1.2.0",
          "state": {
            "_model_module": "@jupyter-widgets/base",
            "_model_module_version": "1.2.0",
            "_model_name": "LayoutModel",
            "_view_count": null,
            "_view_module": "@jupyter-widgets/base",
            "_view_module_version": "1.2.0",
            "_view_name": "LayoutView",
            "align_content": null,
            "align_items": null,
            "align_self": null,
            "border": null,
            "bottom": null,
            "display": null,
            "flex": null,
            "flex_flow": null,
            "grid_area": null,
            "grid_auto_columns": null,
            "grid_auto_flow": null,
            "grid_auto_rows": null,
            "grid_column": null,
            "grid_gap": null,
            "grid_row": null,
            "grid_template_areas": null,
            "grid_template_columns": null,
            "grid_template_rows": null,
            "height": null,
            "justify_content": null,
            "justify_items": null,
            "left": null,
            "margin": null,
            "max_height": null,
            "max_width": null,
            "min_height": null,
            "min_width": null,
            "object_fit": null,
            "object_position": null,
            "order": null,
            "overflow": null,
            "overflow_x": null,
            "overflow_y": null,
            "padding": null,
            "right": null,
            "top": null,
            "visibility": null,
            "width": null
          }
        },
        "cd890eaf613040b586ec3e1f3e734ec1": {
          "model_module": "@jupyter-widgets/base",
          "model_name": "LayoutModel",
          "model_module_version": "1.2.0",
          "state": {
            "_model_module": "@jupyter-widgets/base",
            "_model_module_version": "1.2.0",
            "_model_name": "LayoutModel",
            "_view_count": null,
            "_view_module": "@jupyter-widgets/base",
            "_view_module_version": "1.2.0",
            "_view_name": "LayoutView",
            "align_content": null,
            "align_items": null,
            "align_self": null,
            "border": null,
            "bottom": null,
            "display": null,
            "flex": null,
            "flex_flow": null,
            "grid_area": null,
            "grid_auto_columns": null,
            "grid_auto_flow": null,
            "grid_auto_rows": null,
            "grid_column": null,
            "grid_gap": null,
            "grid_row": null,
            "grid_template_areas": null,
            "grid_template_columns": null,
            "grid_template_rows": null,
            "height": null,
            "justify_content": null,
            "justify_items": null,
            "left": null,
            "margin": null,
            "max_height": null,
            "max_width": null,
            "min_height": null,
            "min_width": null,
            "object_fit": null,
            "object_position": null,
            "order": null,
            "overflow": null,
            "overflow_x": null,
            "overflow_y": null,
            "padding": null,
            "right": null,
            "top": null,
            "visibility": null,
            "width": null
          }
        },
        "1201209fcfd1402181cc05af2a325aae": {
          "model_module": "@jupyter-widgets/controls",
          "model_name": "DescriptionStyleModel",
          "model_module_version": "1.5.0",
          "state": {
            "_model_module": "@jupyter-widgets/controls",
            "_model_module_version": "1.5.0",
            "_model_name": "DescriptionStyleModel",
            "_view_count": null,
            "_view_module": "@jupyter-widgets/base",
            "_view_module_version": "1.2.0",
            "_view_name": "StyleView",
            "description_width": ""
          }
        },
        "102a9932fe334713b5e50e4f67106ab4": {
          "model_module": "@jupyter-widgets/base",
          "model_name": "LayoutModel",
          "model_module_version": "1.2.0",
          "state": {
            "_model_module": "@jupyter-widgets/base",
            "_model_module_version": "1.2.0",
            "_model_name": "LayoutModel",
            "_view_count": null,
            "_view_module": "@jupyter-widgets/base",
            "_view_module_version": "1.2.0",
            "_view_name": "LayoutView",
            "align_content": null,
            "align_items": null,
            "align_self": null,
            "border": null,
            "bottom": null,
            "display": null,
            "flex": null,
            "flex_flow": null,
            "grid_area": null,
            "grid_auto_columns": null,
            "grid_auto_flow": null,
            "grid_auto_rows": null,
            "grid_column": null,
            "grid_gap": null,
            "grid_row": null,
            "grid_template_areas": null,
            "grid_template_columns": null,
            "grid_template_rows": null,
            "height": null,
            "justify_content": null,
            "justify_items": null,
            "left": null,
            "margin": null,
            "max_height": null,
            "max_width": null,
            "min_height": null,
            "min_width": null,
            "object_fit": null,
            "object_position": null,
            "order": null,
            "overflow": null,
            "overflow_x": null,
            "overflow_y": null,
            "padding": null,
            "right": null,
            "top": null,
            "visibility": null,
            "width": null
          }
        },
        "64cc478814ac42cba4e247b12114ce40": {
          "model_module": "@jupyter-widgets/controls",
          "model_name": "ProgressStyleModel",
          "model_module_version": "1.5.0",
          "state": {
            "_model_module": "@jupyter-widgets/controls",
            "_model_module_version": "1.5.0",
            "_model_name": "ProgressStyleModel",
            "_view_count": null,
            "_view_module": "@jupyter-widgets/base",
            "_view_module_version": "1.2.0",
            "_view_name": "StyleView",
            "bar_color": null,
            "description_width": ""
          }
        },
        "6ef764f70301470f8e6f3ecf89ec283e": {
          "model_module": "@jupyter-widgets/base",
          "model_name": "LayoutModel",
          "model_module_version": "1.2.0",
          "state": {
            "_model_module": "@jupyter-widgets/base",
            "_model_module_version": "1.2.0",
            "_model_name": "LayoutModel",
            "_view_count": null,
            "_view_module": "@jupyter-widgets/base",
            "_view_module_version": "1.2.0",
            "_view_name": "LayoutView",
            "align_content": null,
            "align_items": null,
            "align_self": null,
            "border": null,
            "bottom": null,
            "display": null,
            "flex": null,
            "flex_flow": null,
            "grid_area": null,
            "grid_auto_columns": null,
            "grid_auto_flow": null,
            "grid_auto_rows": null,
            "grid_column": null,
            "grid_gap": null,
            "grid_row": null,
            "grid_template_areas": null,
            "grid_template_columns": null,
            "grid_template_rows": null,
            "height": null,
            "justify_content": null,
            "justify_items": null,
            "left": null,
            "margin": null,
            "max_height": null,
            "max_width": null,
            "min_height": null,
            "min_width": null,
            "object_fit": null,
            "object_position": null,
            "order": null,
            "overflow": null,
            "overflow_x": null,
            "overflow_y": null,
            "padding": null,
            "right": null,
            "top": null,
            "visibility": null,
            "width": null
          }
        },
        "e647b300c99e4bbeb9545d51569641cb": {
          "model_module": "@jupyter-widgets/controls",
          "model_name": "DescriptionStyleModel",
          "model_module_version": "1.5.0",
          "state": {
            "_model_module": "@jupyter-widgets/controls",
            "_model_module_version": "1.5.0",
            "_model_name": "DescriptionStyleModel",
            "_view_count": null,
            "_view_module": "@jupyter-widgets/base",
            "_view_module_version": "1.2.0",
            "_view_name": "StyleView",
            "description_width": ""
          }
        },
        "836e40d2173640468061c16f5b2ae438": {
          "model_module": "@jupyter-widgets/controls",
          "model_name": "HBoxModel",
          "model_module_version": "1.5.0",
          "state": {
            "_dom_classes": [],
            "_model_module": "@jupyter-widgets/controls",
            "_model_module_version": "1.5.0",
            "_model_name": "HBoxModel",
            "_view_count": null,
            "_view_module": "@jupyter-widgets/controls",
            "_view_module_version": "1.5.0",
            "_view_name": "HBoxView",
            "box_style": "",
            "children": [
              "IPY_MODEL_2bac29c5c8404a3b89222fe2d7da7a35",
              "IPY_MODEL_c2ac8e7bf38a456e8a46cf990fcbcf18",
              "IPY_MODEL_8b361e830cdf4a47ac7a619137d94df2"
            ],
            "layout": "IPY_MODEL_22324587749442e59d605a48167303d2"
          }
        },
        "2bac29c5c8404a3b89222fe2d7da7a35": {
          "model_module": "@jupyter-widgets/controls",
          "model_name": "HTMLModel",
          "model_module_version": "1.5.0",
          "state": {
            "_dom_classes": [],
            "_model_module": "@jupyter-widgets/controls",
            "_model_module_version": "1.5.0",
            "_model_name": "HTMLModel",
            "_view_count": null,
            "_view_module": "@jupyter-widgets/controls",
            "_view_module_version": "1.5.0",
            "_view_name": "HTMLView",
            "description": "",
            "description_tooltip": null,
            "layout": "IPY_MODEL_ed9b25b6cd0c4328b96b9db5efa47f90",
            "placeholder": "​",
            "style": "IPY_MODEL_7fe6dbbc23ef4cfcb415de701218dd1a",
            "value": "Downloading: 100%"
          }
        },
        "c2ac8e7bf38a456e8a46cf990fcbcf18": {
          "model_module": "@jupyter-widgets/controls",
          "model_name": "FloatProgressModel",
          "model_module_version": "1.5.0",
          "state": {
            "_dom_classes": [],
            "_model_module": "@jupyter-widgets/controls",
            "_model_module_version": "1.5.0",
            "_model_name": "FloatProgressModel",
            "_view_count": null,
            "_view_module": "@jupyter-widgets/controls",
            "_view_module_version": "1.5.0",
            "_view_name": "ProgressView",
            "bar_style": "success",
            "description": "",
            "description_tooltip": null,
            "layout": "IPY_MODEL_08007a67cb314c06abd20167131efb24",
            "max": 248477,
            "min": 0,
            "orientation": "horizontal",
            "style": "IPY_MODEL_f89d9802a2ad4bd8823f71a7319b8a93",
            "value": 248477
          }
        },
        "8b361e830cdf4a47ac7a619137d94df2": {
          "model_module": "@jupyter-widgets/controls",
          "model_name": "HTMLModel",
          "model_module_version": "1.5.0",
          "state": {
            "_dom_classes": [],
            "_model_module": "@jupyter-widgets/controls",
            "_model_module_version": "1.5.0",
            "_model_name": "HTMLModel",
            "_view_count": null,
            "_view_module": "@jupyter-widgets/controls",
            "_view_module_version": "1.5.0",
            "_view_name": "HTMLView",
            "description": "",
            "description_tooltip": null,
            "layout": "IPY_MODEL_1b05011803e44bfa9edeabd1aa1ef3cf",
            "placeholder": "​",
            "style": "IPY_MODEL_9a70e1da11ec468fb6d3f102e9b71164",
            "value": " 243k/243k [00:00&lt;00:00, 851kB/s]"
          }
        },
        "22324587749442e59d605a48167303d2": {
          "model_module": "@jupyter-widgets/base",
          "model_name": "LayoutModel",
          "model_module_version": "1.2.0",
          "state": {
            "_model_module": "@jupyter-widgets/base",
            "_model_module_version": "1.2.0",
            "_model_name": "LayoutModel",
            "_view_count": null,
            "_view_module": "@jupyter-widgets/base",
            "_view_module_version": "1.2.0",
            "_view_name": "LayoutView",
            "align_content": null,
            "align_items": null,
            "align_self": null,
            "border": null,
            "bottom": null,
            "display": null,
            "flex": null,
            "flex_flow": null,
            "grid_area": null,
            "grid_auto_columns": null,
            "grid_auto_flow": null,
            "grid_auto_rows": null,
            "grid_column": null,
            "grid_gap": null,
            "grid_row": null,
            "grid_template_areas": null,
            "grid_template_columns": null,
            "grid_template_rows": null,
            "height": null,
            "justify_content": null,
            "justify_items": null,
            "left": null,
            "margin": null,
            "max_height": null,
            "max_width": null,
            "min_height": null,
            "min_width": null,
            "object_fit": null,
            "object_position": null,
            "order": null,
            "overflow": null,
            "overflow_x": null,
            "overflow_y": null,
            "padding": null,
            "right": null,
            "top": null,
            "visibility": null,
            "width": null
          }
        },
        "ed9b25b6cd0c4328b96b9db5efa47f90": {
          "model_module": "@jupyter-widgets/base",
          "model_name": "LayoutModel",
          "model_module_version": "1.2.0",
          "state": {
            "_model_module": "@jupyter-widgets/base",
            "_model_module_version": "1.2.0",
            "_model_name": "LayoutModel",
            "_view_count": null,
            "_view_module": "@jupyter-widgets/base",
            "_view_module_version": "1.2.0",
            "_view_name": "LayoutView",
            "align_content": null,
            "align_items": null,
            "align_self": null,
            "border": null,
            "bottom": null,
            "display": null,
            "flex": null,
            "flex_flow": null,
            "grid_area": null,
            "grid_auto_columns": null,
            "grid_auto_flow": null,
            "grid_auto_rows": null,
            "grid_column": null,
            "grid_gap": null,
            "grid_row": null,
            "grid_template_areas": null,
            "grid_template_columns": null,
            "grid_template_rows": null,
            "height": null,
            "justify_content": null,
            "justify_items": null,
            "left": null,
            "margin": null,
            "max_height": null,
            "max_width": null,
            "min_height": null,
            "min_width": null,
            "object_fit": null,
            "object_position": null,
            "order": null,
            "overflow": null,
            "overflow_x": null,
            "overflow_y": null,
            "padding": null,
            "right": null,
            "top": null,
            "visibility": null,
            "width": null
          }
        },
        "7fe6dbbc23ef4cfcb415de701218dd1a": {
          "model_module": "@jupyter-widgets/controls",
          "model_name": "DescriptionStyleModel",
          "model_module_version": "1.5.0",
          "state": {
            "_model_module": "@jupyter-widgets/controls",
            "_model_module_version": "1.5.0",
            "_model_name": "DescriptionStyleModel",
            "_view_count": null,
            "_view_module": "@jupyter-widgets/base",
            "_view_module_version": "1.2.0",
            "_view_name": "StyleView",
            "description_width": ""
          }
        },
        "08007a67cb314c06abd20167131efb24": {
          "model_module": "@jupyter-widgets/base",
          "model_name": "LayoutModel",
          "model_module_version": "1.2.0",
          "state": {
            "_model_module": "@jupyter-widgets/base",
            "_model_module_version": "1.2.0",
            "_model_name": "LayoutModel",
            "_view_count": null,
            "_view_module": "@jupyter-widgets/base",
            "_view_module_version": "1.2.0",
            "_view_name": "LayoutView",
            "align_content": null,
            "align_items": null,
            "align_self": null,
            "border": null,
            "bottom": null,
            "display": null,
            "flex": null,
            "flex_flow": null,
            "grid_area": null,
            "grid_auto_columns": null,
            "grid_auto_flow": null,
            "grid_auto_rows": null,
            "grid_column": null,
            "grid_gap": null,
            "grid_row": null,
            "grid_template_areas": null,
            "grid_template_columns": null,
            "grid_template_rows": null,
            "height": null,
            "justify_content": null,
            "justify_items": null,
            "left": null,
            "margin": null,
            "max_height": null,
            "max_width": null,
            "min_height": null,
            "min_width": null,
            "object_fit": null,
            "object_position": null,
            "order": null,
            "overflow": null,
            "overflow_x": null,
            "overflow_y": null,
            "padding": null,
            "right": null,
            "top": null,
            "visibility": null,
            "width": null
          }
        },
        "f89d9802a2ad4bd8823f71a7319b8a93": {
          "model_module": "@jupyter-widgets/controls",
          "model_name": "ProgressStyleModel",
          "model_module_version": "1.5.0",
          "state": {
            "_model_module": "@jupyter-widgets/controls",
            "_model_module_version": "1.5.0",
            "_model_name": "ProgressStyleModel",
            "_view_count": null,
            "_view_module": "@jupyter-widgets/base",
            "_view_module_version": "1.2.0",
            "_view_name": "StyleView",
            "bar_color": null,
            "description_width": ""
          }
        },
        "1b05011803e44bfa9edeabd1aa1ef3cf": {
          "model_module": "@jupyter-widgets/base",
          "model_name": "LayoutModel",
          "model_module_version": "1.2.0",
          "state": {
            "_model_module": "@jupyter-widgets/base",
            "_model_module_version": "1.2.0",
            "_model_name": "LayoutModel",
            "_view_count": null,
            "_view_module": "@jupyter-widgets/base",
            "_view_module_version": "1.2.0",
            "_view_name": "LayoutView",
            "align_content": null,
            "align_items": null,
            "align_self": null,
            "border": null,
            "bottom": null,
            "display": null,
            "flex": null,
            "flex_flow": null,
            "grid_area": null,
            "grid_auto_columns": null,
            "grid_auto_flow": null,
            "grid_auto_rows": null,
            "grid_column": null,
            "grid_gap": null,
            "grid_row": null,
            "grid_template_areas": null,
            "grid_template_columns": null,
            "grid_template_rows": null,
            "height": null,
            "justify_content": null,
            "justify_items": null,
            "left": null,
            "margin": null,
            "max_height": null,
            "max_width": null,
            "min_height": null,
            "min_width": null,
            "object_fit": null,
            "object_position": null,
            "order": null,
            "overflow": null,
            "overflow_x": null,
            "overflow_y": null,
            "padding": null,
            "right": null,
            "top": null,
            "visibility": null,
            "width": null
          }
        },
        "9a70e1da11ec468fb6d3f102e9b71164": {
          "model_module": "@jupyter-widgets/controls",
          "model_name": "DescriptionStyleModel",
          "model_module_version": "1.5.0",
          "state": {
            "_model_module": "@jupyter-widgets/controls",
            "_model_module_version": "1.5.0",
            "_model_name": "DescriptionStyleModel",
            "_view_count": null,
            "_view_module": "@jupyter-widgets/base",
            "_view_module_version": "1.2.0",
            "_view_name": "StyleView",
            "description_width": ""
          }
        },
        "37321b20887c4002b7ed9bd25a145e0f": {
          "model_module": "@jupyter-widgets/controls",
          "model_name": "HBoxModel",
          "model_module_version": "1.5.0",
          "state": {
            "_dom_classes": [],
            "_model_module": "@jupyter-widgets/controls",
            "_model_module_version": "1.5.0",
            "_model_name": "HBoxModel",
            "_view_count": null,
            "_view_module": "@jupyter-widgets/controls",
            "_view_module_version": "1.5.0",
            "_view_name": "HBoxView",
            "box_style": "",
            "children": [
              "IPY_MODEL_94cc78cf5fd7456196254f8bf1b65069",
              "IPY_MODEL_1e7504a4f8124e0481379b9b5cd9a29c",
              "IPY_MODEL_20aa94022e664a3198742602c937e931"
            ],
            "layout": "IPY_MODEL_7da42a7cfbc34e2cbc3737f575d399f2"
          }
        },
        "94cc78cf5fd7456196254f8bf1b65069": {
          "model_module": "@jupyter-widgets/controls",
          "model_name": "HTMLModel",
          "model_module_version": "1.5.0",
          "state": {
            "_dom_classes": [],
            "_model_module": "@jupyter-widgets/controls",
            "_model_module_version": "1.5.0",
            "_model_name": "HTMLModel",
            "_view_count": null,
            "_view_module": "@jupyter-widgets/controls",
            "_view_module_version": "1.5.0",
            "_view_name": "HTMLView",
            "description": "",
            "description_tooltip": null,
            "layout": "IPY_MODEL_55aef202855d44ce92dfd50f0f0edb9b",
            "placeholder": "​",
            "style": "IPY_MODEL_92aebd505d5f4cc2905973d9d1add99d",
            "value": "Downloading: 100%"
          }
        },
        "1e7504a4f8124e0481379b9b5cd9a29c": {
          "model_module": "@jupyter-widgets/controls",
          "model_name": "FloatProgressModel",
          "model_module_version": "1.5.0",
          "state": {
            "_dom_classes": [],
            "_model_module": "@jupyter-widgets/controls",
            "_model_module_version": "1.5.0",
            "_model_name": "FloatProgressModel",
            "_view_count": null,
            "_view_module": "@jupyter-widgets/controls",
            "_view_module_version": "1.5.0",
            "_view_name": "ProgressView",
            "bar_style": "success",
            "description": "",
            "description_tooltip": null,
            "layout": "IPY_MODEL_92f104c5184648c68b0bcf9173cc5a20",
            "max": 494860,
            "min": 0,
            "orientation": "horizontal",
            "style": "IPY_MODEL_44aff30f58cf4189b392be6418706b15",
            "value": 494860
          }
        },
        "20aa94022e664a3198742602c937e931": {
          "model_module": "@jupyter-widgets/controls",
          "model_name": "HTMLModel",
          "model_module_version": "1.5.0",
          "state": {
            "_dom_classes": [],
            "_model_module": "@jupyter-widgets/controls",
            "_model_module_version": "1.5.0",
            "_model_name": "HTMLModel",
            "_view_count": null,
            "_view_module": "@jupyter-widgets/controls",
            "_view_module_version": "1.5.0",
            "_view_name": "HTMLView",
            "description": "",
            "description_tooltip": null,
            "layout": "IPY_MODEL_a0613c86d05d4ed5b5128dab491cf969",
            "placeholder": "​",
            "style": "IPY_MODEL_51869cea45d0410fb2fba608c9dd193a",
            "value": " 483k/483k [00:00&lt;00:00, 886kB/s]"
          }
        },
        "7da42a7cfbc34e2cbc3737f575d399f2": {
          "model_module": "@jupyter-widgets/base",
          "model_name": "LayoutModel",
          "model_module_version": "1.2.0",
          "state": {
            "_model_module": "@jupyter-widgets/base",
            "_model_module_version": "1.2.0",
            "_model_name": "LayoutModel",
            "_view_count": null,
            "_view_module": "@jupyter-widgets/base",
            "_view_module_version": "1.2.0",
            "_view_name": "LayoutView",
            "align_content": null,
            "align_items": null,
            "align_self": null,
            "border": null,
            "bottom": null,
            "display": null,
            "flex": null,
            "flex_flow": null,
            "grid_area": null,
            "grid_auto_columns": null,
            "grid_auto_flow": null,
            "grid_auto_rows": null,
            "grid_column": null,
            "grid_gap": null,
            "grid_row": null,
            "grid_template_areas": null,
            "grid_template_columns": null,
            "grid_template_rows": null,
            "height": null,
            "justify_content": null,
            "justify_items": null,
            "left": null,
            "margin": null,
            "max_height": null,
            "max_width": null,
            "min_height": null,
            "min_width": null,
            "object_fit": null,
            "object_position": null,
            "order": null,
            "overflow": null,
            "overflow_x": null,
            "overflow_y": null,
            "padding": null,
            "right": null,
            "top": null,
            "visibility": null,
            "width": null
          }
        },
        "55aef202855d44ce92dfd50f0f0edb9b": {
          "model_module": "@jupyter-widgets/base",
          "model_name": "LayoutModel",
          "model_module_version": "1.2.0",
          "state": {
            "_model_module": "@jupyter-widgets/base",
            "_model_module_version": "1.2.0",
            "_model_name": "LayoutModel",
            "_view_count": null,
            "_view_module": "@jupyter-widgets/base",
            "_view_module_version": "1.2.0",
            "_view_name": "LayoutView",
            "align_content": null,
            "align_items": null,
            "align_self": null,
            "border": null,
            "bottom": null,
            "display": null,
            "flex": null,
            "flex_flow": null,
            "grid_area": null,
            "grid_auto_columns": null,
            "grid_auto_flow": null,
            "grid_auto_rows": null,
            "grid_column": null,
            "grid_gap": null,
            "grid_row": null,
            "grid_template_areas": null,
            "grid_template_columns": null,
            "grid_template_rows": null,
            "height": null,
            "justify_content": null,
            "justify_items": null,
            "left": null,
            "margin": null,
            "max_height": null,
            "max_width": null,
            "min_height": null,
            "min_width": null,
            "object_fit": null,
            "object_position": null,
            "order": null,
            "overflow": null,
            "overflow_x": null,
            "overflow_y": null,
            "padding": null,
            "right": null,
            "top": null,
            "visibility": null,
            "width": null
          }
        },
        "92aebd505d5f4cc2905973d9d1add99d": {
          "model_module": "@jupyter-widgets/controls",
          "model_name": "DescriptionStyleModel",
          "model_module_version": "1.5.0",
          "state": {
            "_model_module": "@jupyter-widgets/controls",
            "_model_module_version": "1.5.0",
            "_model_name": "DescriptionStyleModel",
            "_view_count": null,
            "_view_module": "@jupyter-widgets/base",
            "_view_module_version": "1.2.0",
            "_view_name": "StyleView",
            "description_width": ""
          }
        },
        "92f104c5184648c68b0bcf9173cc5a20": {
          "model_module": "@jupyter-widgets/base",
          "model_name": "LayoutModel",
          "model_module_version": "1.2.0",
          "state": {
            "_model_module": "@jupyter-widgets/base",
            "_model_module_version": "1.2.0",
            "_model_name": "LayoutModel",
            "_view_count": null,
            "_view_module": "@jupyter-widgets/base",
            "_view_module_version": "1.2.0",
            "_view_name": "LayoutView",
            "align_content": null,
            "align_items": null,
            "align_self": null,
            "border": null,
            "bottom": null,
            "display": null,
            "flex": null,
            "flex_flow": null,
            "grid_area": null,
            "grid_auto_columns": null,
            "grid_auto_flow": null,
            "grid_auto_rows": null,
            "grid_column": null,
            "grid_gap": null,
            "grid_row": null,
            "grid_template_areas": null,
            "grid_template_columns": null,
            "grid_template_rows": null,
            "height": null,
            "justify_content": null,
            "justify_items": null,
            "left": null,
            "margin": null,
            "max_height": null,
            "max_width": null,
            "min_height": null,
            "min_width": null,
            "object_fit": null,
            "object_position": null,
            "order": null,
            "overflow": null,
            "overflow_x": null,
            "overflow_y": null,
            "padding": null,
            "right": null,
            "top": null,
            "visibility": null,
            "width": null
          }
        },
        "44aff30f58cf4189b392be6418706b15": {
          "model_module": "@jupyter-widgets/controls",
          "model_name": "ProgressStyleModel",
          "model_module_version": "1.5.0",
          "state": {
            "_model_module": "@jupyter-widgets/controls",
            "_model_module_version": "1.5.0",
            "_model_name": "ProgressStyleModel",
            "_view_count": null,
            "_view_module": "@jupyter-widgets/base",
            "_view_module_version": "1.2.0",
            "_view_name": "StyleView",
            "bar_color": null,
            "description_width": ""
          }
        },
        "a0613c86d05d4ed5b5128dab491cf969": {
          "model_module": "@jupyter-widgets/base",
          "model_name": "LayoutModel",
          "model_module_version": "1.2.0",
          "state": {
            "_model_module": "@jupyter-widgets/base",
            "_model_module_version": "1.2.0",
            "_model_name": "LayoutModel",
            "_view_count": null,
            "_view_module": "@jupyter-widgets/base",
            "_view_module_version": "1.2.0",
            "_view_name": "LayoutView",
            "align_content": null,
            "align_items": null,
            "align_self": null,
            "border": null,
            "bottom": null,
            "display": null,
            "flex": null,
            "flex_flow": null,
            "grid_area": null,
            "grid_auto_columns": null,
            "grid_auto_flow": null,
            "grid_auto_rows": null,
            "grid_column": null,
            "grid_gap": null,
            "grid_row": null,
            "grid_template_areas": null,
            "grid_template_columns": null,
            "grid_template_rows": null,
            "height": null,
            "justify_content": null,
            "justify_items": null,
            "left": null,
            "margin": null,
            "max_height": null,
            "max_width": null,
            "min_height": null,
            "min_width": null,
            "object_fit": null,
            "object_position": null,
            "order": null,
            "overflow": null,
            "overflow_x": null,
            "overflow_y": null,
            "padding": null,
            "right": null,
            "top": null,
            "visibility": null,
            "width": null
          }
        },
        "51869cea45d0410fb2fba608c9dd193a": {
          "model_module": "@jupyter-widgets/controls",
          "model_name": "DescriptionStyleModel",
          "model_module_version": "1.5.0",
          "state": {
            "_model_module": "@jupyter-widgets/controls",
            "_model_module_version": "1.5.0",
            "_model_name": "DescriptionStyleModel",
            "_view_count": null,
            "_view_module": "@jupyter-widgets/base",
            "_view_module_version": "1.2.0",
            "_view_name": "StyleView",
            "description_width": ""
          }
        },
        "23459879a1a84c52b43d0815b1eccfdd": {
          "model_module": "@jupyter-widgets/controls",
          "model_name": "HBoxModel",
          "model_module_version": "1.5.0",
          "state": {
            "_dom_classes": [],
            "_model_module": "@jupyter-widgets/controls",
            "_model_module_version": "1.5.0",
            "_model_name": "HBoxModel",
            "_view_count": null,
            "_view_module": "@jupyter-widgets/controls",
            "_view_module_version": "1.5.0",
            "_view_name": "HBoxView",
            "box_style": "",
            "children": [
              "IPY_MODEL_7af80de8db1941c5b6003c48a6e6063b",
              "IPY_MODEL_3ed2362a049d416191ecce7686dd1988",
              "IPY_MODEL_4587c2f38c07406d9f85eb370ffa1721"
            ],
            "layout": "IPY_MODEL_f1242d9b32c14dad98b18c7f56369bf0"
          }
        },
        "7af80de8db1941c5b6003c48a6e6063b": {
          "model_module": "@jupyter-widgets/controls",
          "model_name": "HTMLModel",
          "model_module_version": "1.5.0",
          "state": {
            "_dom_classes": [],
            "_model_module": "@jupyter-widgets/controls",
            "_model_module_version": "1.5.0",
            "_model_name": "HTMLModel",
            "_view_count": null,
            "_view_module": "@jupyter-widgets/controls",
            "_view_module_version": "1.5.0",
            "_view_name": "HTMLView",
            "description": "",
            "description_tooltip": null,
            "layout": "IPY_MODEL_30016eea3d3c4e0890bf814199898f9f",
            "placeholder": "​",
            "style": "IPY_MODEL_fe45de2805794436a0494839534bc7b7",
            "value": "Downloading: 100%"
          }
        },
        "3ed2362a049d416191ecce7686dd1988": {
          "model_module": "@jupyter-widgets/controls",
          "model_name": "FloatProgressModel",
          "model_module_version": "1.5.0",
          "state": {
            "_dom_classes": [],
            "_model_module": "@jupyter-widgets/controls",
            "_model_module_version": "1.5.0",
            "_model_name": "FloatProgressModel",
            "_view_count": null,
            "_view_module": "@jupyter-widgets/controls",
            "_view_module_version": "1.5.0",
            "_view_name": "ProgressView",
            "bar_style": "success",
            "description": "",
            "description_tooltip": null,
            "layout": "IPY_MODEL_316a3e01839f424ca2cded54681fb76b",
            "max": 112,
            "min": 0,
            "orientation": "horizontal",
            "style": "IPY_MODEL_307f6e2f20c44dbba43a51d3257ffd6e",
            "value": 112
          }
        },
        "4587c2f38c07406d9f85eb370ffa1721": {
          "model_module": "@jupyter-widgets/controls",
          "model_name": "HTMLModel",
          "model_module_version": "1.5.0",
          "state": {
            "_dom_classes": [],
            "_model_module": "@jupyter-widgets/controls",
            "_model_module_version": "1.5.0",
            "_model_name": "HTMLModel",
            "_view_count": null,
            "_view_module": "@jupyter-widgets/controls",
            "_view_module_version": "1.5.0",
            "_view_name": "HTMLView",
            "description": "",
            "description_tooltip": null,
            "layout": "IPY_MODEL_df311a6588534f4cb822ba94843d2049",
            "placeholder": "​",
            "style": "IPY_MODEL_e3ffd6f46d064b57ba55e22c43be89e7",
            "value": " 112/112 [00:00&lt;00:00, 3.65kB/s]"
          }
        },
        "f1242d9b32c14dad98b18c7f56369bf0": {
          "model_module": "@jupyter-widgets/base",
          "model_name": "LayoutModel",
          "model_module_version": "1.2.0",
          "state": {
            "_model_module": "@jupyter-widgets/base",
            "_model_module_version": "1.2.0",
            "_model_name": "LayoutModel",
            "_view_count": null,
            "_view_module": "@jupyter-widgets/base",
            "_view_module_version": "1.2.0",
            "_view_name": "LayoutView",
            "align_content": null,
            "align_items": null,
            "align_self": null,
            "border": null,
            "bottom": null,
            "display": null,
            "flex": null,
            "flex_flow": null,
            "grid_area": null,
            "grid_auto_columns": null,
            "grid_auto_flow": null,
            "grid_auto_rows": null,
            "grid_column": null,
            "grid_gap": null,
            "grid_row": null,
            "grid_template_areas": null,
            "grid_template_columns": null,
            "grid_template_rows": null,
            "height": null,
            "justify_content": null,
            "justify_items": null,
            "left": null,
            "margin": null,
            "max_height": null,
            "max_width": null,
            "min_height": null,
            "min_width": null,
            "object_fit": null,
            "object_position": null,
            "order": null,
            "overflow": null,
            "overflow_x": null,
            "overflow_y": null,
            "padding": null,
            "right": null,
            "top": null,
            "visibility": null,
            "width": null
          }
        },
        "30016eea3d3c4e0890bf814199898f9f": {
          "model_module": "@jupyter-widgets/base",
          "model_name": "LayoutModel",
          "model_module_version": "1.2.0",
          "state": {
            "_model_module": "@jupyter-widgets/base",
            "_model_module_version": "1.2.0",
            "_model_name": "LayoutModel",
            "_view_count": null,
            "_view_module": "@jupyter-widgets/base",
            "_view_module_version": "1.2.0",
            "_view_name": "LayoutView",
            "align_content": null,
            "align_items": null,
            "align_self": null,
            "border": null,
            "bottom": null,
            "display": null,
            "flex": null,
            "flex_flow": null,
            "grid_area": null,
            "grid_auto_columns": null,
            "grid_auto_flow": null,
            "grid_auto_rows": null,
            "grid_column": null,
            "grid_gap": null,
            "grid_row": null,
            "grid_template_areas": null,
            "grid_template_columns": null,
            "grid_template_rows": null,
            "height": null,
            "justify_content": null,
            "justify_items": null,
            "left": null,
            "margin": null,
            "max_height": null,
            "max_width": null,
            "min_height": null,
            "min_width": null,
            "object_fit": null,
            "object_position": null,
            "order": null,
            "overflow": null,
            "overflow_x": null,
            "overflow_y": null,
            "padding": null,
            "right": null,
            "top": null,
            "visibility": null,
            "width": null
          }
        },
        "fe45de2805794436a0494839534bc7b7": {
          "model_module": "@jupyter-widgets/controls",
          "model_name": "DescriptionStyleModel",
          "model_module_version": "1.5.0",
          "state": {
            "_model_module": "@jupyter-widgets/controls",
            "_model_module_version": "1.5.0",
            "_model_name": "DescriptionStyleModel",
            "_view_count": null,
            "_view_module": "@jupyter-widgets/base",
            "_view_module_version": "1.2.0",
            "_view_name": "StyleView",
            "description_width": ""
          }
        },
        "316a3e01839f424ca2cded54681fb76b": {
          "model_module": "@jupyter-widgets/base",
          "model_name": "LayoutModel",
          "model_module_version": "1.2.0",
          "state": {
            "_model_module": "@jupyter-widgets/base",
            "_model_module_version": "1.2.0",
            "_model_name": "LayoutModel",
            "_view_count": null,
            "_view_module": "@jupyter-widgets/base",
            "_view_module_version": "1.2.0",
            "_view_name": "LayoutView",
            "align_content": null,
            "align_items": null,
            "align_self": null,
            "border": null,
            "bottom": null,
            "display": null,
            "flex": null,
            "flex_flow": null,
            "grid_area": null,
            "grid_auto_columns": null,
            "grid_auto_flow": null,
            "grid_auto_rows": null,
            "grid_column": null,
            "grid_gap": null,
            "grid_row": null,
            "grid_template_areas": null,
            "grid_template_columns": null,
            "grid_template_rows": null,
            "height": null,
            "justify_content": null,
            "justify_items": null,
            "left": null,
            "margin": null,
            "max_height": null,
            "max_width": null,
            "min_height": null,
            "min_width": null,
            "object_fit": null,
            "object_position": null,
            "order": null,
            "overflow": null,
            "overflow_x": null,
            "overflow_y": null,
            "padding": null,
            "right": null,
            "top": null,
            "visibility": null,
            "width": null
          }
        },
        "307f6e2f20c44dbba43a51d3257ffd6e": {
          "model_module": "@jupyter-widgets/controls",
          "model_name": "ProgressStyleModel",
          "model_module_version": "1.5.0",
          "state": {
            "_model_module": "@jupyter-widgets/controls",
            "_model_module_version": "1.5.0",
            "_model_name": "ProgressStyleModel",
            "_view_count": null,
            "_view_module": "@jupyter-widgets/base",
            "_view_module_version": "1.2.0",
            "_view_name": "StyleView",
            "bar_color": null,
            "description_width": ""
          }
        },
        "df311a6588534f4cb822ba94843d2049": {
          "model_module": "@jupyter-widgets/base",
          "model_name": "LayoutModel",
          "model_module_version": "1.2.0",
          "state": {
            "_model_module": "@jupyter-widgets/base",
            "_model_module_version": "1.2.0",
            "_model_name": "LayoutModel",
            "_view_count": null,
            "_view_module": "@jupyter-widgets/base",
            "_view_module_version": "1.2.0",
            "_view_name": "LayoutView",
            "align_content": null,
            "align_items": null,
            "align_self": null,
            "border": null,
            "bottom": null,
            "display": null,
            "flex": null,
            "flex_flow": null,
            "grid_area": null,
            "grid_auto_columns": null,
            "grid_auto_flow": null,
            "grid_auto_rows": null,
            "grid_column": null,
            "grid_gap": null,
            "grid_row": null,
            "grid_template_areas": null,
            "grid_template_columns": null,
            "grid_template_rows": null,
            "height": null,
            "justify_content": null,
            "justify_items": null,
            "left": null,
            "margin": null,
            "max_height": null,
            "max_width": null,
            "min_height": null,
            "min_width": null,
            "object_fit": null,
            "object_position": null,
            "order": null,
            "overflow": null,
            "overflow_x": null,
            "overflow_y": null,
            "padding": null,
            "right": null,
            "top": null,
            "visibility": null,
            "width": null
          }
        },
        "e3ffd6f46d064b57ba55e22c43be89e7": {
          "model_module": "@jupyter-widgets/controls",
          "model_name": "DescriptionStyleModel",
          "model_module_version": "1.5.0",
          "state": {
            "_model_module": "@jupyter-widgets/controls",
            "_model_module_version": "1.5.0",
            "_model_name": "DescriptionStyleModel",
            "_view_count": null,
            "_view_module": "@jupyter-widgets/base",
            "_view_module_version": "1.2.0",
            "_view_name": "StyleView",
            "description_width": ""
          }
        },
        "ec7e324150d74413b6d08f86986fd05d": {
          "model_module": "@jupyter-widgets/controls",
          "model_name": "HBoxModel",
          "model_module_version": "1.5.0",
          "state": {
            "_dom_classes": [],
            "_model_module": "@jupyter-widgets/controls",
            "_model_module_version": "1.5.0",
            "_model_name": "HBoxModel",
            "_view_count": null,
            "_view_module": "@jupyter-widgets/controls",
            "_view_module_version": "1.5.0",
            "_view_name": "HBoxView",
            "box_style": "",
            "children": [
              "IPY_MODEL_6e0e1c42c5cf4666afd91fc69fae78fc",
              "IPY_MODEL_87493dd0ea334680893e96a51eab7d7b",
              "IPY_MODEL_c4c7770a72d640beb2b32946b07c7af3"
            ],
            "layout": "IPY_MODEL_d0798b487c124b97a833774973baf0c0"
          }
        },
        "6e0e1c42c5cf4666afd91fc69fae78fc": {
          "model_module": "@jupyter-widgets/controls",
          "model_name": "HTMLModel",
          "model_module_version": "1.5.0",
          "state": {
            "_dom_classes": [],
            "_model_module": "@jupyter-widgets/controls",
            "_model_module_version": "1.5.0",
            "_model_name": "HTMLModel",
            "_view_count": null,
            "_view_module": "@jupyter-widgets/controls",
            "_view_module_version": "1.5.0",
            "_view_name": "HTMLView",
            "description": "",
            "description_tooltip": null,
            "layout": "IPY_MODEL_db7b86dd1daf44aabad0497051c647b6",
            "placeholder": "​",
            "style": "IPY_MODEL_d10b8b6821994b3a848a8e4cbd6c152c",
            "value": "Epoch: 100%"
          }
        },
        "87493dd0ea334680893e96a51eab7d7b": {
          "model_module": "@jupyter-widgets/controls",
          "model_name": "FloatProgressModel",
          "model_module_version": "1.5.0",
          "state": {
            "_dom_classes": [],
            "_model_module": "@jupyter-widgets/controls",
            "_model_module_version": "1.5.0",
            "_model_name": "FloatProgressModel",
            "_view_count": null,
            "_view_module": "@jupyter-widgets/controls",
            "_view_module_version": "1.5.0",
            "_view_name": "ProgressView",
            "bar_style": "success",
            "description": "",
            "description_tooltip": null,
            "layout": "IPY_MODEL_7a11811551a0486985443cef2391f3f3",
            "max": 4,
            "min": 0,
            "orientation": "horizontal",
            "style": "IPY_MODEL_ab22b4d73496497e9fe8e93378b3d4ce",
            "value": 4
          }
        },
        "c4c7770a72d640beb2b32946b07c7af3": {
          "model_module": "@jupyter-widgets/controls",
          "model_name": "HTMLModel",
          "model_module_version": "1.5.0",
          "state": {
            "_dom_classes": [],
            "_model_module": "@jupyter-widgets/controls",
            "_model_module_version": "1.5.0",
            "_model_name": "HTMLModel",
            "_view_count": null,
            "_view_module": "@jupyter-widgets/controls",
            "_view_module_version": "1.5.0",
            "_view_name": "HTMLView",
            "description": "",
            "description_tooltip": null,
            "layout": "IPY_MODEL_a9b607d9a20c4a9485ad59ac4ccf33a7",
            "placeholder": "​",
            "style": "IPY_MODEL_d2113c6076e442f3bef806dc3f895c98",
            "value": " 4/4 [17:16&lt;00:00, 258.02s/it]"
          }
        },
        "d0798b487c124b97a833774973baf0c0": {
          "model_module": "@jupyter-widgets/base",
          "model_name": "LayoutModel",
          "model_module_version": "1.2.0",
          "state": {
            "_model_module": "@jupyter-widgets/base",
            "_model_module_version": "1.2.0",
            "_model_name": "LayoutModel",
            "_view_count": null,
            "_view_module": "@jupyter-widgets/base",
            "_view_module_version": "1.2.0",
            "_view_name": "LayoutView",
            "align_content": null,
            "align_items": null,
            "align_self": null,
            "border": null,
            "bottom": null,
            "display": null,
            "flex": null,
            "flex_flow": null,
            "grid_area": null,
            "grid_auto_columns": null,
            "grid_auto_flow": null,
            "grid_auto_rows": null,
            "grid_column": null,
            "grid_gap": null,
            "grid_row": null,
            "grid_template_areas": null,
            "grid_template_columns": null,
            "grid_template_rows": null,
            "height": null,
            "justify_content": null,
            "justify_items": null,
            "left": null,
            "margin": null,
            "max_height": null,
            "max_width": null,
            "min_height": null,
            "min_width": null,
            "object_fit": null,
            "object_position": null,
            "order": null,
            "overflow": null,
            "overflow_x": null,
            "overflow_y": null,
            "padding": null,
            "right": null,
            "top": null,
            "visibility": null,
            "width": null
          }
        },
        "db7b86dd1daf44aabad0497051c647b6": {
          "model_module": "@jupyter-widgets/base",
          "model_name": "LayoutModel",
          "model_module_version": "1.2.0",
          "state": {
            "_model_module": "@jupyter-widgets/base",
            "_model_module_version": "1.2.0",
            "_model_name": "LayoutModel",
            "_view_count": null,
            "_view_module": "@jupyter-widgets/base",
            "_view_module_version": "1.2.0",
            "_view_name": "LayoutView",
            "align_content": null,
            "align_items": null,
            "align_self": null,
            "border": null,
            "bottom": null,
            "display": null,
            "flex": null,
            "flex_flow": null,
            "grid_area": null,
            "grid_auto_columns": null,
            "grid_auto_flow": null,
            "grid_auto_rows": null,
            "grid_column": null,
            "grid_gap": null,
            "grid_row": null,
            "grid_template_areas": null,
            "grid_template_columns": null,
            "grid_template_rows": null,
            "height": null,
            "justify_content": null,
            "justify_items": null,
            "left": null,
            "margin": null,
            "max_height": null,
            "max_width": null,
            "min_height": null,
            "min_width": null,
            "object_fit": null,
            "object_position": null,
            "order": null,
            "overflow": null,
            "overflow_x": null,
            "overflow_y": null,
            "padding": null,
            "right": null,
            "top": null,
            "visibility": null,
            "width": null
          }
        },
        "d10b8b6821994b3a848a8e4cbd6c152c": {
          "model_module": "@jupyter-widgets/controls",
          "model_name": "DescriptionStyleModel",
          "model_module_version": "1.5.0",
          "state": {
            "_model_module": "@jupyter-widgets/controls",
            "_model_module_version": "1.5.0",
            "_model_name": "DescriptionStyleModel",
            "_view_count": null,
            "_view_module": "@jupyter-widgets/base",
            "_view_module_version": "1.2.0",
            "_view_name": "StyleView",
            "description_width": ""
          }
        },
        "7a11811551a0486985443cef2391f3f3": {
          "model_module": "@jupyter-widgets/base",
          "model_name": "LayoutModel",
          "model_module_version": "1.2.0",
          "state": {
            "_model_module": "@jupyter-widgets/base",
            "_model_module_version": "1.2.0",
            "_model_name": "LayoutModel",
            "_view_count": null,
            "_view_module": "@jupyter-widgets/base",
            "_view_module_version": "1.2.0",
            "_view_name": "LayoutView",
            "align_content": null,
            "align_items": null,
            "align_self": null,
            "border": null,
            "bottom": null,
            "display": null,
            "flex": null,
            "flex_flow": null,
            "grid_area": null,
            "grid_auto_columns": null,
            "grid_auto_flow": null,
            "grid_auto_rows": null,
            "grid_column": null,
            "grid_gap": null,
            "grid_row": null,
            "grid_template_areas": null,
            "grid_template_columns": null,
            "grid_template_rows": null,
            "height": null,
            "justify_content": null,
            "justify_items": null,
            "left": null,
            "margin": null,
            "max_height": null,
            "max_width": null,
            "min_height": null,
            "min_width": null,
            "object_fit": null,
            "object_position": null,
            "order": null,
            "overflow": null,
            "overflow_x": null,
            "overflow_y": null,
            "padding": null,
            "right": null,
            "top": null,
            "visibility": null,
            "width": null
          }
        },
        "ab22b4d73496497e9fe8e93378b3d4ce": {
          "model_module": "@jupyter-widgets/controls",
          "model_name": "ProgressStyleModel",
          "model_module_version": "1.5.0",
          "state": {
            "_model_module": "@jupyter-widgets/controls",
            "_model_module_version": "1.5.0",
            "_model_name": "ProgressStyleModel",
            "_view_count": null,
            "_view_module": "@jupyter-widgets/base",
            "_view_module_version": "1.2.0",
            "_view_name": "StyleView",
            "bar_color": null,
            "description_width": ""
          }
        },
        "a9b607d9a20c4a9485ad59ac4ccf33a7": {
          "model_module": "@jupyter-widgets/base",
          "model_name": "LayoutModel",
          "model_module_version": "1.2.0",
          "state": {
            "_model_module": "@jupyter-widgets/base",
            "_model_module_version": "1.2.0",
            "_model_name": "LayoutModel",
            "_view_count": null,
            "_view_module": "@jupyter-widgets/base",
            "_view_module_version": "1.2.0",
            "_view_name": "LayoutView",
            "align_content": null,
            "align_items": null,
            "align_self": null,
            "border": null,
            "bottom": null,
            "display": null,
            "flex": null,
            "flex_flow": null,
            "grid_area": null,
            "grid_auto_columns": null,
            "grid_auto_flow": null,
            "grid_auto_rows": null,
            "grid_column": null,
            "grid_gap": null,
            "grid_row": null,
            "grid_template_areas": null,
            "grid_template_columns": null,
            "grid_template_rows": null,
            "height": null,
            "justify_content": null,
            "justify_items": null,
            "left": null,
            "margin": null,
            "max_height": null,
            "max_width": null,
            "min_height": null,
            "min_width": null,
            "object_fit": null,
            "object_position": null,
            "order": null,
            "overflow": null,
            "overflow_x": null,
            "overflow_y": null,
            "padding": null,
            "right": null,
            "top": null,
            "visibility": null,
            "width": null
          }
        },
        "d2113c6076e442f3bef806dc3f895c98": {
          "model_module": "@jupyter-widgets/controls",
          "model_name": "DescriptionStyleModel",
          "model_module_version": "1.5.0",
          "state": {
            "_model_module": "@jupyter-widgets/controls",
            "_model_module_version": "1.5.0",
            "_model_name": "DescriptionStyleModel",
            "_view_count": null,
            "_view_module": "@jupyter-widgets/base",
            "_view_module_version": "1.2.0",
            "_view_name": "StyleView",
            "description_width": ""
          }
        },
        "f3bf25d126f3425ea4a8cd5464a7f09e": {
          "model_module": "@jupyter-widgets/controls",
          "model_name": "HBoxModel",
          "model_module_version": "1.5.0",
          "state": {
            "_dom_classes": [],
            "_model_module": "@jupyter-widgets/controls",
            "_model_module_version": "1.5.0",
            "_model_name": "HBoxModel",
            "_view_count": null,
            "_view_module": "@jupyter-widgets/controls",
            "_view_module_version": "1.5.0",
            "_view_name": "HBoxView",
            "box_style": "",
            "children": [
              "IPY_MODEL_422b988e2daf48bc86d9b883b1160a91",
              "IPY_MODEL_fa9246eb35434c1b9f320dfae673712b",
              "IPY_MODEL_32ff6a23bdb14cabbc410ae4a27730c1"
            ],
            "layout": "IPY_MODEL_689938d366944611a962d632407eb57e"
          }
        },
        "422b988e2daf48bc86d9b883b1160a91": {
          "model_module": "@jupyter-widgets/controls",
          "model_name": "HTMLModel",
          "model_module_version": "1.5.0",
          "state": {
            "_dom_classes": [],
            "_model_module": "@jupyter-widgets/controls",
            "_model_module_version": "1.5.0",
            "_model_name": "HTMLModel",
            "_view_count": null,
            "_view_module": "@jupyter-widgets/controls",
            "_view_module_version": "1.5.0",
            "_view_name": "HTMLView",
            "description": "",
            "description_tooltip": null,
            "layout": "IPY_MODEL_0458ab3ec95149adbc3369b19f73c783",
            "placeholder": "​",
            "style": "IPY_MODEL_a2b18356130042c4b90980347ab4bd71",
            "value": "Iteration: 100%"
          }
        },
        "fa9246eb35434c1b9f320dfae673712b": {
          "model_module": "@jupyter-widgets/controls",
          "model_name": "FloatProgressModel",
          "model_module_version": "1.5.0",
          "state": {
            "_dom_classes": [],
            "_model_module": "@jupyter-widgets/controls",
            "_model_module_version": "1.5.0",
            "_model_name": "FloatProgressModel",
            "_view_count": null,
            "_view_module": "@jupyter-widgets/controls",
            "_view_module_version": "1.5.0",
            "_view_name": "ProgressView",
            "bar_style": "success",
            "description": "",
            "description_tooltip": null,
            "layout": "IPY_MODEL_671a336754df4204bf7932b213a194c1",
            "max": 1312,
            "min": 0,
            "orientation": "horizontal",
            "style": "IPY_MODEL_5cf0d244ae4545c785a5f5834c93a5ba",
            "value": 1312
          }
        },
        "32ff6a23bdb14cabbc410ae4a27730c1": {
          "model_module": "@jupyter-widgets/controls",
          "model_name": "HTMLModel",
          "model_module_version": "1.5.0",
          "state": {
            "_dom_classes": [],
            "_model_module": "@jupyter-widgets/controls",
            "_model_module_version": "1.5.0",
            "_model_name": "HTMLModel",
            "_view_count": null,
            "_view_module": "@jupyter-widgets/controls",
            "_view_module_version": "1.5.0",
            "_view_name": "HTMLView",
            "description": "",
            "description_tooltip": null,
            "layout": "IPY_MODEL_b4a3262651a2499e89b9fcd7933d6c7f",
            "placeholder": "​",
            "style": "IPY_MODEL_f74405730a804ad09d6ac31c2f5c5ae7",
            "value": " 1312/1312 [04:22&lt;00:00,  3.34it/s]"
          }
        },
        "689938d366944611a962d632407eb57e": {
          "model_module": "@jupyter-widgets/base",
          "model_name": "LayoutModel",
          "model_module_version": "1.2.0",
          "state": {
            "_model_module": "@jupyter-widgets/base",
            "_model_module_version": "1.2.0",
            "_model_name": "LayoutModel",
            "_view_count": null,
            "_view_module": "@jupyter-widgets/base",
            "_view_module_version": "1.2.0",
            "_view_name": "LayoutView",
            "align_content": null,
            "align_items": null,
            "align_self": null,
            "border": null,
            "bottom": null,
            "display": null,
            "flex": null,
            "flex_flow": null,
            "grid_area": null,
            "grid_auto_columns": null,
            "grid_auto_flow": null,
            "grid_auto_rows": null,
            "grid_column": null,
            "grid_gap": null,
            "grid_row": null,
            "grid_template_areas": null,
            "grid_template_columns": null,
            "grid_template_rows": null,
            "height": null,
            "justify_content": null,
            "justify_items": null,
            "left": null,
            "margin": null,
            "max_height": null,
            "max_width": null,
            "min_height": null,
            "min_width": null,
            "object_fit": null,
            "object_position": null,
            "order": null,
            "overflow": null,
            "overflow_x": null,
            "overflow_y": null,
            "padding": null,
            "right": null,
            "top": null,
            "visibility": null,
            "width": null
          }
        },
        "0458ab3ec95149adbc3369b19f73c783": {
          "model_module": "@jupyter-widgets/base",
          "model_name": "LayoutModel",
          "model_module_version": "1.2.0",
          "state": {
            "_model_module": "@jupyter-widgets/base",
            "_model_module_version": "1.2.0",
            "_model_name": "LayoutModel",
            "_view_count": null,
            "_view_module": "@jupyter-widgets/base",
            "_view_module_version": "1.2.0",
            "_view_name": "LayoutView",
            "align_content": null,
            "align_items": null,
            "align_self": null,
            "border": null,
            "bottom": null,
            "display": null,
            "flex": null,
            "flex_flow": null,
            "grid_area": null,
            "grid_auto_columns": null,
            "grid_auto_flow": null,
            "grid_auto_rows": null,
            "grid_column": null,
            "grid_gap": null,
            "grid_row": null,
            "grid_template_areas": null,
            "grid_template_columns": null,
            "grid_template_rows": null,
            "height": null,
            "justify_content": null,
            "justify_items": null,
            "left": null,
            "margin": null,
            "max_height": null,
            "max_width": null,
            "min_height": null,
            "min_width": null,
            "object_fit": null,
            "object_position": null,
            "order": null,
            "overflow": null,
            "overflow_x": null,
            "overflow_y": null,
            "padding": null,
            "right": null,
            "top": null,
            "visibility": null,
            "width": null
          }
        },
        "a2b18356130042c4b90980347ab4bd71": {
          "model_module": "@jupyter-widgets/controls",
          "model_name": "DescriptionStyleModel",
          "model_module_version": "1.5.0",
          "state": {
            "_model_module": "@jupyter-widgets/controls",
            "_model_module_version": "1.5.0",
            "_model_name": "DescriptionStyleModel",
            "_view_count": null,
            "_view_module": "@jupyter-widgets/base",
            "_view_module_version": "1.2.0",
            "_view_name": "StyleView",
            "description_width": ""
          }
        },
        "671a336754df4204bf7932b213a194c1": {
          "model_module": "@jupyter-widgets/base",
          "model_name": "LayoutModel",
          "model_module_version": "1.2.0",
          "state": {
            "_model_module": "@jupyter-widgets/base",
            "_model_module_version": "1.2.0",
            "_model_name": "LayoutModel",
            "_view_count": null,
            "_view_module": "@jupyter-widgets/base",
            "_view_module_version": "1.2.0",
            "_view_name": "LayoutView",
            "align_content": null,
            "align_items": null,
            "align_self": null,
            "border": null,
            "bottom": null,
            "display": null,
            "flex": null,
            "flex_flow": null,
            "grid_area": null,
            "grid_auto_columns": null,
            "grid_auto_flow": null,
            "grid_auto_rows": null,
            "grid_column": null,
            "grid_gap": null,
            "grid_row": null,
            "grid_template_areas": null,
            "grid_template_columns": null,
            "grid_template_rows": null,
            "height": null,
            "justify_content": null,
            "justify_items": null,
            "left": null,
            "margin": null,
            "max_height": null,
            "max_width": null,
            "min_height": null,
            "min_width": null,
            "object_fit": null,
            "object_position": null,
            "order": null,
            "overflow": null,
            "overflow_x": null,
            "overflow_y": null,
            "padding": null,
            "right": null,
            "top": null,
            "visibility": null,
            "width": null
          }
        },
        "5cf0d244ae4545c785a5f5834c93a5ba": {
          "model_module": "@jupyter-widgets/controls",
          "model_name": "ProgressStyleModel",
          "model_module_version": "1.5.0",
          "state": {
            "_model_module": "@jupyter-widgets/controls",
            "_model_module_version": "1.5.0",
            "_model_name": "ProgressStyleModel",
            "_view_count": null,
            "_view_module": "@jupyter-widgets/base",
            "_view_module_version": "1.2.0",
            "_view_name": "StyleView",
            "bar_color": null,
            "description_width": ""
          }
        },
        "b4a3262651a2499e89b9fcd7933d6c7f": {
          "model_module": "@jupyter-widgets/base",
          "model_name": "LayoutModel",
          "model_module_version": "1.2.0",
          "state": {
            "_model_module": "@jupyter-widgets/base",
            "_model_module_version": "1.2.0",
            "_model_name": "LayoutModel",
            "_view_count": null,
            "_view_module": "@jupyter-widgets/base",
            "_view_module_version": "1.2.0",
            "_view_name": "LayoutView",
            "align_content": null,
            "align_items": null,
            "align_self": null,
            "border": null,
            "bottom": null,
            "display": null,
            "flex": null,
            "flex_flow": null,
            "grid_area": null,
            "grid_auto_columns": null,
            "grid_auto_flow": null,
            "grid_auto_rows": null,
            "grid_column": null,
            "grid_gap": null,
            "grid_row": null,
            "grid_template_areas": null,
            "grid_template_columns": null,
            "grid_template_rows": null,
            "height": null,
            "justify_content": null,
            "justify_items": null,
            "left": null,
            "margin": null,
            "max_height": null,
            "max_width": null,
            "min_height": null,
            "min_width": null,
            "object_fit": null,
            "object_position": null,
            "order": null,
            "overflow": null,
            "overflow_x": null,
            "overflow_y": null,
            "padding": null,
            "right": null,
            "top": null,
            "visibility": null,
            "width": null
          }
        },
        "f74405730a804ad09d6ac31c2f5c5ae7": {
          "model_module": "@jupyter-widgets/controls",
          "model_name": "DescriptionStyleModel",
          "model_module_version": "1.5.0",
          "state": {
            "_model_module": "@jupyter-widgets/controls",
            "_model_module_version": "1.5.0",
            "_model_name": "DescriptionStyleModel",
            "_view_count": null,
            "_view_module": "@jupyter-widgets/base",
            "_view_module_version": "1.2.0",
            "_view_name": "StyleView",
            "description_width": ""
          }
        },
        "89121bbe9533424fb09a2225deb22035": {
          "model_module": "@jupyter-widgets/controls",
          "model_name": "HBoxModel",
          "model_module_version": "1.5.0",
          "state": {
            "_dom_classes": [],
            "_model_module": "@jupyter-widgets/controls",
            "_model_module_version": "1.5.0",
            "_model_name": "HBoxModel",
            "_view_count": null,
            "_view_module": "@jupyter-widgets/controls",
            "_view_module_version": "1.5.0",
            "_view_name": "HBoxView",
            "box_style": "",
            "children": [
              "IPY_MODEL_a6196e4fd42d47c88146d7c28f3620fc",
              "IPY_MODEL_5beb1a2de6894ba7a5ff45f5c52bb279",
              "IPY_MODEL_c4ab44174f8348c09ca830426f368ef9"
            ],
            "layout": "IPY_MODEL_956f6e3b0b0c4d4f9b2bcb539d97d449"
          }
        },
        "a6196e4fd42d47c88146d7c28f3620fc": {
          "model_module": "@jupyter-widgets/controls",
          "model_name": "HTMLModel",
          "model_module_version": "1.5.0",
          "state": {
            "_dom_classes": [],
            "_model_module": "@jupyter-widgets/controls",
            "_model_module_version": "1.5.0",
            "_model_name": "HTMLModel",
            "_view_count": null,
            "_view_module": "@jupyter-widgets/controls",
            "_view_module_version": "1.5.0",
            "_view_name": "HTMLView",
            "description": "",
            "description_tooltip": null,
            "layout": "IPY_MODEL_edf8ff49b23a466d929153cef92d8fca",
            "placeholder": "​",
            "style": "IPY_MODEL_394330f6305d4251ab78e9fe5a21e4ce",
            "value": "Iteration: 100%"
          }
        },
        "5beb1a2de6894ba7a5ff45f5c52bb279": {
          "model_module": "@jupyter-widgets/controls",
          "model_name": "FloatProgressModel",
          "model_module_version": "1.5.0",
          "state": {
            "_dom_classes": [],
            "_model_module": "@jupyter-widgets/controls",
            "_model_module_version": "1.5.0",
            "_model_name": "FloatProgressModel",
            "_view_count": null,
            "_view_module": "@jupyter-widgets/controls",
            "_view_module_version": "1.5.0",
            "_view_name": "ProgressView",
            "bar_style": "success",
            "description": "",
            "description_tooltip": null,
            "layout": "IPY_MODEL_48de995d3fd74549a6b4921730f0931d",
            "max": 1312,
            "min": 0,
            "orientation": "horizontal",
            "style": "IPY_MODEL_3c9f1d24ec114ac99e5caefb169affda",
            "value": 1312
          }
        },
        "c4ab44174f8348c09ca830426f368ef9": {
          "model_module": "@jupyter-widgets/controls",
          "model_name": "HTMLModel",
          "model_module_version": "1.5.0",
          "state": {
            "_dom_classes": [],
            "_model_module": "@jupyter-widgets/controls",
            "_model_module_version": "1.5.0",
            "_model_name": "HTMLModel",
            "_view_count": null,
            "_view_module": "@jupyter-widgets/controls",
            "_view_module_version": "1.5.0",
            "_view_name": "HTMLView",
            "description": "",
            "description_tooltip": null,
            "layout": "IPY_MODEL_60e8633ca2d942cc9c9ec9e954046cce",
            "placeholder": "​",
            "style": "IPY_MODEL_1282a91828d749c98e3284e9ba991f43",
            "value": " 1312/1312 [04:15&lt;00:00,  3.26it/s]"
          }
        },
        "956f6e3b0b0c4d4f9b2bcb539d97d449": {
          "model_module": "@jupyter-widgets/base",
          "model_name": "LayoutModel",
          "model_module_version": "1.2.0",
          "state": {
            "_model_module": "@jupyter-widgets/base",
            "_model_module_version": "1.2.0",
            "_model_name": "LayoutModel",
            "_view_count": null,
            "_view_module": "@jupyter-widgets/base",
            "_view_module_version": "1.2.0",
            "_view_name": "LayoutView",
            "align_content": null,
            "align_items": null,
            "align_self": null,
            "border": null,
            "bottom": null,
            "display": null,
            "flex": null,
            "flex_flow": null,
            "grid_area": null,
            "grid_auto_columns": null,
            "grid_auto_flow": null,
            "grid_auto_rows": null,
            "grid_column": null,
            "grid_gap": null,
            "grid_row": null,
            "grid_template_areas": null,
            "grid_template_columns": null,
            "grid_template_rows": null,
            "height": null,
            "justify_content": null,
            "justify_items": null,
            "left": null,
            "margin": null,
            "max_height": null,
            "max_width": null,
            "min_height": null,
            "min_width": null,
            "object_fit": null,
            "object_position": null,
            "order": null,
            "overflow": null,
            "overflow_x": null,
            "overflow_y": null,
            "padding": null,
            "right": null,
            "top": null,
            "visibility": null,
            "width": null
          }
        },
        "edf8ff49b23a466d929153cef92d8fca": {
          "model_module": "@jupyter-widgets/base",
          "model_name": "LayoutModel",
          "model_module_version": "1.2.0",
          "state": {
            "_model_module": "@jupyter-widgets/base",
            "_model_module_version": "1.2.0",
            "_model_name": "LayoutModel",
            "_view_count": null,
            "_view_module": "@jupyter-widgets/base",
            "_view_module_version": "1.2.0",
            "_view_name": "LayoutView",
            "align_content": null,
            "align_items": null,
            "align_self": null,
            "border": null,
            "bottom": null,
            "display": null,
            "flex": null,
            "flex_flow": null,
            "grid_area": null,
            "grid_auto_columns": null,
            "grid_auto_flow": null,
            "grid_auto_rows": null,
            "grid_column": null,
            "grid_gap": null,
            "grid_row": null,
            "grid_template_areas": null,
            "grid_template_columns": null,
            "grid_template_rows": null,
            "height": null,
            "justify_content": null,
            "justify_items": null,
            "left": null,
            "margin": null,
            "max_height": null,
            "max_width": null,
            "min_height": null,
            "min_width": null,
            "object_fit": null,
            "object_position": null,
            "order": null,
            "overflow": null,
            "overflow_x": null,
            "overflow_y": null,
            "padding": null,
            "right": null,
            "top": null,
            "visibility": null,
            "width": null
          }
        },
        "394330f6305d4251ab78e9fe5a21e4ce": {
          "model_module": "@jupyter-widgets/controls",
          "model_name": "DescriptionStyleModel",
          "model_module_version": "1.5.0",
          "state": {
            "_model_module": "@jupyter-widgets/controls",
            "_model_module_version": "1.5.0",
            "_model_name": "DescriptionStyleModel",
            "_view_count": null,
            "_view_module": "@jupyter-widgets/base",
            "_view_module_version": "1.2.0",
            "_view_name": "StyleView",
            "description_width": ""
          }
        },
        "48de995d3fd74549a6b4921730f0931d": {
          "model_module": "@jupyter-widgets/base",
          "model_name": "LayoutModel",
          "model_module_version": "1.2.0",
          "state": {
            "_model_module": "@jupyter-widgets/base",
            "_model_module_version": "1.2.0",
            "_model_name": "LayoutModel",
            "_view_count": null,
            "_view_module": "@jupyter-widgets/base",
            "_view_module_version": "1.2.0",
            "_view_name": "LayoutView",
            "align_content": null,
            "align_items": null,
            "align_self": null,
            "border": null,
            "bottom": null,
            "display": null,
            "flex": null,
            "flex_flow": null,
            "grid_area": null,
            "grid_auto_columns": null,
            "grid_auto_flow": null,
            "grid_auto_rows": null,
            "grid_column": null,
            "grid_gap": null,
            "grid_row": null,
            "grid_template_areas": null,
            "grid_template_columns": null,
            "grid_template_rows": null,
            "height": null,
            "justify_content": null,
            "justify_items": null,
            "left": null,
            "margin": null,
            "max_height": null,
            "max_width": null,
            "min_height": null,
            "min_width": null,
            "object_fit": null,
            "object_position": null,
            "order": null,
            "overflow": null,
            "overflow_x": null,
            "overflow_y": null,
            "padding": null,
            "right": null,
            "top": null,
            "visibility": null,
            "width": null
          }
        },
        "3c9f1d24ec114ac99e5caefb169affda": {
          "model_module": "@jupyter-widgets/controls",
          "model_name": "ProgressStyleModel",
          "model_module_version": "1.5.0",
          "state": {
            "_model_module": "@jupyter-widgets/controls",
            "_model_module_version": "1.5.0",
            "_model_name": "ProgressStyleModel",
            "_view_count": null,
            "_view_module": "@jupyter-widgets/base",
            "_view_module_version": "1.2.0",
            "_view_name": "StyleView",
            "bar_color": null,
            "description_width": ""
          }
        },
        "60e8633ca2d942cc9c9ec9e954046cce": {
          "model_module": "@jupyter-widgets/base",
          "model_name": "LayoutModel",
          "model_module_version": "1.2.0",
          "state": {
            "_model_module": "@jupyter-widgets/base",
            "_model_module_version": "1.2.0",
            "_model_name": "LayoutModel",
            "_view_count": null,
            "_view_module": "@jupyter-widgets/base",
            "_view_module_version": "1.2.0",
            "_view_name": "LayoutView",
            "align_content": null,
            "align_items": null,
            "align_self": null,
            "border": null,
            "bottom": null,
            "display": null,
            "flex": null,
            "flex_flow": null,
            "grid_area": null,
            "grid_auto_columns": null,
            "grid_auto_flow": null,
            "grid_auto_rows": null,
            "grid_column": null,
            "grid_gap": null,
            "grid_row": null,
            "grid_template_areas": null,
            "grid_template_columns": null,
            "grid_template_rows": null,
            "height": null,
            "justify_content": null,
            "justify_items": null,
            "left": null,
            "margin": null,
            "max_height": null,
            "max_width": null,
            "min_height": null,
            "min_width": null,
            "object_fit": null,
            "object_position": null,
            "order": null,
            "overflow": null,
            "overflow_x": null,
            "overflow_y": null,
            "padding": null,
            "right": null,
            "top": null,
            "visibility": null,
            "width": null
          }
        },
        "1282a91828d749c98e3284e9ba991f43": {
          "model_module": "@jupyter-widgets/controls",
          "model_name": "DescriptionStyleModel",
          "model_module_version": "1.5.0",
          "state": {
            "_model_module": "@jupyter-widgets/controls",
            "_model_module_version": "1.5.0",
            "_model_name": "DescriptionStyleModel",
            "_view_count": null,
            "_view_module": "@jupyter-widgets/base",
            "_view_module_version": "1.2.0",
            "_view_name": "StyleView",
            "description_width": ""
          }
        },
        "e8ed81b8dd764b2c87849d7827f856b1": {
          "model_module": "@jupyter-widgets/controls",
          "model_name": "HBoxModel",
          "model_module_version": "1.5.0",
          "state": {
            "_dom_classes": [],
            "_model_module": "@jupyter-widgets/controls",
            "_model_module_version": "1.5.0",
            "_model_name": "HBoxModel",
            "_view_count": null,
            "_view_module": "@jupyter-widgets/controls",
            "_view_module_version": "1.5.0",
            "_view_name": "HBoxView",
            "box_style": "",
            "children": [
              "IPY_MODEL_9cf39fc64f9c431691b8a7f92bc096c3",
              "IPY_MODEL_6a17967a919b4a6192559fab03b7c2da",
              "IPY_MODEL_22212fd1a2054cc788cd6b9051764e1e"
            ],
            "layout": "IPY_MODEL_e772b102d31748d6af762cc554562fec"
          }
        },
        "9cf39fc64f9c431691b8a7f92bc096c3": {
          "model_module": "@jupyter-widgets/controls",
          "model_name": "HTMLModel",
          "model_module_version": "1.5.0",
          "state": {
            "_dom_classes": [],
            "_model_module": "@jupyter-widgets/controls",
            "_model_module_version": "1.5.0",
            "_model_name": "HTMLModel",
            "_view_count": null,
            "_view_module": "@jupyter-widgets/controls",
            "_view_module_version": "1.5.0",
            "_view_name": "HTMLView",
            "description": "",
            "description_tooltip": null,
            "layout": "IPY_MODEL_f17b70cc1d86471c84dd63a5c9a716d1",
            "placeholder": "​",
            "style": "IPY_MODEL_c2892a3b6d8f43709ecc196b1577dea4",
            "value": "Iteration: 100%"
          }
        },
        "6a17967a919b4a6192559fab03b7c2da": {
          "model_module": "@jupyter-widgets/controls",
          "model_name": "FloatProgressModel",
          "model_module_version": "1.5.0",
          "state": {
            "_dom_classes": [],
            "_model_module": "@jupyter-widgets/controls",
            "_model_module_version": "1.5.0",
            "_model_name": "FloatProgressModel",
            "_view_count": null,
            "_view_module": "@jupyter-widgets/controls",
            "_view_module_version": "1.5.0",
            "_view_name": "ProgressView",
            "bar_style": "success",
            "description": "",
            "description_tooltip": null,
            "layout": "IPY_MODEL_ca0d5a84f0e94da68d0d6a23e5b0a734",
            "max": 1312,
            "min": 0,
            "orientation": "horizontal",
            "style": "IPY_MODEL_c4a03fb114b349c6a344e3b8bebb5318",
            "value": 1312
          }
        },
        "22212fd1a2054cc788cd6b9051764e1e": {
          "model_module": "@jupyter-widgets/controls",
          "model_name": "HTMLModel",
          "model_module_version": "1.5.0",
          "state": {
            "_dom_classes": [],
            "_model_module": "@jupyter-widgets/controls",
            "_model_module_version": "1.5.0",
            "_model_name": "HTMLModel",
            "_view_count": null,
            "_view_module": "@jupyter-widgets/controls",
            "_view_module_version": "1.5.0",
            "_view_name": "HTMLView",
            "description": "",
            "description_tooltip": null,
            "layout": "IPY_MODEL_7bfcd0193cde4a588ba4c1020a660d95",
            "placeholder": "​",
            "style": "IPY_MODEL_c14d0c2f93ad42dab778aa0f42735da6",
            "value": " 1312/1312 [04:12&lt;00:00,  3.26it/s]"
          }
        },
        "e772b102d31748d6af762cc554562fec": {
          "model_module": "@jupyter-widgets/base",
          "model_name": "LayoutModel",
          "model_module_version": "1.2.0",
          "state": {
            "_model_module": "@jupyter-widgets/base",
            "_model_module_version": "1.2.0",
            "_model_name": "LayoutModel",
            "_view_count": null,
            "_view_module": "@jupyter-widgets/base",
            "_view_module_version": "1.2.0",
            "_view_name": "LayoutView",
            "align_content": null,
            "align_items": null,
            "align_self": null,
            "border": null,
            "bottom": null,
            "display": null,
            "flex": null,
            "flex_flow": null,
            "grid_area": null,
            "grid_auto_columns": null,
            "grid_auto_flow": null,
            "grid_auto_rows": null,
            "grid_column": null,
            "grid_gap": null,
            "grid_row": null,
            "grid_template_areas": null,
            "grid_template_columns": null,
            "grid_template_rows": null,
            "height": null,
            "justify_content": null,
            "justify_items": null,
            "left": null,
            "margin": null,
            "max_height": null,
            "max_width": null,
            "min_height": null,
            "min_width": null,
            "object_fit": null,
            "object_position": null,
            "order": null,
            "overflow": null,
            "overflow_x": null,
            "overflow_y": null,
            "padding": null,
            "right": null,
            "top": null,
            "visibility": null,
            "width": null
          }
        },
        "f17b70cc1d86471c84dd63a5c9a716d1": {
          "model_module": "@jupyter-widgets/base",
          "model_name": "LayoutModel",
          "model_module_version": "1.2.0",
          "state": {
            "_model_module": "@jupyter-widgets/base",
            "_model_module_version": "1.2.0",
            "_model_name": "LayoutModel",
            "_view_count": null,
            "_view_module": "@jupyter-widgets/base",
            "_view_module_version": "1.2.0",
            "_view_name": "LayoutView",
            "align_content": null,
            "align_items": null,
            "align_self": null,
            "border": null,
            "bottom": null,
            "display": null,
            "flex": null,
            "flex_flow": null,
            "grid_area": null,
            "grid_auto_columns": null,
            "grid_auto_flow": null,
            "grid_auto_rows": null,
            "grid_column": null,
            "grid_gap": null,
            "grid_row": null,
            "grid_template_areas": null,
            "grid_template_columns": null,
            "grid_template_rows": null,
            "height": null,
            "justify_content": null,
            "justify_items": null,
            "left": null,
            "margin": null,
            "max_height": null,
            "max_width": null,
            "min_height": null,
            "min_width": null,
            "object_fit": null,
            "object_position": null,
            "order": null,
            "overflow": null,
            "overflow_x": null,
            "overflow_y": null,
            "padding": null,
            "right": null,
            "top": null,
            "visibility": null,
            "width": null
          }
        },
        "c2892a3b6d8f43709ecc196b1577dea4": {
          "model_module": "@jupyter-widgets/controls",
          "model_name": "DescriptionStyleModel",
          "model_module_version": "1.5.0",
          "state": {
            "_model_module": "@jupyter-widgets/controls",
            "_model_module_version": "1.5.0",
            "_model_name": "DescriptionStyleModel",
            "_view_count": null,
            "_view_module": "@jupyter-widgets/base",
            "_view_module_version": "1.2.0",
            "_view_name": "StyleView",
            "description_width": ""
          }
        },
        "ca0d5a84f0e94da68d0d6a23e5b0a734": {
          "model_module": "@jupyter-widgets/base",
          "model_name": "LayoutModel",
          "model_module_version": "1.2.0",
          "state": {
            "_model_module": "@jupyter-widgets/base",
            "_model_module_version": "1.2.0",
            "_model_name": "LayoutModel",
            "_view_count": null,
            "_view_module": "@jupyter-widgets/base",
            "_view_module_version": "1.2.0",
            "_view_name": "LayoutView",
            "align_content": null,
            "align_items": null,
            "align_self": null,
            "border": null,
            "bottom": null,
            "display": null,
            "flex": null,
            "flex_flow": null,
            "grid_area": null,
            "grid_auto_columns": null,
            "grid_auto_flow": null,
            "grid_auto_rows": null,
            "grid_column": null,
            "grid_gap": null,
            "grid_row": null,
            "grid_template_areas": null,
            "grid_template_columns": null,
            "grid_template_rows": null,
            "height": null,
            "justify_content": null,
            "justify_items": null,
            "left": null,
            "margin": null,
            "max_height": null,
            "max_width": null,
            "min_height": null,
            "min_width": null,
            "object_fit": null,
            "object_position": null,
            "order": null,
            "overflow": null,
            "overflow_x": null,
            "overflow_y": null,
            "padding": null,
            "right": null,
            "top": null,
            "visibility": null,
            "width": null
          }
        },
        "c4a03fb114b349c6a344e3b8bebb5318": {
          "model_module": "@jupyter-widgets/controls",
          "model_name": "ProgressStyleModel",
          "model_module_version": "1.5.0",
          "state": {
            "_model_module": "@jupyter-widgets/controls",
            "_model_module_version": "1.5.0",
            "_model_name": "ProgressStyleModel",
            "_view_count": null,
            "_view_module": "@jupyter-widgets/base",
            "_view_module_version": "1.2.0",
            "_view_name": "StyleView",
            "bar_color": null,
            "description_width": ""
          }
        },
        "7bfcd0193cde4a588ba4c1020a660d95": {
          "model_module": "@jupyter-widgets/base",
          "model_name": "LayoutModel",
          "model_module_version": "1.2.0",
          "state": {
            "_model_module": "@jupyter-widgets/base",
            "_model_module_version": "1.2.0",
            "_model_name": "LayoutModel",
            "_view_count": null,
            "_view_module": "@jupyter-widgets/base",
            "_view_module_version": "1.2.0",
            "_view_name": "LayoutView",
            "align_content": null,
            "align_items": null,
            "align_self": null,
            "border": null,
            "bottom": null,
            "display": null,
            "flex": null,
            "flex_flow": null,
            "grid_area": null,
            "grid_auto_columns": null,
            "grid_auto_flow": null,
            "grid_auto_rows": null,
            "grid_column": null,
            "grid_gap": null,
            "grid_row": null,
            "grid_template_areas": null,
            "grid_template_columns": null,
            "grid_template_rows": null,
            "height": null,
            "justify_content": null,
            "justify_items": null,
            "left": null,
            "margin": null,
            "max_height": null,
            "max_width": null,
            "min_height": null,
            "min_width": null,
            "object_fit": null,
            "object_position": null,
            "order": null,
            "overflow": null,
            "overflow_x": null,
            "overflow_y": null,
            "padding": null,
            "right": null,
            "top": null,
            "visibility": null,
            "width": null
          }
        },
        "c14d0c2f93ad42dab778aa0f42735da6": {
          "model_module": "@jupyter-widgets/controls",
          "model_name": "DescriptionStyleModel",
          "model_module_version": "1.5.0",
          "state": {
            "_model_module": "@jupyter-widgets/controls",
            "_model_module_version": "1.5.0",
            "_model_name": "DescriptionStyleModel",
            "_view_count": null,
            "_view_module": "@jupyter-widgets/base",
            "_view_module_version": "1.2.0",
            "_view_name": "StyleView",
            "description_width": ""
          }
        },
        "07c660b3c6214245860fa6b2fc482a05": {
          "model_module": "@jupyter-widgets/controls",
          "model_name": "HBoxModel",
          "model_module_version": "1.5.0",
          "state": {
            "_dom_classes": [],
            "_model_module": "@jupyter-widgets/controls",
            "_model_module_version": "1.5.0",
            "_model_name": "HBoxModel",
            "_view_count": null,
            "_view_module": "@jupyter-widgets/controls",
            "_view_module_version": "1.5.0",
            "_view_name": "HBoxView",
            "box_style": "",
            "children": [
              "IPY_MODEL_e7b4c25acb03474087772480da16cbe4",
              "IPY_MODEL_db5a07f98c8d453eaa3e733459cd00d7",
              "IPY_MODEL_8783f7e3a0a34ae78f69c74d24f02b40"
            ],
            "layout": "IPY_MODEL_a54149357e974163bed8d907758f8294"
          }
        },
        "e7b4c25acb03474087772480da16cbe4": {
          "model_module": "@jupyter-widgets/controls",
          "model_name": "HTMLModel",
          "model_module_version": "1.5.0",
          "state": {
            "_dom_classes": [],
            "_model_module": "@jupyter-widgets/controls",
            "_model_module_version": "1.5.0",
            "_model_name": "HTMLModel",
            "_view_count": null,
            "_view_module": "@jupyter-widgets/controls",
            "_view_module_version": "1.5.0",
            "_view_name": "HTMLView",
            "description": "",
            "description_tooltip": null,
            "layout": "IPY_MODEL_27f18c38d1f84dffad05bb07462070a8",
            "placeholder": "​",
            "style": "IPY_MODEL_d012097bb09a438ea10b889a457b039a",
            "value": "Iteration: 100%"
          }
        },
        "db5a07f98c8d453eaa3e733459cd00d7": {
          "model_module": "@jupyter-widgets/controls",
          "model_name": "FloatProgressModel",
          "model_module_version": "1.5.0",
          "state": {
            "_dom_classes": [],
            "_model_module": "@jupyter-widgets/controls",
            "_model_module_version": "1.5.0",
            "_model_name": "FloatProgressModel",
            "_view_count": null,
            "_view_module": "@jupyter-widgets/controls",
            "_view_module_version": "1.5.0",
            "_view_name": "ProgressView",
            "bar_style": "success",
            "description": "",
            "description_tooltip": null,
            "layout": "IPY_MODEL_7546b11914984ce3ae6add687adb6bb8",
            "max": 1312,
            "min": 0,
            "orientation": "horizontal",
            "style": "IPY_MODEL_37af39562cb643d190361047823c8f82",
            "value": 1312
          }
        },
        "8783f7e3a0a34ae78f69c74d24f02b40": {
          "model_module": "@jupyter-widgets/controls",
          "model_name": "HTMLModel",
          "model_module_version": "1.5.0",
          "state": {
            "_dom_classes": [],
            "_model_module": "@jupyter-widgets/controls",
            "_model_module_version": "1.5.0",
            "_model_name": "HTMLModel",
            "_view_count": null,
            "_view_module": "@jupyter-widgets/controls",
            "_view_module_version": "1.5.0",
            "_view_name": "HTMLView",
            "description": "",
            "description_tooltip": null,
            "layout": "IPY_MODEL_e135ee3596264268bffd1fd5a649656b",
            "placeholder": "​",
            "style": "IPY_MODEL_cf84ddfcd1174894a609426df51fae81",
            "value": " 1312/1312 [04:13&lt;00:00,  3.27it/s]"
          }
        },
        "a54149357e974163bed8d907758f8294": {
          "model_module": "@jupyter-widgets/base",
          "model_name": "LayoutModel",
          "model_module_version": "1.2.0",
          "state": {
            "_model_module": "@jupyter-widgets/base",
            "_model_module_version": "1.2.0",
            "_model_name": "LayoutModel",
            "_view_count": null,
            "_view_module": "@jupyter-widgets/base",
            "_view_module_version": "1.2.0",
            "_view_name": "LayoutView",
            "align_content": null,
            "align_items": null,
            "align_self": null,
            "border": null,
            "bottom": null,
            "display": null,
            "flex": null,
            "flex_flow": null,
            "grid_area": null,
            "grid_auto_columns": null,
            "grid_auto_flow": null,
            "grid_auto_rows": null,
            "grid_column": null,
            "grid_gap": null,
            "grid_row": null,
            "grid_template_areas": null,
            "grid_template_columns": null,
            "grid_template_rows": null,
            "height": null,
            "justify_content": null,
            "justify_items": null,
            "left": null,
            "margin": null,
            "max_height": null,
            "max_width": null,
            "min_height": null,
            "min_width": null,
            "object_fit": null,
            "object_position": null,
            "order": null,
            "overflow": null,
            "overflow_x": null,
            "overflow_y": null,
            "padding": null,
            "right": null,
            "top": null,
            "visibility": null,
            "width": null
          }
        },
        "27f18c38d1f84dffad05bb07462070a8": {
          "model_module": "@jupyter-widgets/base",
          "model_name": "LayoutModel",
          "model_module_version": "1.2.0",
          "state": {
            "_model_module": "@jupyter-widgets/base",
            "_model_module_version": "1.2.0",
            "_model_name": "LayoutModel",
            "_view_count": null,
            "_view_module": "@jupyter-widgets/base",
            "_view_module_version": "1.2.0",
            "_view_name": "LayoutView",
            "align_content": null,
            "align_items": null,
            "align_self": null,
            "border": null,
            "bottom": null,
            "display": null,
            "flex": null,
            "flex_flow": null,
            "grid_area": null,
            "grid_auto_columns": null,
            "grid_auto_flow": null,
            "grid_auto_rows": null,
            "grid_column": null,
            "grid_gap": null,
            "grid_row": null,
            "grid_template_areas": null,
            "grid_template_columns": null,
            "grid_template_rows": null,
            "height": null,
            "justify_content": null,
            "justify_items": null,
            "left": null,
            "margin": null,
            "max_height": null,
            "max_width": null,
            "min_height": null,
            "min_width": null,
            "object_fit": null,
            "object_position": null,
            "order": null,
            "overflow": null,
            "overflow_x": null,
            "overflow_y": null,
            "padding": null,
            "right": null,
            "top": null,
            "visibility": null,
            "width": null
          }
        },
        "d012097bb09a438ea10b889a457b039a": {
          "model_module": "@jupyter-widgets/controls",
          "model_name": "DescriptionStyleModel",
          "model_module_version": "1.5.0",
          "state": {
            "_model_module": "@jupyter-widgets/controls",
            "_model_module_version": "1.5.0",
            "_model_name": "DescriptionStyleModel",
            "_view_count": null,
            "_view_module": "@jupyter-widgets/base",
            "_view_module_version": "1.2.0",
            "_view_name": "StyleView",
            "description_width": ""
          }
        },
        "7546b11914984ce3ae6add687adb6bb8": {
          "model_module": "@jupyter-widgets/base",
          "model_name": "LayoutModel",
          "model_module_version": "1.2.0",
          "state": {
            "_model_module": "@jupyter-widgets/base",
            "_model_module_version": "1.2.0",
            "_model_name": "LayoutModel",
            "_view_count": null,
            "_view_module": "@jupyter-widgets/base",
            "_view_module_version": "1.2.0",
            "_view_name": "LayoutView",
            "align_content": null,
            "align_items": null,
            "align_self": null,
            "border": null,
            "bottom": null,
            "display": null,
            "flex": null,
            "flex_flow": null,
            "grid_area": null,
            "grid_auto_columns": null,
            "grid_auto_flow": null,
            "grid_auto_rows": null,
            "grid_column": null,
            "grid_gap": null,
            "grid_row": null,
            "grid_template_areas": null,
            "grid_template_columns": null,
            "grid_template_rows": null,
            "height": null,
            "justify_content": null,
            "justify_items": null,
            "left": null,
            "margin": null,
            "max_height": null,
            "max_width": null,
            "min_height": null,
            "min_width": null,
            "object_fit": null,
            "object_position": null,
            "order": null,
            "overflow": null,
            "overflow_x": null,
            "overflow_y": null,
            "padding": null,
            "right": null,
            "top": null,
            "visibility": null,
            "width": null
          }
        },
        "37af39562cb643d190361047823c8f82": {
          "model_module": "@jupyter-widgets/controls",
          "model_name": "ProgressStyleModel",
          "model_module_version": "1.5.0",
          "state": {
            "_model_module": "@jupyter-widgets/controls",
            "_model_module_version": "1.5.0",
            "_model_name": "ProgressStyleModel",
            "_view_count": null,
            "_view_module": "@jupyter-widgets/base",
            "_view_module_version": "1.2.0",
            "_view_name": "StyleView",
            "bar_color": null,
            "description_width": ""
          }
        },
        "e135ee3596264268bffd1fd5a649656b": {
          "model_module": "@jupyter-widgets/base",
          "model_name": "LayoutModel",
          "model_module_version": "1.2.0",
          "state": {
            "_model_module": "@jupyter-widgets/base",
            "_model_module_version": "1.2.0",
            "_model_name": "LayoutModel",
            "_view_count": null,
            "_view_module": "@jupyter-widgets/base",
            "_view_module_version": "1.2.0",
            "_view_name": "LayoutView",
            "align_content": null,
            "align_items": null,
            "align_self": null,
            "border": null,
            "bottom": null,
            "display": null,
            "flex": null,
            "flex_flow": null,
            "grid_area": null,
            "grid_auto_columns": null,
            "grid_auto_flow": null,
            "grid_auto_rows": null,
            "grid_column": null,
            "grid_gap": null,
            "grid_row": null,
            "grid_template_areas": null,
            "grid_template_columns": null,
            "grid_template_rows": null,
            "height": null,
            "justify_content": null,
            "justify_items": null,
            "left": null,
            "margin": null,
            "max_height": null,
            "max_width": null,
            "min_height": null,
            "min_width": null,
            "object_fit": null,
            "object_position": null,
            "order": null,
            "overflow": null,
            "overflow_x": null,
            "overflow_y": null,
            "padding": null,
            "right": null,
            "top": null,
            "visibility": null,
            "width": null
          }
        },
        "cf84ddfcd1174894a609426df51fae81": {
          "model_module": "@jupyter-widgets/controls",
          "model_name": "DescriptionStyleModel",
          "model_module_version": "1.5.0",
          "state": {
            "_model_module": "@jupyter-widgets/controls",
            "_model_module_version": "1.5.0",
            "_model_name": "DescriptionStyleModel",
            "_view_count": null,
            "_view_module": "@jupyter-widgets/base",
            "_view_module_version": "1.2.0",
            "_view_name": "StyleView",
            "description_width": ""
          }
        },
        "98d22f91ae6a4df695e3791a9bd4ec3e": {
          "model_module": "@jupyter-widgets/controls",
          "model_name": "VBoxModel",
          "model_module_version": "1.5.0",
          "state": {
            "_dom_classes": [],
            "_model_module": "@jupyter-widgets/controls",
            "_model_module_version": "1.5.0",
            "_model_name": "VBoxModel",
            "_view_count": null,
            "_view_module": "@jupyter-widgets/controls",
            "_view_module_version": "1.5.0",
            "_view_name": "VBoxView",
            "box_style": "",
            "children": [
              "IPY_MODEL_dad6c26847ce46498582e87848352291",
              "IPY_MODEL_16b30fe1bc1f40c889e2d0b094a78568"
            ],
            "layout": "IPY_MODEL_5958d371bc1449b893dab7e4b01fead0"
          }
        },
        "dad6c26847ce46498582e87848352291": {
          "model_module": "@jupyter-widgets/controls",
          "model_name": "LabelModel",
          "model_module_version": "1.5.0",
          "state": {
            "_dom_classes": [],
            "_model_module": "@jupyter-widgets/controls",
            "_model_module_version": "1.5.0",
            "_model_name": "LabelModel",
            "_view_count": null,
            "_view_module": "@jupyter-widgets/controls",
            "_view_module_version": "1.5.0",
            "_view_name": "LabelView",
            "description": "",
            "description_tooltip": null,
            "layout": "IPY_MODEL_8af2abcd06a74e05a03b0b7cd8cae6a1",
            "placeholder": "​",
            "style": "IPY_MODEL_ce99d9fff73a417b833b1c2d284efe88",
            "value": "0.025 MB of 0.025 MB uploaded (0.000 MB deduped)\r"
          }
        },
        "16b30fe1bc1f40c889e2d0b094a78568": {
          "model_module": "@jupyter-widgets/controls",
          "model_name": "FloatProgressModel",
          "model_module_version": "1.5.0",
          "state": {
            "_dom_classes": [],
            "_model_module": "@jupyter-widgets/controls",
            "_model_module_version": "1.5.0",
            "_model_name": "FloatProgressModel",
            "_view_count": null,
            "_view_module": "@jupyter-widgets/controls",
            "_view_module_version": "1.5.0",
            "_view_name": "ProgressView",
            "bar_style": "",
            "description": "",
            "description_tooltip": null,
            "layout": "IPY_MODEL_42dfa53556d345f196fe52c42eadaae3",
            "max": 1,
            "min": 0,
            "orientation": "horizontal",
            "style": "IPY_MODEL_56dc0dc35301466b9a24583da5e30681",
            "value": 1
          }
        },
        "5958d371bc1449b893dab7e4b01fead0": {
          "model_module": "@jupyter-widgets/base",
          "model_name": "LayoutModel",
          "model_module_version": "1.2.0",
          "state": {
            "_model_module": "@jupyter-widgets/base",
            "_model_module_version": "1.2.0",
            "_model_name": "LayoutModel",
            "_view_count": null,
            "_view_module": "@jupyter-widgets/base",
            "_view_module_version": "1.2.0",
            "_view_name": "LayoutView",
            "align_content": null,
            "align_items": null,
            "align_self": null,
            "border": null,
            "bottom": null,
            "display": null,
            "flex": null,
            "flex_flow": null,
            "grid_area": null,
            "grid_auto_columns": null,
            "grid_auto_flow": null,
            "grid_auto_rows": null,
            "grid_column": null,
            "grid_gap": null,
            "grid_row": null,
            "grid_template_areas": null,
            "grid_template_columns": null,
            "grid_template_rows": null,
            "height": null,
            "justify_content": null,
            "justify_items": null,
            "left": null,
            "margin": null,
            "max_height": null,
            "max_width": null,
            "min_height": null,
            "min_width": null,
            "object_fit": null,
            "object_position": null,
            "order": null,
            "overflow": null,
            "overflow_x": null,
            "overflow_y": null,
            "padding": null,
            "right": null,
            "top": null,
            "visibility": null,
            "width": null
          }
        },
        "8af2abcd06a74e05a03b0b7cd8cae6a1": {
          "model_module": "@jupyter-widgets/base",
          "model_name": "LayoutModel",
          "model_module_version": "1.2.0",
          "state": {
            "_model_module": "@jupyter-widgets/base",
            "_model_module_version": "1.2.0",
            "_model_name": "LayoutModel",
            "_view_count": null,
            "_view_module": "@jupyter-widgets/base",
            "_view_module_version": "1.2.0",
            "_view_name": "LayoutView",
            "align_content": null,
            "align_items": null,
            "align_self": null,
            "border": null,
            "bottom": null,
            "display": null,
            "flex": null,
            "flex_flow": null,
            "grid_area": null,
            "grid_auto_columns": null,
            "grid_auto_flow": null,
            "grid_auto_rows": null,
            "grid_column": null,
            "grid_gap": null,
            "grid_row": null,
            "grid_template_areas": null,
            "grid_template_columns": null,
            "grid_template_rows": null,
            "height": null,
            "justify_content": null,
            "justify_items": null,
            "left": null,
            "margin": null,
            "max_height": null,
            "max_width": null,
            "min_height": null,
            "min_width": null,
            "object_fit": null,
            "object_position": null,
            "order": null,
            "overflow": null,
            "overflow_x": null,
            "overflow_y": null,
            "padding": null,
            "right": null,
            "top": null,
            "visibility": null,
            "width": null
          }
        },
        "ce99d9fff73a417b833b1c2d284efe88": {
          "model_module": "@jupyter-widgets/controls",
          "model_name": "DescriptionStyleModel",
          "model_module_version": "1.5.0",
          "state": {
            "_model_module": "@jupyter-widgets/controls",
            "_model_module_version": "1.5.0",
            "_model_name": "DescriptionStyleModel",
            "_view_count": null,
            "_view_module": "@jupyter-widgets/base",
            "_view_module_version": "1.2.0",
            "_view_name": "StyleView",
            "description_width": ""
          }
        },
        "42dfa53556d345f196fe52c42eadaae3": {
          "model_module": "@jupyter-widgets/base",
          "model_name": "LayoutModel",
          "model_module_version": "1.2.0",
          "state": {
            "_model_module": "@jupyter-widgets/base",
            "_model_module_version": "1.2.0",
            "_model_name": "LayoutModel",
            "_view_count": null,
            "_view_module": "@jupyter-widgets/base",
            "_view_module_version": "1.2.0",
            "_view_name": "LayoutView",
            "align_content": null,
            "align_items": null,
            "align_self": null,
            "border": null,
            "bottom": null,
            "display": null,
            "flex": null,
            "flex_flow": null,
            "grid_area": null,
            "grid_auto_columns": null,
            "grid_auto_flow": null,
            "grid_auto_rows": null,
            "grid_column": null,
            "grid_gap": null,
            "grid_row": null,
            "grid_template_areas": null,
            "grid_template_columns": null,
            "grid_template_rows": null,
            "height": null,
            "justify_content": null,
            "justify_items": null,
            "left": null,
            "margin": null,
            "max_height": null,
            "max_width": null,
            "min_height": null,
            "min_width": null,
            "object_fit": null,
            "object_position": null,
            "order": null,
            "overflow": null,
            "overflow_x": null,
            "overflow_y": null,
            "padding": null,
            "right": null,
            "top": null,
            "visibility": null,
            "width": null
          }
        },
        "56dc0dc35301466b9a24583da5e30681": {
          "model_module": "@jupyter-widgets/controls",
          "model_name": "ProgressStyleModel",
          "model_module_version": "1.5.0",
          "state": {
            "_model_module": "@jupyter-widgets/controls",
            "_model_module_version": "1.5.0",
            "_model_name": "ProgressStyleModel",
            "_view_count": null,
            "_view_module": "@jupyter-widgets/base",
            "_view_module_version": "1.2.0",
            "_view_name": "StyleView",
            "bar_color": null,
            "description_width": ""
          }
        }
      }
    }
  },
  "cells": [
    {
      "cell_type": "markdown",
      "source": [
        "# NLU - 문장 유사도 계산 (STS)\n",
        "11팀 조한희 강지호 윤진헌 김예림 김성우 신원지"
      ],
      "metadata": {
        "id": "PXYiNRNvraqJ"
      }
    },
    {
      "cell_type": "markdown",
      "source": [
        "## Overview"
      ],
      "metadata": {
        "id": "vrkOgbiP6fvZ"
      }
    },
    {
      "cell_type": "markdown",
      "source": [
        "\n",
        "```bash\n",
        "|-- README.md\n",
        "|-- data\n",
        "|   |-- NIKLex_synonym.tsv # Easy Data Agumentation 용\n",
        "|   |-- STS_backtranslation.csv # train data를 Back translate 한 파일\n",
        "|   |-- STS_test.csv # klue-sts dev set\n",
        "|   |-- STS_train.csv # 원본 klue sts + Back Translation으로 증강된 데이터\n",
        "|   |-- STS_valid.csv \n",
        "|   `-- readme.md\n",
        "|-- data_preprocessing\n",
        "|   |-- __pycache__\n",
        "|   |   |-- cleaning.cpython-37.pyc\n",
        "|   |   |-- eda.cpython-37.pyc\n",
        "|   |   `-- preprocessing.cpython-37.pyc\n",
        "|   |-- back_trans.py # Pororo 기반 backtranslation \n",
        "|   |-- cleaning.py # Data Cleaing 불용어 제거\n",
        "|   |-- eda.py # EDA : Synonym Replacement , Random Insertion, Random Swap Random Deletion 수행\n",
        "|   `-- preprocessing.py # Cleaning, EDA, Back Translation 순차적으로 수행\n",
        "|-- NLU_STS.ipynb # 시연용 실행 파일\n",
        "|-- model\n",
        "|   `-- logging_model.py # hyperparmeter tuning을 위해 수정한 class 파일\n",
        "|-- model_files # 모델 파일이 저장되는 경로\n",
        "|   `-- readme.md\n",
        "`-- sts_dev_set _final.csv # 최종 모델로 생성한 예측값\n",
        "\n",
        "```"
      ],
      "metadata": {
        "id": "-EIt4GT-7Mzj"
      }
    },
    {
      "cell_type": "markdown",
      "source": [
        "## SetUp"
      ],
      "metadata": {
        "id": "0Iy9plOZranl"
      }
    },
    {
      "cell_type": "code",
      "source": [
        "!git clone https://github.com/seawavve/NLU_STS\n",
        "%cd NLU_STS"
      ],
      "metadata": {
        "colab": {
          "base_uri": "https://localhost:8080/"
        },
        "id": "4npTQTYmMCvY",
        "outputId": "ef06e9bb-79e3-4bef-8ae6-649e1538cc49"
      },
      "execution_count": null,
      "outputs": [
        {
          "output_type": "stream",
          "name": "stdout",
          "text": [
            "Cloning into 'NLU_STS'...\n",
            "remote: Enumerating objects: 137, done.\u001b[K\n",
            "remote: Counting objects: 100% (137/137), done.\u001b[K\n",
            "remote: Compressing objects: 100% (129/129), done.\u001b[K\n",
            "remote: Total 137 (delta 60), reused 18 (delta 3), pack-reused 0\u001b[K\n",
            "Receiving objects: 100% (137/137), 5.43 MiB | 3.65 MiB/s, done.\n",
            "Resolving deltas: 100% (60/60), done.\n",
            "/content/NLU_STS\n"
          ]
        }
      ]
    },
    {
      "cell_type": "code",
      "source": [
        "# sentence trainsformer , konlpy wandb 설치\n",
        "!pip install -U sentence-transformers\n",
        "!pip install konlpy\n",
        "!pip install wandb --upgrade"
      ],
      "metadata": {
        "colab": {
          "base_uri": "https://localhost:8080/"
        },
        "id": "agutnt9U1ZT5",
        "outputId": "7fa78ef3-32ca-47ef-e0fb-687cae317511"
      },
      "execution_count": null,
      "outputs": [
        {
          "output_type": "stream",
          "name": "stdout",
          "text": [
            "Collecting sentence-transformers\n",
            "  Downloading sentence-transformers-2.2.0.tar.gz (79 kB)\n",
            "\u001b[K     |████████████████████████████████| 79 kB 4.3 MB/s \n",
            "\u001b[?25hCollecting transformers<5.0.0,>=4.6.0\n",
            "  Downloading transformers-4.17.0-py3-none-any.whl (3.8 MB)\n",
            "\u001b[K     |████████████████████████████████| 3.8 MB 34.0 MB/s \n",
            "\u001b[?25hRequirement already satisfied: tqdm in /usr/local/lib/python3.7/dist-packages (from sentence-transformers) (4.63.0)\n",
            "Requirement already satisfied: torch>=1.6.0 in /usr/local/lib/python3.7/dist-packages (from sentence-transformers) (1.10.0+cu111)\n",
            "Requirement already satisfied: torchvision in /usr/local/lib/python3.7/dist-packages (from sentence-transformers) (0.11.1+cu111)\n",
            "Requirement already satisfied: numpy in /usr/local/lib/python3.7/dist-packages (from sentence-transformers) (1.21.5)\n",
            "Requirement already satisfied: scikit-learn in /usr/local/lib/python3.7/dist-packages (from sentence-transformers) (1.0.2)\n",
            "Requirement already satisfied: scipy in /usr/local/lib/python3.7/dist-packages (from sentence-transformers) (1.4.1)\n",
            "Requirement already satisfied: nltk in /usr/local/lib/python3.7/dist-packages (from sentence-transformers) (3.2.5)\n",
            "Collecting sentencepiece\n",
            "  Downloading sentencepiece-0.1.96-cp37-cp37m-manylinux_2_17_x86_64.manylinux2014_x86_64.whl (1.2 MB)\n",
            "\u001b[K     |████████████████████████████████| 1.2 MB 32.5 MB/s \n",
            "\u001b[?25hCollecting huggingface-hub\n",
            "  Downloading huggingface_hub-0.4.0-py3-none-any.whl (67 kB)\n",
            "\u001b[K     |████████████████████████████████| 67 kB 4.8 MB/s \n",
            "\u001b[?25hRequirement already satisfied: typing-extensions in /usr/local/lib/python3.7/dist-packages (from torch>=1.6.0->sentence-transformers) (3.10.0.2)\n",
            "Requirement already satisfied: regex!=2019.12.17 in /usr/local/lib/python3.7/dist-packages (from transformers<5.0.0,>=4.6.0->sentence-transformers) (2019.12.20)\n",
            "Collecting tokenizers!=0.11.3,>=0.11.1\n",
            "  Downloading tokenizers-0.11.6-cp37-cp37m-manylinux_2_12_x86_64.manylinux2010_x86_64.whl (6.5 MB)\n",
            "\u001b[K     |████████████████████████████████| 6.5 MB 15.7 MB/s \n",
            "\u001b[?25hRequirement already satisfied: filelock in /usr/local/lib/python3.7/dist-packages (from transformers<5.0.0,>=4.6.0->sentence-transformers) (3.6.0)\n",
            "Collecting sacremoses\n",
            "  Downloading sacremoses-0.0.49-py3-none-any.whl (895 kB)\n",
            "\u001b[K     |████████████████████████████████| 895 kB 50.0 MB/s \n",
            "\u001b[?25hRequirement already satisfied: importlib-metadata in /usr/local/lib/python3.7/dist-packages (from transformers<5.0.0,>=4.6.0->sentence-transformers) (4.11.3)\n",
            "Collecting pyyaml>=5.1\n",
            "  Downloading PyYAML-6.0-cp37-cp37m-manylinux_2_5_x86_64.manylinux1_x86_64.manylinux_2_12_x86_64.manylinux2010_x86_64.whl (596 kB)\n",
            "\u001b[K     |████████████████████████████████| 596 kB 38.1 MB/s \n",
            "\u001b[?25hRequirement already satisfied: requests in /usr/local/lib/python3.7/dist-packages (from transformers<5.0.0,>=4.6.0->sentence-transformers) (2.23.0)\n",
            "Requirement already satisfied: packaging>=20.0 in /usr/local/lib/python3.7/dist-packages (from transformers<5.0.0,>=4.6.0->sentence-transformers) (21.3)\n",
            "Requirement already satisfied: pyparsing!=3.0.5,>=2.0.2 in /usr/local/lib/python3.7/dist-packages (from packaging>=20.0->transformers<5.0.0,>=4.6.0->sentence-transformers) (3.0.7)\n",
            "Requirement already satisfied: zipp>=0.5 in /usr/local/lib/python3.7/dist-packages (from importlib-metadata->transformers<5.0.0,>=4.6.0->sentence-transformers) (3.7.0)\n",
            "Requirement already satisfied: six in /usr/local/lib/python3.7/dist-packages (from nltk->sentence-transformers) (1.15.0)\n",
            "Requirement already satisfied: idna<3,>=2.5 in /usr/local/lib/python3.7/dist-packages (from requests->transformers<5.0.0,>=4.6.0->sentence-transformers) (2.10)\n",
            "Requirement already satisfied: certifi>=2017.4.17 in /usr/local/lib/python3.7/dist-packages (from requests->transformers<5.0.0,>=4.6.0->sentence-transformers) (2021.10.8)\n",
            "Requirement already satisfied: urllib3!=1.25.0,!=1.25.1,<1.26,>=1.21.1 in /usr/local/lib/python3.7/dist-packages (from requests->transformers<5.0.0,>=4.6.0->sentence-transformers) (1.24.3)\n",
            "Requirement already satisfied: chardet<4,>=3.0.2 in /usr/local/lib/python3.7/dist-packages (from requests->transformers<5.0.0,>=4.6.0->sentence-transformers) (3.0.4)\n",
            "Requirement already satisfied: joblib in /usr/local/lib/python3.7/dist-packages (from sacremoses->transformers<5.0.0,>=4.6.0->sentence-transformers) (1.1.0)\n",
            "Requirement already satisfied: click in /usr/local/lib/python3.7/dist-packages (from sacremoses->transformers<5.0.0,>=4.6.0->sentence-transformers) (7.1.2)\n",
            "Requirement already satisfied: threadpoolctl>=2.0.0 in /usr/local/lib/python3.7/dist-packages (from scikit-learn->sentence-transformers) (3.1.0)\n",
            "Requirement already satisfied: pillow!=8.3.0,>=5.3.0 in /usr/local/lib/python3.7/dist-packages (from torchvision->sentence-transformers) (7.1.2)\n",
            "Building wheels for collected packages: sentence-transformers\n",
            "  Building wheel for sentence-transformers (setup.py) ... \u001b[?25l\u001b[?25hdone\n",
            "  Created wheel for sentence-transformers: filename=sentence_transformers-2.2.0-py3-none-any.whl size=120747 sha256=777a878a879ce5ed6946ab6234995d2587b6cf1f3b210502f518f94d3a2c7054\n",
            "  Stored in directory: /root/.cache/pip/wheels/83/c0/df/b6873ab7aac3f2465aa9144b6b4c41c4391cfecc027c8b07e7\n",
            "Successfully built sentence-transformers\n",
            "Installing collected packages: pyyaml, tokenizers, sacremoses, huggingface-hub, transformers, sentencepiece, sentence-transformers\n",
            "  Attempting uninstall: pyyaml\n",
            "    Found existing installation: PyYAML 3.13\n",
            "    Uninstalling PyYAML-3.13:\n",
            "      Successfully uninstalled PyYAML-3.13\n",
            "Successfully installed huggingface-hub-0.4.0 pyyaml-6.0 sacremoses-0.0.49 sentence-transformers-2.2.0 sentencepiece-0.1.96 tokenizers-0.11.6 transformers-4.17.0\n",
            "Collecting konlpy\n",
            "  Downloading konlpy-0.6.0-py2.py3-none-any.whl (19.4 MB)\n",
            "\u001b[K     |████████████████████████████████| 19.4 MB 8.9 MB/s \n",
            "\u001b[?25hRequirement already satisfied: numpy>=1.6 in /usr/local/lib/python3.7/dist-packages (from konlpy) (1.21.5)\n",
            "Collecting JPype1>=0.7.0\n",
            "  Downloading JPype1-1.3.0-cp37-cp37m-manylinux_2_5_x86_64.manylinux1_x86_64.whl (448 kB)\n",
            "\u001b[K     |████████████████████████████████| 448 kB 50.6 MB/s \n",
            "\u001b[?25hRequirement already satisfied: lxml>=4.1.0 in /usr/local/lib/python3.7/dist-packages (from konlpy) (4.2.6)\n",
            "Requirement already satisfied: typing-extensions in /usr/local/lib/python3.7/dist-packages (from JPype1>=0.7.0->konlpy) (3.10.0.2)\n",
            "Installing collected packages: JPype1, konlpy\n",
            "Successfully installed JPype1-1.3.0 konlpy-0.6.0\n",
            "Collecting wandb\n",
            "  Downloading wandb-0.12.11-py2.py3-none-any.whl (1.7 MB)\n",
            "\u001b[K     |████████████████████████████████| 1.7 MB 7.1 MB/s \n",
            "\u001b[?25hCollecting setproctitle\n",
            "  Downloading setproctitle-1.2.2-cp37-cp37m-manylinux1_x86_64.whl (36 kB)\n",
            "Requirement already satisfied: promise<3,>=2.0 in /usr/local/lib/python3.7/dist-packages (from wandb) (2.3)\n",
            "Collecting yaspin>=1.0.0\n",
            "  Downloading yaspin-2.1.0-py3-none-any.whl (18 kB)\n",
            "Collecting GitPython>=1.0.0\n",
            "  Downloading GitPython-3.1.27-py3-none-any.whl (181 kB)\n",
            "\u001b[K     |████████████████████████████████| 181 kB 63.7 MB/s \n",
            "\u001b[?25hCollecting sentry-sdk>=1.0.0\n",
            "  Downloading sentry_sdk-1.5.8-py2.py3-none-any.whl (144 kB)\n",
            "\u001b[K     |████████████████████████████████| 144 kB 54.8 MB/s \n",
            "\u001b[?25hCollecting pathtools\n",
            "  Downloading pathtools-0.1.2.tar.gz (11 kB)\n",
            "Requirement already satisfied: protobuf>=3.12.0 in /usr/local/lib/python3.7/dist-packages (from wandb) (3.17.3)\n",
            "Requirement already satisfied: psutil>=5.0.0 in /usr/local/lib/python3.7/dist-packages (from wandb) (5.4.8)\n",
            "Requirement already satisfied: PyYAML in /usr/local/lib/python3.7/dist-packages (from wandb) (6.0)\n",
            "Collecting docker-pycreds>=0.4.0\n",
            "  Downloading docker_pycreds-0.4.0-py2.py3-none-any.whl (9.0 kB)\n",
            "Collecting shortuuid>=0.5.0\n",
            "  Downloading shortuuid-1.0.8-py3-none-any.whl (9.5 kB)\n",
            "Requirement already satisfied: Click!=8.0.0,>=7.0 in /usr/local/lib/python3.7/dist-packages (from wandb) (7.1.2)\n",
            "Requirement already satisfied: python-dateutil>=2.6.1 in /usr/local/lib/python3.7/dist-packages (from wandb) (2.8.2)\n",
            "Requirement already satisfied: six>=1.13.0 in /usr/local/lib/python3.7/dist-packages (from wandb) (1.15.0)\n",
            "Requirement already satisfied: requests<3,>=2.0.0 in /usr/local/lib/python3.7/dist-packages (from wandb) (2.23.0)\n",
            "Requirement already satisfied: typing-extensions>=3.7.4.3 in /usr/local/lib/python3.7/dist-packages (from GitPython>=1.0.0->wandb) (3.10.0.2)\n",
            "Collecting gitdb<5,>=4.0.1\n",
            "  Downloading gitdb-4.0.9-py3-none-any.whl (63 kB)\n",
            "\u001b[K     |████████████████████████████████| 63 kB 1.4 MB/s \n",
            "\u001b[?25hCollecting smmap<6,>=3.0.1\n",
            "  Downloading smmap-5.0.0-py3-none-any.whl (24 kB)\n",
            "Requirement already satisfied: idna<3,>=2.5 in /usr/local/lib/python3.7/dist-packages (from requests<3,>=2.0.0->wandb) (2.10)\n",
            "Requirement already satisfied: certifi>=2017.4.17 in /usr/local/lib/python3.7/dist-packages (from requests<3,>=2.0.0->wandb) (2021.10.8)\n",
            "Requirement already satisfied: chardet<4,>=3.0.2 in /usr/local/lib/python3.7/dist-packages (from requests<3,>=2.0.0->wandb) (3.0.4)\n",
            "Requirement already satisfied: urllib3!=1.25.0,!=1.25.1,<1.26,>=1.21.1 in /usr/local/lib/python3.7/dist-packages (from requests<3,>=2.0.0->wandb) (1.24.3)\n",
            "Requirement already satisfied: termcolor<2.0.0,>=1.1.0 in /usr/local/lib/python3.7/dist-packages (from yaspin>=1.0.0->wandb) (1.1.0)\n",
            "Building wheels for collected packages: pathtools\n",
            "  Building wheel for pathtools (setup.py) ... \u001b[?25l\u001b[?25hdone\n",
            "  Created wheel for pathtools: filename=pathtools-0.1.2-py3-none-any.whl size=8806 sha256=96ef2a8801a65390d8b13ae47d97eb172c4821741f7af4ff31d459655dea98ec\n",
            "  Stored in directory: /root/.cache/pip/wheels/3e/31/09/fa59cef12cdcfecc627b3d24273699f390e71828921b2cbba2\n",
            "Successfully built pathtools\n",
            "Installing collected packages: smmap, gitdb, yaspin, shortuuid, setproctitle, sentry-sdk, pathtools, GitPython, docker-pycreds, wandb\n",
            "Successfully installed GitPython-3.1.27 docker-pycreds-0.4.0 gitdb-4.0.9 pathtools-0.1.2 sentry-sdk-1.5.8 setproctitle-1.2.2 shortuuid-1.0.8 smmap-5.0.0 wandb-0.12.11 yaspin-2.1.0\n"
          ]
        }
      ]
    },
    {
      "cell_type": "code",
      "source": [
        "# 전처리 및 util\n",
        "import os\n",
        "import sys\n",
        "import pandas as pd\n",
        "import numpy as np \n",
        "import random\n",
        "import json\n",
        "import math\n",
        "import logging\n",
        "from sklearn.model_selection import train_test_split\n",
        "from datetime import datetime\n",
        "from sentence_transformers.readers import InputExample\n",
        "\n",
        "# 모델링\n",
        "import torch\n",
        "from torch.utils.data import Dataset, DataLoader, RandomSampler, SequentialSampler, random_split\n",
        "from sentence_transformers import models, LoggingHandler, util ,losses, SentenceTransformer\n",
        "\n",
        "import wandb\n",
        "\n",
        "# wandb log를 위해 수정한 SentenceTransFormer , EmbeddingSimilarityEvaluator\n",
        "from model.logging_model import * "
      ],
      "metadata": {
        "id": "vgBrL80j189A"
      },
      "execution_count": null,
      "outputs": []
    },
    {
      "cell_type": "markdown",
      "source": [
        "## Load Processed & Augumented Data"
      ],
      "metadata": {
        "id": "xY8_JxQ-rak4"
      }
    },
    {
      "cell_type": "markdown",
      "source": [
        "전처리용으로 만든 data_preprocessing Class를 불러와 Data Cleaing,  Easy Data Augmentation,  BackTranslation 을 순차적으로 실행합니다."
      ],
      "metadata": {
        "id": "ij36LILBIFV8"
      }
    },
    {
      "cell_type": "code",
      "source": [
        "import sys\n",
        "sys.path.append('./data_preprocessing')\n",
        "import preprocessing as pp # 데이터 전처리용 Util\n",
        "\n",
        "path = './data/'    \n",
        "n = 2\n",
        "_pp = pp.data_preprosessing(path, n) \n",
        "_train, _test = _pp.load_origin_file()\n",
        "_train, _valid = train_test_split(_train, test_size=0.1, random_state=42) \n",
        "train, valid, test = _pp.load_all(_train, _valid, _test) "
      ],
      "metadata": {
        "colab": {
          "base_uri": "https://localhost:8080/"
        },
        "id": "ai8tO-mMtWUv",
        "outputId": "988b7859-82d3-4b8d-a7c5-2cb631fb0dc9"
      },
      "execution_count": null,
      "outputs": [
        {
          "output_type": "stream",
          "name": "stdout",
          "text": [
            "Length of original DF : 11661\n",
            "Length of original dev : 519\n",
            "\n",
            "************** cleaning : train **************\n",
            "\n",
            "\n",
            "Cleaning start\n",
            "\n",
            "\n",
            "column name : sentence1\n",
            "\n",
            "Remove chiness charecter start\n"
          ]
        },
        {
          "output_type": "stream",
          "name": "stderr",
          "text": [
            "100%|██████████| 10494/10494 [00:00<00:00, 376737.76it/s]\n"
          ]
        },
        {
          "output_type": "stream",
          "name": "stdout",
          "text": [
            "Remove english start\n"
          ]
        },
        {
          "output_type": "stream",
          "name": "stderr",
          "text": [
            "100%|██████████| 10494/10494 [00:00<00:00, 472345.32it/s]\n"
          ]
        },
        {
          "output_type": "stream",
          "name": "stdout",
          "text": [
            "Remove special charecter start\n"
          ]
        },
        {
          "output_type": "stream",
          "name": "stderr",
          "text": [
            "100%|██████████| 10494/10494 [00:00<00:00, 136364.42it/s]\n"
          ]
        },
        {
          "output_type": "stream",
          "name": "stdout",
          "text": [
            "Remove repeated spacing start\n"
          ]
        },
        {
          "output_type": "stream",
          "name": "stderr",
          "text": [
            "100%|██████████| 10494/10494 [00:00<00:00, 209405.90it/s]\n"
          ]
        },
        {
          "output_type": "stream",
          "name": "stdout",
          "text": [
            "Remove repeated spacing start\n"
          ]
        },
        {
          "output_type": "stream",
          "name": "stderr",
          "text": [
            "100%|██████████| 10494/10494 [00:00<00:00, 96342.48it/s] \n"
          ]
        },
        {
          "output_type": "stream",
          "name": "stdout",
          "text": [
            "\n",
            "column name : sentence2\n",
            "\n",
            "Remove chiness charecter start\n"
          ]
        },
        {
          "output_type": "stream",
          "name": "stderr",
          "text": [
            "100%|██████████| 10494/10494 [00:00<00:00, 255804.64it/s]\n"
          ]
        },
        {
          "output_type": "stream",
          "name": "stdout",
          "text": [
            "Remove english start\n"
          ]
        },
        {
          "output_type": "stream",
          "name": "stderr",
          "text": [
            "100%|██████████| 10494/10494 [00:00<00:00, 238975.72it/s]\n"
          ]
        },
        {
          "output_type": "stream",
          "name": "stdout",
          "text": [
            "Remove special charecter start\n"
          ]
        },
        {
          "output_type": "stream",
          "name": "stderr",
          "text": [
            "100%|██████████| 10494/10494 [00:00<00:00, 106204.90it/s]\n"
          ]
        },
        {
          "output_type": "stream",
          "name": "stdout",
          "text": [
            "Remove repeated spacing start\n"
          ]
        },
        {
          "output_type": "stream",
          "name": "stderr",
          "text": [
            "100%|██████████| 10494/10494 [00:00<00:00, 195507.64it/s]\n"
          ]
        },
        {
          "output_type": "stream",
          "name": "stdout",
          "text": [
            "Remove repeated spacing start\n"
          ]
        },
        {
          "output_type": "stream",
          "name": "stderr",
          "text": [
            "100%|██████████| 10494/10494 [00:00<00:00, 124851.51it/s]\n"
          ]
        },
        {
          "output_type": "stream",
          "name": "stdout",
          "text": [
            "\n",
            "Cleaning start\n",
            "\n",
            "\n",
            "column name : sentence1\n",
            "\n",
            "Remove chiness charecter start\n"
          ]
        },
        {
          "output_type": "stream",
          "name": "stderr",
          "text": [
            "100%|██████████| 1167/1167 [00:00<00:00, 266062.55it/s]\n"
          ]
        },
        {
          "output_type": "stream",
          "name": "stdout",
          "text": [
            "Remove english start\n"
          ]
        },
        {
          "output_type": "stream",
          "name": "stderr",
          "text": [
            "100%|██████████| 1167/1167 [00:00<00:00, 478189.99it/s]\n"
          ]
        },
        {
          "output_type": "stream",
          "name": "stdout",
          "text": [
            "Remove special charecter start\n"
          ]
        },
        {
          "output_type": "stream",
          "name": "stderr",
          "text": [
            "100%|██████████| 1167/1167 [00:00<00:00, 204998.65it/s]\n"
          ]
        },
        {
          "output_type": "stream",
          "name": "stdout",
          "text": [
            "Remove repeated spacing start\n"
          ]
        },
        {
          "output_type": "stream",
          "name": "stderr",
          "text": [
            "100%|██████████| 1167/1167 [00:00<00:00, 401307.93it/s]\n"
          ]
        },
        {
          "output_type": "stream",
          "name": "stdout",
          "text": [
            "Remove repeated spacing start\n"
          ]
        },
        {
          "output_type": "stream",
          "name": "stderr",
          "text": [
            "100%|██████████| 1167/1167 [00:00<00:00, 177262.62it/s]\n"
          ]
        },
        {
          "output_type": "stream",
          "name": "stdout",
          "text": [
            "\n",
            "column name : sentence2\n",
            "\n",
            "Remove chiness charecter start\n"
          ]
        },
        {
          "output_type": "stream",
          "name": "stderr",
          "text": [
            "100%|██████████| 1167/1167 [00:00<00:00, 279604.29it/s]\n"
          ]
        },
        {
          "output_type": "stream",
          "name": "stdout",
          "text": [
            "Remove english start\n"
          ]
        },
        {
          "output_type": "stream",
          "name": "stderr",
          "text": [
            "100%|██████████| 1167/1167 [00:00<00:00, 284314.17it/s]\n"
          ]
        },
        {
          "output_type": "stream",
          "name": "stdout",
          "text": [
            "Remove special charecter start\n"
          ]
        },
        {
          "output_type": "stream",
          "name": "stderr",
          "text": [
            "100%|██████████| 1167/1167 [00:00<00:00, 95036.36it/s]\n"
          ]
        },
        {
          "output_type": "stream",
          "name": "stdout",
          "text": [
            "Remove repeated spacing start\n"
          ]
        },
        {
          "output_type": "stream",
          "name": "stderr",
          "text": [
            "100%|██████████| 1167/1167 [00:00<00:00, 203025.96it/s]\n"
          ]
        },
        {
          "output_type": "stream",
          "name": "stdout",
          "text": [
            "Remove repeated spacing start\n"
          ]
        },
        {
          "output_type": "stream",
          "name": "stderr",
          "text": [
            "100%|██████████| 1167/1167 [00:00<00:00, 214203.00it/s]\n"
          ]
        },
        {
          "output_type": "stream",
          "name": "stdout",
          "text": [
            "\n",
            "Cleaning start\n",
            "\n",
            "\n",
            "column name : sentence1\n",
            "\n",
            "Remove chiness charecter start\n"
          ]
        },
        {
          "output_type": "stream",
          "name": "stderr",
          "text": [
            "100%|██████████| 519/519 [00:00<00:00, 299140.27it/s]\n"
          ]
        },
        {
          "output_type": "stream",
          "name": "stdout",
          "text": [
            "Remove english start\n"
          ]
        },
        {
          "output_type": "stream",
          "name": "stderr",
          "text": [
            "100%|██████████| 519/519 [00:00<00:00, 112924.41it/s]\n"
          ]
        },
        {
          "output_type": "stream",
          "name": "stdout",
          "text": [
            "Remove special charecter start\n"
          ]
        },
        {
          "output_type": "stream",
          "name": "stderr",
          "text": [
            "100%|██████████| 519/519 [00:00<00:00, 255648.12it/s]\n"
          ]
        },
        {
          "output_type": "stream",
          "name": "stdout",
          "text": [
            "Remove repeated spacing start\n"
          ]
        },
        {
          "output_type": "stream",
          "name": "stderr",
          "text": [
            "100%|██████████| 519/519 [00:00<00:00, 378055.54it/s]\n"
          ]
        },
        {
          "output_type": "stream",
          "name": "stdout",
          "text": [
            "Remove repeated spacing start\n"
          ]
        },
        {
          "output_type": "stream",
          "name": "stderr",
          "text": [
            "100%|██████████| 519/519 [00:00<00:00, 145306.97it/s]\n"
          ]
        },
        {
          "output_type": "stream",
          "name": "stdout",
          "text": [
            "\n",
            "column name : sentence2\n",
            "\n",
            "Remove chiness charecter start\n"
          ]
        },
        {
          "output_type": "stream",
          "name": "stderr",
          "text": [
            "100%|██████████| 519/519 [00:00<00:00, 242951.31it/s]\n"
          ]
        },
        {
          "output_type": "stream",
          "name": "stdout",
          "text": [
            "Remove english start\n"
          ]
        },
        {
          "output_type": "stream",
          "name": "stderr",
          "text": [
            "100%|██████████| 519/519 [00:00<00:00, 213227.91it/s]\n"
          ]
        },
        {
          "output_type": "stream",
          "name": "stdout",
          "text": [
            "Remove special charecter start\n"
          ]
        },
        {
          "output_type": "stream",
          "name": "stderr",
          "text": [
            "100%|██████████| 519/519 [00:00<00:00, 114830.60it/s]\n"
          ]
        },
        {
          "output_type": "stream",
          "name": "stdout",
          "text": [
            "Remove repeated spacing start\n"
          ]
        },
        {
          "output_type": "stream",
          "name": "stderr",
          "text": [
            "100%|██████████| 519/519 [00:00<00:00, 187901.92it/s]\n"
          ]
        },
        {
          "output_type": "stream",
          "name": "stdout",
          "text": [
            "Remove repeated spacing start\n"
          ]
        },
        {
          "output_type": "stream",
          "name": "stderr",
          "text": [
            "100%|██████████| 519/519 [00:00<00:00, 108451.76it/s]\n"
          ]
        },
        {
          "output_type": "stream",
          "name": "stdout",
          "text": [
            "\n",
            "************** cleaned train length : 10494, valid length : 1167, test length : 519 **************\n",
            "\n",
            "\n",
            "************** back translate : train **************\n",
            "\n",
            "\n",
            "Cleaning start\n",
            "\n",
            "\n",
            "column name : sentence1\n",
            "\n",
            "Remove chiness charecter start\n"
          ]
        },
        {
          "output_type": "stream",
          "name": "stderr",
          "text": [
            "100%|██████████| 10494/10494 [00:00<00:00, 482594.44it/s]\n"
          ]
        },
        {
          "output_type": "stream",
          "name": "stdout",
          "text": [
            "Remove english start\n"
          ]
        },
        {
          "output_type": "stream",
          "name": "stderr",
          "text": [
            "100%|██████████| 10494/10494 [00:00<00:00, 431608.73it/s]\n"
          ]
        },
        {
          "output_type": "stream",
          "name": "stdout",
          "text": [
            "Remove special charecter start\n"
          ]
        },
        {
          "output_type": "stream",
          "name": "stderr",
          "text": [
            "100%|██████████| 10494/10494 [00:00<00:00, 252099.31it/s]\n"
          ]
        },
        {
          "output_type": "stream",
          "name": "stdout",
          "text": [
            "Remove repeated spacing start\n"
          ]
        },
        {
          "output_type": "stream",
          "name": "stderr",
          "text": [
            "100%|██████████| 10494/10494 [00:00<00:00, 369213.31it/s]\n"
          ]
        },
        {
          "output_type": "stream",
          "name": "stdout",
          "text": [
            "Remove repeated spacing start\n"
          ]
        },
        {
          "output_type": "stream",
          "name": "stderr",
          "text": [
            "100%|██████████| 10494/10494 [00:00<00:00, 193236.51it/s]\n"
          ]
        },
        {
          "output_type": "stream",
          "name": "stdout",
          "text": [
            "\n",
            "column name : sentence2\n",
            "\n",
            "Remove chiness charecter start\n"
          ]
        },
        {
          "output_type": "stream",
          "name": "stderr",
          "text": [
            "100%|██████████| 10494/10494 [00:00<00:00, 364921.66it/s]\n"
          ]
        },
        {
          "output_type": "stream",
          "name": "stdout",
          "text": [
            "Remove english start\n"
          ]
        },
        {
          "output_type": "stream",
          "name": "stderr",
          "text": [
            "100%|██████████| 10494/10494 [00:00<00:00, 405683.40it/s]\n"
          ]
        },
        {
          "output_type": "stream",
          "name": "stdout",
          "text": [
            "Remove special charecter start\n"
          ]
        },
        {
          "output_type": "stream",
          "name": "stderr",
          "text": [
            "100%|██████████| 10494/10494 [00:00<00:00, 268874.51it/s]\n"
          ]
        },
        {
          "output_type": "stream",
          "name": "stdout",
          "text": [
            "Remove repeated spacing start\n"
          ]
        },
        {
          "output_type": "stream",
          "name": "stderr",
          "text": [
            "100%|██████████| 10494/10494 [00:00<00:00, 401146.76it/s]\n"
          ]
        },
        {
          "output_type": "stream",
          "name": "stdout",
          "text": [
            "Remove repeated spacing start\n"
          ]
        },
        {
          "output_type": "stream",
          "name": "stderr",
          "text": [
            "100%|██████████| 10494/10494 [00:00<00:00, 220306.45it/s]\n"
          ]
        },
        {
          "output_type": "stream",
          "name": "stdout",
          "text": [
            "\n",
            "************** back translate train length : 10489 **************\n",
            "\n",
            "\n",
            "************** data augmentation : train **************\n",
            "\n",
            "\n",
            "column name : sentence1\n",
            "\n",
            "column name : sentence2\n",
            "\n",
            "Cleaning start\n",
            "\n",
            "\n",
            "column name : sentence1\n",
            "\n",
            "Remove chiness charecter start\n"
          ]
        },
        {
          "output_type": "stream",
          "name": "stderr",
          "text": [
            "100%|██████████| 41976/41976 [00:00<00:00, 522222.80it/s]\n"
          ]
        },
        {
          "output_type": "stream",
          "name": "stdout",
          "text": [
            "Remove english start\n"
          ]
        },
        {
          "output_type": "stream",
          "name": "stderr",
          "text": [
            "100%|██████████| 41976/41976 [00:00<00:00, 528428.15it/s]\n"
          ]
        },
        {
          "output_type": "stream",
          "name": "stdout",
          "text": [
            "Remove special charecter start\n"
          ]
        },
        {
          "output_type": "stream",
          "name": "stderr",
          "text": [
            "100%|██████████| 41976/41976 [00:00<00:00, 255582.21it/s]\n"
          ]
        },
        {
          "output_type": "stream",
          "name": "stdout",
          "text": [
            "Remove repeated spacing start\n"
          ]
        },
        {
          "output_type": "stream",
          "name": "stderr",
          "text": [
            "100%|██████████| 41976/41976 [00:00<00:00, 388569.59it/s]\n"
          ]
        },
        {
          "output_type": "stream",
          "name": "stdout",
          "text": [
            "Remove repeated spacing start\n"
          ]
        },
        {
          "output_type": "stream",
          "name": "stderr",
          "text": [
            "100%|██████████| 41976/41976 [00:00<00:00, 215108.02it/s]\n"
          ]
        },
        {
          "output_type": "stream",
          "name": "stdout",
          "text": [
            "\n",
            "column name : sentence2\n",
            "\n",
            "Remove chiness charecter start\n"
          ]
        },
        {
          "output_type": "stream",
          "name": "stderr",
          "text": [
            "100%|██████████| 41976/41976 [00:00<00:00, 509551.12it/s]\n"
          ]
        },
        {
          "output_type": "stream",
          "name": "stdout",
          "text": [
            "Remove english start\n"
          ]
        },
        {
          "output_type": "stream",
          "name": "stderr",
          "text": [
            "100%|██████████| 41976/41976 [00:00<00:00, 532605.20it/s]\n"
          ]
        },
        {
          "output_type": "stream",
          "name": "stdout",
          "text": [
            "Remove special charecter start\n"
          ]
        },
        {
          "output_type": "stream",
          "name": "stderr",
          "text": [
            "100%|██████████| 41976/41976 [00:00<00:00, 259736.20it/s]\n"
          ]
        },
        {
          "output_type": "stream",
          "name": "stdout",
          "text": [
            "Remove repeated spacing start\n"
          ]
        },
        {
          "output_type": "stream",
          "name": "stderr",
          "text": [
            "100%|██████████| 41976/41976 [00:00<00:00, 388775.52it/s]\n"
          ]
        },
        {
          "output_type": "stream",
          "name": "stdout",
          "text": [
            "Remove repeated spacing start\n"
          ]
        },
        {
          "output_type": "stream",
          "name": "stderr",
          "text": [
            "100%|██████████| 41976/41976 [00:00<00:00, 227612.52it/s]\n"
          ]
        },
        {
          "output_type": "stream",
          "name": "stdout",
          "text": [
            "\n",
            "************** data augmentation train length : 41275 **************\n",
            "\n",
            "\n",
            "************** concat : train **************\n",
            "\n",
            "\n",
            "************** concat train length : 60735 **************\n",
            "\n",
            "\n",
            "************** saving files : train, valid, test **************\n",
            "\n",
            "\n",
            "************** train length : 60735, valid length : 1167, test length : 519 **************\n",
            "\n"
          ]
        }
      ]
    },
    {
      "cell_type": "markdown",
      "source": [
        "data preprocessing.py에서 진행하는 전처리 과정중 Pororo를 활용한 Back Translation의 실행시간이 오래걸리기에 본 파일에서는 Back Translation을 미리 완료하고 저장된 data를 불러옵니다."
      ],
      "metadata": {
        "id": "ArA6XMPbkKYg"
      }
    },
    {
      "cell_type": "code",
      "source": [
        "def str_to_json(x):\n",
        "    \"\"\"\n",
        "    read_csv에서 string 형태로 읽어오는 label을 dictionary로 변환\n",
        "    \"\"\"\n",
        "    x = x.replace(\"'\", '\"')\n",
        "    x = json.loads(x)\n",
        "\n",
        "    return x\n",
        "\n",
        "train_path = \"./data/STS_train.csv\"\n",
        "valid_path = \"./data/STS_valid.csv\"\n",
        "test_path = \"./data/STS_test.csv\"\n",
        "train = pd.read_csv(train_path)\n",
        "valid = pd.read_csv(valid_path)\n",
        "test = pd.read_csv(test_path)\n",
        "\n",
        "train['labels'] = train['labels'].apply(str_to_json)\n",
        "valid['labels'] = valid['labels'].apply(str_to_json)\n",
        "test['labels'] = test['labels'].apply(str_to_json)\n",
        "\n",
        "print(f'Length of Train : {len(train)}') \n",
        "print(f\"Length of Valid : {len(valid)}\")\n",
        "print(f'Length of Test : {len(test)}') "
      ],
      "metadata": {
        "colab": {
          "base_uri": "https://localhost:8080/"
        },
        "id": "nC-tGVO1twuV",
        "outputId": "c968ae5b-8fa2-4449-b33e-852b7240be63"
      },
      "execution_count": null,
      "outputs": [
        {
          "output_type": "stream",
          "name": "stdout",
          "text": [
            "Length of Train : 20983\n",
            "Length of Valid : 1167\n",
            "Length of Test : 519\n"
          ]
        }
      ]
    },
    {
      "cell_type": "code",
      "execution_count": null,
      "metadata": {
        "colab": {
          "base_uri": "https://localhost:8080/",
          "height": 1000
        },
        "id": "Dtywpl_ZrT5Z",
        "outputId": "90bcc485-bf92-4971-c782-ef83d206fcd0"
      },
      "outputs": [
        {
          "output_type": "display_data",
          "data": {
            "text/plain": [
              "<bound method NDFrame.head of                                                sentence1  \\\n",
              "0          다만 1월달에 공사소리때문에 시끄러웠다는 후기를봤는데 여전히 공사를 하는듯합니다.   \n",
              "1                            경쟁력 위원회는 이날 6건의 협력사업도 승인했다.   \n",
              "2                       다만 공용 거실이 없어 2명이 지내기에는 좁은 듯 합니다.   \n",
              "3                             여행기간 내내 잠을 잘 자서 힐링이 잘 되었어요   \n",
              "4                      대신 제일 꼭대기층이어서 캐리어 가져가기 좀 힘들긴 합니다.   \n",
              "...                                                  ...   \n",
              "20978                  그러나 이는 구글 지도에서 대중교통이 나오는 지역이 아니다.   \n",
              "20979                          인테리어에서도 주인의 신중한 마음이 드러났다.   \n",
              "20980                         호스트와 침대와 연락이 닿았다는 사실이 좋았다.   \n",
              "20981                                  위치와 시설 호스트가 완벽했다.   \n",
              "20982  올해부터는 부산 대구 남구 인천 연수구 등 5개 지역의 문화예능사업이 통합지원을 받는다.   \n",
              "\n",
              "                                               sentence2  \\\n",
              "0                   다만 1인실용이기 때문에 다소 좁지만 혼자서 이용하긴 충분합니다.   \n",
              "1                                결함신고와 리콜현황의 통계기능도 강화했다.   \n",
              "2                하지만 공공 거실이 없어서 두 사람이 머물기에는 너무 작은 것 같아요.   \n",
              "3                             머무는 동안 대중교통을 이용 할 일이 없었어요.   \n",
              "4                               햇빛이 잘 안들어서 빨래말리기 좀 어려웠어요   \n",
              "...                                                  ...   \n",
              "20978                                 구글 맵을 충분히 찾을 수 있었다   \n",
              "20979                           그 가족의 작은 부분에 주목할 기미가 보였다   \n",
              "20980                               특히 호스트와의 좋은 소통이 좋았다.   \n",
              "20981                               위치에 있는 모든 호스트들은 완벽했다   \n",
              "20982  올해부터는 인천 연수구 대구 남구 등 5개 지역의 문화 예능 사업이 통합 지원을 받는다.   \n",
              "\n",
              "                                                  labels  binary  normalized  \\\n",
              "0      {'label': 0.2, 'real-label': 0.166666666666666...       0        0.04   \n",
              "1      {'label': 0.0, 'real-label': 0.0, 'binary-labe...       0        0.00   \n",
              "2      {'label': 4.0, 'real-label': 4.0, 'binary-labe...       1        0.80   \n",
              "3      {'label': 0.2, 'real-label': 0.166666666666666...       0        0.04   \n",
              "4      {'label': 0.0, 'real-label': 0.0, 'binary-labe...       0        0.00   \n",
              "...                                                  ...     ...         ...   \n",
              "20978  {'label': 1.2, 'real-label': 1.166666666666667...       0        0.24   \n",
              "20979  {'label': 2.7, 'real-label': 2.714285714285714...       0        0.54   \n",
              "20980  {'label': 3.0, 'real-label': 3.0, 'binary-labe...       1        0.60   \n",
              "20981  {'label': 4.1, 'real-label': 4.142857142857143...       1        0.82   \n",
              "20982  {'label': 4.8, 'real-label': 4.833333333333333...       1        0.96   \n",
              "\n",
              "       score      real  \n",
              "0        0.2  0.166667  \n",
              "1        0.0  0.000000  \n",
              "2        4.0  4.000000  \n",
              "3        0.2  0.166667  \n",
              "4        0.0  0.000000  \n",
              "...      ...       ...  \n",
              "20978    1.2  1.166667  \n",
              "20979    2.7  2.714286  \n",
              "20980    3.0  3.000000  \n",
              "20981    4.1  4.142857  \n",
              "20982    4.8  4.833333  \n",
              "\n",
              "[20983 rows x 7 columns]>"
            ]
          },
          "metadata": {}
        },
        {
          "output_type": "display_data",
          "data": {
            "text/plain": [
              "<bound method NDFrame.head of                                               sentence1  \\\n",
              "0                                    우산 두고 오지 않았으면 좋겠어.   \n",
              "1                                 다만 밤에 돌아다니기엔 조금 무섭습니다   \n",
              "2     중소벤처기업부 등 17개 부처가 마련한 방안은 코로나19 피해기업 지원과 농업 신산...   \n",
              "3      2020 부산국제광고제 와 관련된 더욱 자세한 내용은 부산국제광고제 누리집 .. ...   \n",
              "4                          모던한 느낌으로 모든 사람들이 좋아할만한 집입니다.   \n",
              "...                                                 ...   \n",
              "1162                     치과를 예약하고 싶은데 다음주 중 되는 시간이 얹에요    \n",
              "1163  국토부는 고령가구에 대해서는 2025년까지 무장애 설계가 적용된 공공임대 8만호를 ...   \n",
              "1164                             친구들과 지내기 정말 좋은 장소였습니다.   \n",
              "1165                   믹서기 말고 가스레인지로 요리할 수 있도록 협조 바랍니다.   \n",
              "1166                                    냉장고 문 열려고 시도하지마   \n",
              "\n",
              "                                              sentence2  \\\n",
              "0                                     우산 두고 오지 않기로 했잖아    \n",
              "1                                     밤에 돌아다니기가 좀 무서워요.   \n",
              "2             문체부 등 각 부처 지원 사업 안내 코로나19 피해 상담 등 통합창구 개설   \n",
              "3     부산국제광고제에 대한 자세한 내용은 부산국제광고제 홈페이지 .. 에서 확인할 수 있...   \n",
              "4                         함께 한 가족들과 친구들이 아주 좋아했던 숙소입니다.   \n",
              "...                                                 ...   \n",
              "1162                             치과예약 혹시 다음주 중 언제 가능해요    \n",
              "1163  이들을 위한 맞춤형 주택을 2022년까지 21만호를 내놓고 이후 2025년까지는 1...   \n",
              "1164             어린 아이가 있는 가족보다 친구들끼리나 어른들끼리 지내기에 좋습니다.   \n",
              "1165                             요리할때는 인덕션말고 가스레인지로 쓰시오   \n",
              "1166                                 냉장고 문 열면 큰일나니까 열지마   \n",
              "\n",
              "                                                 labels  binary  normalized  \\\n",
              "0     {'label': 3.0, 'real-label': 3.0, 'binary-labe...       1        0.60   \n",
              "1     {'label': 3.7, 'real-label': 3.666666666666667...       1        0.74   \n",
              "2     {'label': 0.7000000000000001, 'real-label': 0....       0        0.14   \n",
              "3     {'label': 4.0, 'real-label': 4.0, 'binary-labe...       1        0.80   \n",
              "4     {'label': 1.7000000000000002, 'real-label': 1....       0        0.34   \n",
              "...                                                 ...     ...         ...   \n",
              "1162  {'label': 4.0, 'real-label': 4.0, 'binary-labe...       1        0.80   \n",
              "1163  {'label': 0.8, 'real-label': 0.833333333333333...       0        0.16   \n",
              "1164  {'label': 2.0, 'real-label': 2.0, 'binary-labe...       0        0.40   \n",
              "1165  {'label': 2.5, 'real-label': 2.5, 'binary-labe...       0        0.50   \n",
              "1166  {'label': 3.0, 'real-label': 3.0, 'binary-labe...       1        0.60   \n",
              "\n",
              "      score      real  \n",
              "0       3.0  3.000000  \n",
              "1       3.7  3.666667  \n",
              "2       0.7  0.714286  \n",
              "3       4.0  4.000000  \n",
              "4       1.7  1.666667  \n",
              "...     ...       ...  \n",
              "1162    4.0  4.000000  \n",
              "1163    0.8  0.833333  \n",
              "1164    2.0  2.000000  \n",
              "1165    2.5  2.500000  \n",
              "1166    3.0  3.000000  \n",
              "\n",
              "[1167 rows x 7 columns]>"
            ]
          },
          "metadata": {}
        },
        {
          "output_type": "display_data",
          "data": {
            "text/plain": [
              "<bound method NDFrame.head of                                              sentence1  \\\n",
              "0                             무엇보다도 호스트분들이 너무 친절하셨습니다.   \n",
              "1                               주요 관광지 모두 걸어서 이동가능합니다.   \n",
              "2    학생들의 균형 있는 영어능력을 향상시킬 수 있는 학교 수업을 유도하기 위해 2018...   \n",
              "3                             다만 도로와 인접해서 거리의 소음이 들려요.   \n",
              "4                  형이 다시 캐나다 들어가야 하니 가족모임 일정은 바꾸지 마세요.   \n",
              "..                                                 ...   \n",
              "514     문체부는 이를 연차적으로 확대 시행해 학교운동부와 스포츠클럽 간의 연계를 강화한다.   \n",
              "515                        일단 정확한 정보와 빠른 답변이 정말 좋았습니다.   \n",
              "516                         게스트에 대한 배려가 묻어나는 시설들이었습니다.   \n",
              "517                          밤하늘을 배경으로 비대면 드론쇼 도 펼쳐진다.   \n",
              "518                      여느 포르투갈의 비앤비와 같이 엘리베이터는 없습니다.   \n",
              "\n",
              "                                             sentence2  \\\n",
              "0                               무엇보다도 호스트들은 매우 친절했습니다.   \n",
              "1                          위치는 피렌체 중심가까지 걸어서 이동 가능합니다.   \n",
              "2    영어 영역의 경우 학생들이 한글 해석본을 암기하는 문제를 해소하기 위해 2016학년...   \n",
              "3                    하지만 길과 가깝기 때문에 거리의 소음을 들을 수 있습니다.   \n",
              "4                              가족 모임 일정은 바꾸지 말도록 하십시오.   \n",
              "..                                                 ...   \n",
              "514  문화체육관광부는 학교스포츠학과와 스포츠클럽의 연계성을 강화하기 위해 매년 이 프로그...   \n",
              "515                      호스트의 빠른 답변과 유용한 정보들이 정말 좋습니다.   \n",
              "516                         우선 공간에 대한 센스가 돋보이는 곳이었습니다.   \n",
              "517                              비대면 실감형 문화공연 플랫폼 개념도.   \n",
              "518                     포르투의 거의 모든 숙박 시설은 엘리베이터는 없습니다.   \n",
              "\n",
              "                                                labels  \\\n",
              "0    {'label': 4.9, 'real-label': 4.857142857142857...   \n",
              "1    {'label': 1.4, 'real-label': 1.428571428571429...   \n",
              "2    {'label': 1.3, 'real-label': 1.285714285714286...   \n",
              "3    {'label': 3.7, 'real-label': 3.714285714285714...   \n",
              "4    {'label': 2.5, 'real-label': 2.5, 'binary-labe...   \n",
              "..                                                 ...   \n",
              "514  {'label': 2.2, 'real-label': 2.2, 'binary-labe...   \n",
              "515  {'label': 2.8, 'real-label': 2.833333333333333...   \n",
              "516  {'label': 0.30000000000000004, 'real-label': 0...   \n",
              "517  {'label': 0.30000000000000004, 'real-label': 0...   \n",
              "518  {'label': 2.9, 'real-label': 2.857142857142857...   \n",
              "\n",
              "                                           annotations  binary  normalized  \\\n",
              "0    {'agreement': '0:0:0:0:1:6', 'annotators': ['1...       1        0.98   \n",
              "1    {'agreement': '0:4:3:0:0:0', 'annotators': ['1...       0        0.28   \n",
              "2    {'agreement': '0:5:2:0:0:0', 'annotators': ['0...       0        0.26   \n",
              "3    {'agreement': '0:0:0:2:5:0', 'annotators': ['1...       1        0.74   \n",
              "4    {'agreement': '1:0:1:3:1:0', 'annotators': ['0...       0        0.50   \n",
              "..                                                 ...     ...         ...   \n",
              "514  {'agreement': '0:1:2:2:0:0', 'annotators': ['0...       0        0.44   \n",
              "515  {'agreement': '0:0:1:5:0:0', 'annotators': ['0...       0        0.56   \n",
              "516  {'agreement': '4:2:0:0:0:0', 'annotators': ['1...       0        0.06   \n",
              "517  {'agreement': '5:0:1:0:0:0', 'annotators': ['0...       0        0.06   \n",
              "518  {'agreement': '0:0:2:4:1:0', 'annotators': ['0...       0        0.58   \n",
              "\n",
              "     score  \n",
              "0      4.9  \n",
              "1      1.4  \n",
              "2      1.3  \n",
              "3      3.7  \n",
              "4      2.5  \n",
              "..     ...  \n",
              "514    2.2  \n",
              "515    2.8  \n",
              "516    0.3  \n",
              "517    0.3  \n",
              "518    2.9  \n",
              "\n",
              "[519 rows x 7 columns]>"
            ]
          },
          "metadata": {}
        }
      ],
      "source": [
        "# 최종 데이터 head\n",
        "display(train.head)\n",
        "display(valid.head)\n",
        "display(test.head)"
      ]
    },
    {
      "cell_type": "markdown",
      "source": [
        "모델에 Input으로 사용하기 위한 Custom Dataset 을 생성합니다.\n"
      ],
      "metadata": {
        "id": "A2iPnYFJPn-v"
      }
    },
    {
      "cell_type": "code",
      "source": [
        "class STSDataset(Dataset):\n",
        "  def __init__(self, df:pd.DataFrame):\n",
        "      self.texts = list(zip(df['sentence1'].tolist(),df['sentence2'].tolist()))\n",
        "      self.texts = [list(x) for x in self.texts]\n",
        "      self.labels = df['normalized'].tolist()\n",
        "      self.input_examples = self.make_sts_input(self.texts,self.labels)\n",
        "\n",
        "  def __len__(self):\n",
        "      return len(self.input_examples)\n",
        "\n",
        "  def __getitem__(self, index):\n",
        "      return self.input_examples[index]\n",
        "\n",
        "  def make_sts_input(self,texts,labels):\n",
        "      input_examples =[]\n",
        "      for text,label in zip(texts,labels):\n",
        "          input = InputExample(texts = text,label = label)\n",
        "          input_examples.append(input)\n",
        "\n",
        "      return input_examples \n",
        "       "
      ],
      "metadata": {
        "id": "joUTgSAY9E3f"
      },
      "execution_count": null,
      "outputs": []
    },
    {
      "cell_type": "code",
      "source": [
        "train_dataset = STSDataset(train)\n",
        "valid_dataset = STSDataset(valid)\n",
        "test_set = STSDataset(test)"
      ],
      "metadata": {
        "id": "5I35baX_9Kiz"
      },
      "execution_count": null,
      "outputs": []
    },
    {
      "cell_type": "code",
      "source": [
        "print(f\"Train Dataset len: {len(train_dataset)}\")\n",
        "print(f\"Train Dataset 1st element: {train_dataset[0]}\\n\")\n",
        "\n",
        "print(f\"Valid Dataset len: {len(valid_dataset)}\")\n",
        "print(f\"Valid Dataset 1st element: {valid_dataset[0]}\\n\")\n",
        "\n",
        "print(f\"Test Dataset len: {len(test_set)}\")\n",
        "print(f\"Test Dataset 1st element:{test_set[0]}\")"
      ],
      "metadata": {
        "colab": {
          "base_uri": "https://localhost:8080/"
        },
        "id": "IHJHzUz09Kgi",
        "outputId": "aa930020-d41f-40ad-c016-9c57b9005b8e"
      },
      "execution_count": null,
      "outputs": [
        {
          "output_type": "stream",
          "name": "stdout",
          "text": [
            "Train Dataset len: 20983\n",
            "Train Dataset 1st element: <InputExample> label: 0.04, texts: 다만 1월달에 공사소리때문에 시끄러웠다는 후기를봤는데 여전히 공사를 하는듯합니다.; 다만 1인실용이기 때문에 다소 좁지만 혼자서 이용하긴 충분합니다.\n",
            "\n",
            "Valid Dataset len: 1167\n",
            "Valid Dataset 1st element: <InputExample> label: 0.6, texts: 우산 두고 오지 않았으면 좋겠어.; 우산 두고 오지 않기로 했잖아 \n",
            "\n",
            "Test Dataset len: 519\n",
            "Test Dataset 1st element:<InputExample> label: 0.98, texts: 무엇보다도 호스트분들이 너무 친절하셨습니다.; 무엇보다도 호스트들은 매우 친절했습니다.\n"
          ]
        }
      ]
    },
    {
      "cell_type": "code",
      "source": [
        "def ret_dataloader(train_dataset,valid_dataset,batch_size : int ):\n",
        "    \"\"\"\n",
        "    학습 과정에 사용하기 위한 train dataloader , evaluator를 반환하는 util 함수\n",
        "    \"\"\"\n",
        "    _batch_size = batch_size\n",
        "    train_dataloader = DataLoader(train_dataset,shuffle=True , batch_size = _batch_size)\n",
        "    valid_evaluator = EmbeddingSimilarityEvaluator.from_input_examples(valid_dataset,name=\"valid_set\")\n",
        "    \n",
        "    return train_dataloader,valid_evaluator"
      ],
      "metadata": {
        "id": "Vsq7gMvM9KdV"
      },
      "execution_count": 33,
      "outputs": []
    },
    {
      "cell_type": "markdown",
      "source": [
        "## Model"
      ],
      "metadata": {
        "id": "D5Z22v-Xsb3s"
      }
    },
    {
      "cell_type": "code",
      "source": [
        "model_path = './model'\n",
        "sys.path.append(model_path)"
      ],
      "metadata": {
        "id": "eT4igYOzs7Gf"
      },
      "execution_count": null,
      "outputs": []
    },
    {
      "cell_type": "markdown",
      "source": [
        "### Parameter Tuning"
      ],
      "metadata": {
        "id": "VJVdLcxcsjYc"
      }
    },
    {
      "cell_type": "markdown",
      "source": [
        "TensorBoard와 WandB 중 시각화에 조견에 따른 비교 측면에서 보다 팀원들이 보다 유리하다고 판단한 WandB를 사용하였습니다."
      ],
      "metadata": {
        "id": "uFDxVlwRX2RE"
      }
    },
    {
      "cell_type": "code",
      "source": [
        "import wandb\n",
        "wandb.login()\n",
        "\n",
        "%env WANDB_WATCH = all # 모든 파라미터와 gradient log\n",
        "#%env WANDB_ENTITY = wanted_sts # team name\n",
        "#%env WANDB_PROJECT = STS # project name\n",
        "\n",
        "project_name = \"NLU_STS\"\n",
        "wandb.init(project=project_name)"
      ],
      "metadata": {
        "id": "j3kM1Qm6YBMC",
        "colab": {
          "base_uri": "https://localhost:8080/",
          "height": 203
        },
        "outputId": "ecc81ed3-c43b-4c0a-f887-4af36cba819a"
      },
      "execution_count": null,
      "outputs": [
        {
          "output_type": "display_data",
          "data": {
            "text/plain": [
              "<IPython.core.display.Javascript object>"
            ],
            "application/javascript": [
              "\n",
              "        window._wandbApiKey = new Promise((resolve, reject) => {\n",
              "            function loadScript(url) {\n",
              "            return new Promise(function(resolve, reject) {\n",
              "                let newScript = document.createElement(\"script\");\n",
              "                newScript.onerror = reject;\n",
              "                newScript.onload = resolve;\n",
              "                document.body.appendChild(newScript);\n",
              "                newScript.src = url;\n",
              "            });\n",
              "            }\n",
              "            loadScript(\"https://cdn.jsdelivr.net/npm/postmate/build/postmate.min.js\").then(() => {\n",
              "            const iframe = document.createElement('iframe')\n",
              "            iframe.style.cssText = \"width:0;height:0;border:none\"\n",
              "            document.body.appendChild(iframe)\n",
              "            const handshake = new Postmate({\n",
              "                container: iframe,\n",
              "                url: 'https://wandb.ai/authorize'\n",
              "            });\n",
              "            const timeout = setTimeout(() => reject(\"Couldn't auto authenticate\"), 5000)\n",
              "            handshake.then(function(child) {\n",
              "                child.on('authorize', data => {\n",
              "                    clearTimeout(timeout)\n",
              "                    resolve(data)\n",
              "                });\n",
              "            });\n",
              "            })\n",
              "        });\n",
              "    "
            ]
          },
          "metadata": {}
        },
        {
          "output_type": "stream",
          "name": "stderr",
          "text": [
            "\u001b[34m\u001b[1mwandb\u001b[0m: You can find your API key in your browser here: https://wandb.ai/authorize\n"
          ]
        },
        {
          "name": "stdout",
          "output_type": "stream",
          "text": [
            "wandb: Paste an API key from your profile and hit enter, or press ctrl+c to quit: ··········\n"
          ]
        },
        {
          "output_type": "stream",
          "name": "stderr",
          "text": [
            "\u001b[34m\u001b[1mwandb\u001b[0m: Appending key for api.wandb.ai to your netrc file: /root/.netrc\n",
            "\u001b[34m\u001b[1mwandb\u001b[0m: Currently logged in as: \u001b[33mwanted_sts\u001b[0m (use `wandb login --relogin` to force relogin)\n"
          ]
        },
        {
          "output_type": "stream",
          "name": "stdout",
          "text": [
            "env: WANDB_WATCH=all # 모든 파라미터와 gradient log\n"
          ]
        },
        {
          "output_type": "display_data",
          "data": {
            "text/plain": [
              "<IPython.core.display.HTML object>"
            ],
            "text/html": [
              "Tracking run with wandb version 0.12.11"
            ]
          },
          "metadata": {}
        },
        {
          "output_type": "display_data",
          "data": {
            "text/plain": [
              "<IPython.core.display.HTML object>"
            ],
            "text/html": [
              "Run data is saved locally in <code>/content/NLU_STS/wandb/run-20220324_030242-1k36ezio</code>"
            ]
          },
          "metadata": {}
        },
        {
          "output_type": "display_data",
          "data": {
            "text/plain": [
              "<IPython.core.display.HTML object>"
            ],
            "text/html": [
              "Syncing run <strong><a href=\"https://wandb.ai/wanted_sts/NLU_STS/runs/1k36ezio\" target=\"_blank\">splendid-glade-1</a></strong> to <a href=\"https://wandb.ai/wanted_sts/NLU_STS\" target=\"_blank\">Weights & Biases</a> (<a href=\"https://wandb.me/run\" target=\"_blank\">docs</a>)<br/>"
            ]
          },
          "metadata": {}
        },
        {
          "output_type": "execute_result",
          "data": {
            "text/html": [
              "<button onClick=\"this.nextSibling.style.display='block';this.style.display='none';\">Display W&B run</button><iframe src=\"https://wandb.ai/wanted_sts/NLU_STS/runs/1k36ezio?jupyter=true\" style=\"border:none;width:100%;height:420px;display:none;\"></iframe>"
            ],
            "text/plain": [
              "<wandb.sdk.wandb_run.Run at 0x7fc7696f7590>"
            ]
          },
          "metadata": {},
          "execution_count": 14
        }
      ]
    },
    {
      "cell_type": "code",
      "source": [
        "# hyperparameter 설정을 위한 sweep value config\n",
        "\n",
        "sweep_config = {\n",
        "    'method': 'random'\n",
        "    }\n",
        "\n",
        "early_terminate = {\n",
        "    'type': 'hyperband',\n",
        "    'max_iter': 1000\n",
        "}\n",
        "\n",
        "parameters_dict = {\n",
        "    # Optimizer: adamw\n",
        "    'epochs' : {\n",
        "        'value': 4\n",
        "    },\n",
        "    'optimizer_params': {\n",
        "        'values' : [\n",
        "                {'lr':1e-4},\n",
        "                #{'lr':3e-4}, 테스트용으로 진행한 파라미터 튜닝 과정에서 해당 값은 모델 성능에 악영향을 미치는 것으로 나타나 제외하였습니다.\n",
        "                {'lr':5e-5}\n",
        "                ]\n",
        "    },\n",
        "    'weight_decay':{\n",
        "        'distribution': 'uniform',\n",
        "        'min': 0.01,\n",
        "        'max': 0.1\n",
        "    },\n",
        "    'batch_size' :{\n",
        "        'values': [16,32,64]\n",
        "      }\n",
        "    }\n",
        "\n",
        "sweep_config['parameters'] = parameters_dict"
      ],
      "metadata": {
        "id": "yNJ-IPM0YBD5"
      },
      "execution_count": 34,
      "outputs": []
    },
    {
      "cell_type": "code",
      "source": [
        "import pprint\n",
        "pprint.pprint(sweep_config)"
      ],
      "metadata": {
        "colab": {
          "base_uri": "https://localhost:8080/"
        },
        "id": "Fn8UA_dGYNv2",
        "outputId": "e2659f0e-dda1-4eaf-fbb1-a3309157b37a"
      },
      "execution_count": 35,
      "outputs": [
        {
          "output_type": "stream",
          "name": "stdout",
          "text": [
            "{'method': 'random',\n",
            " 'parameters': {'batch_size': {'values': [16, 32, 64]},\n",
            "                'epochs': {'value': 4},\n",
            "                'optimizer_params': {'values': [{'lr': 0.0001}, {'lr': 5e-05}]},\n",
            "                'weight_decay': {'distribution': 'uniform',\n",
            "                                 'max': 0.1,\n",
            "                                 'min': 0.01}}}\n"
          ]
        }
      ]
    },
    {
      "cell_type": "code",
      "source": [
        "sweep_id = wandb.sweep(sweep_config, project=project_name)"
      ],
      "metadata": {
        "colab": {
          "base_uri": "https://localhost:8080/"
        },
        "id": "wQq5_uHQYQG_",
        "outputId": "b3e97b35-d105-4d1d-db37-aa6c71c9361e"
      },
      "execution_count": null,
      "outputs": [
        {
          "output_type": "stream",
          "name": "stdout",
          "text": [
            "Create sweep with ID: jg66teq9\n",
            "Sweep URL: https://wandb.ai/wanted_sts/NLU_STS/sweeps/jg66teq9\n"
          ]
        }
      ]
    },
    {
      "cell_type": "code",
      "source": [
        "\n",
        "def ret_model(model_name):\n",
        "    \"\"\"\n",
        "    학습과정에 사용되는 모델 생성용 함수\n",
        "    \"\"\"\n",
        "    # pretrained embedding model을  가져옴\n",
        "    embedding_model = models.Transformer(\n",
        "            model_name_or_path=model_name, \n",
        "            max_seq_length=256,\n",
        "            do_lower_case=False\n",
        "            )\n",
        "\n",
        "    # 문장을 고정된 크기의의 임베딩으로 변환\n",
        "    pooling_model = models.Pooling(\n",
        "        embedding_model.get_word_embedding_dimension(), \n",
        "        pooling_mode_mean_tokens=True,\n",
        "        pooling_mode_cls_token=False,\n",
        "        pooling_mode_max_tokens=False,)\n",
        "    \n",
        "    model = SentenceTransformer(modules=[embedding_model, pooling_model])\n",
        "\n",
        "    return model\n"
      ],
      "metadata": {
        "id": "uA8Jxd-7YUA9"
      },
      "execution_count": null,
      "outputs": []
    },
    {
      "cell_type": "code",
      "source": [
        "from pytz import timezone\n",
        "from datetime import datetime\n",
        "\n",
        "def set_model_path(save_path,model_name:str):\n",
        "    \"\"\"\n",
        "    모델 저장 path 설정용 help 함수\n",
        "    \"\"\"\n",
        "    today = datetime.now(timezone('Asia/Seoul'))\n",
        "    save_path = save_path\n",
        "    model_save_path = save_path+'/training_sts-'+model_name.replace(\"/\", \"-\")+'-'+today.strftime(\"%Y-%m-%d_%H-%M-%S\")\n",
        "\n",
        "    return model_save_path"
      ],
      "metadata": {
        "id": "TNgiHMu8YT-K"
      },
      "execution_count": null,
      "outputs": []
    },
    {
      "cell_type": "code",
      "source": [
        "model_name = \"Huffon/sentence-klue-roberta-base\" # pretrained model\n",
        "save_path = './model_files' # 학습된 모델 저장경로\n",
        "\n",
        "def train(config=None,model = None):\n",
        "    \"\"\"\n",
        "    모델학습 밒 하이퍼파리미터 튜닝\n",
        "    \"\"\"\n",
        "    with wandb.init(config=config):\n",
        "        config = wandb.config # wandb에 저장해둔 parameter를 가져옴 / config.파라미터명으로 wandb에서 튜닝한 파라미터로 모델이 학습됨.\n",
        "        model = ret_model(model_name)\n",
        "\n",
        "        # 코사인 유사도 기반 MSEloss 설정\n",
        "        train_loss = losses.CosineSimilarityLoss(model=model) \n",
        "        model_save_path = set_model_path(save_path,model_name=model_name)\n",
        "\n",
        "        # set batch_size\n",
        "        train_batch_size = config.batch_size\n",
        "\n",
        "        # \n",
        "        train_dataloader , valid_evaluator = ret_dataloader(train_dataset,valid_dataset,batch_size = config.batch_size)\n",
        "        print('train data loaded')\n",
        "        \n",
        "        # warmup step으로 train data의 10% 사용\n",
        "        warmup_steps = math.ceil(len(train_dataset) * config.epochs / train_batch_size * 0.1) \n",
        "\n",
        "        model.fit(\n",
        "            train_objectives=[(train_dataloader, train_loss)],\n",
        "            evaluator=valid_evaluator, # valid로 평가\n",
        "            epochs=config.epochs,\n",
        "            optimizer_params = config.optimizer_params,\n",
        "            weight_decay = config.weight_decay,\n",
        "            evaluation_steps=int(len(train_dataloader)*0.1),\n",
        "            warmup_steps = warmup_steps,\n",
        "            output_path= model_save_path,\n",
        "            show_progress_bar = True\n",
        "        )\n",
        "   "
      ],
      "metadata": {
        "id": "DGIBGlSBYT7I"
      },
      "execution_count": null,
      "outputs": []
    },
    {
      "cell_type": "markdown",
      "source": [
        "wandb를 통해 count 수만큼 모델을 생성해 학습하고 wandb.config에서 랜덤으로 생성된 hyperparmeter 값에 따른 loss를 기록합니다."
      ],
      "metadata": {
        "id": "pCZTIWznW9_x"
      }
    },
    {
      "cell_type": "code",
      "source": [
        "wandb.agent(sweep_id, train, count=1) # 본 파일에서는 1개의 count를 줘서 1개의 모델을 생성하였습니다."
      ],
      "metadata": {
        "id": "9yGcEJDUYT4Y",
        "colab": {
          "base_uri": "https://localhost:8080/",
          "height": 1000,
          "referenced_widgets": [
            "c01ddf2f5650479db10296f9c78da603",
            "8ac936912f09453683fd5b96f80b3b46",
            "d1fdbd6f809042fc9937bef6ae5fa3c4",
            "6eb47f79e8c642dc8fc320cf53ffc727",
            "ca65439ec95040bf8019dbbeddf2d8de",
            "3d760488373a4c0ea7faa0985b60c461",
            "1f16f5c6d9cb417484ab5ba624f41f39",
            "c178fb7f2d634c4e8fc4403ed6045c3f",
            "be3fa185342a4fb3b2a2e9dad62bf495",
            "f2397bac27b24b8b847ab5d4be3469a7",
            "ba2d60c2a1d843bd89bb1ae89a0ebfc0",
            "88d513509e8348f69d987b9fa149f7da",
            "5a72d8b2d930408195bb6d352cd895d9",
            "1628c2e632b7400684f8de9a0f0d6089",
            "409779fc81924ea0bdd1f66daca09bcb",
            "eb371c13a5594ac2875b71da8b0980b8",
            "5f870e72f1ed46499d20cc9bfe4b22c3",
            "c03659266b8f454bb916a76c6f86d390",
            "b2c284a2038b4786a4eeb6ebeb01cc48",
            "2d02f7b2dc334f36bd448fbb01043801",
            "ee962f1856764040bfa1dc5b6c3e9b39",
            "c151c93a4ee549f19d1d2403a9d6f85a",
            "794138330128463187d7d50f85c80edd",
            "e562cdcc6508446bab1f52f9f8b64e77",
            "99205eb6a85a4841a2b863966594a54d",
            "91a46557bd5248c8a5d5e0bfbf82cf44",
            "ca042f49ca564201938461724ffcc807",
            "cd890eaf613040b586ec3e1f3e734ec1",
            "1201209fcfd1402181cc05af2a325aae",
            "102a9932fe334713b5e50e4f67106ab4",
            "64cc478814ac42cba4e247b12114ce40",
            "6ef764f70301470f8e6f3ecf89ec283e",
            "e647b300c99e4bbeb9545d51569641cb",
            "836e40d2173640468061c16f5b2ae438",
            "2bac29c5c8404a3b89222fe2d7da7a35",
            "c2ac8e7bf38a456e8a46cf990fcbcf18",
            "8b361e830cdf4a47ac7a619137d94df2",
            "22324587749442e59d605a48167303d2",
            "ed9b25b6cd0c4328b96b9db5efa47f90",
            "7fe6dbbc23ef4cfcb415de701218dd1a",
            "08007a67cb314c06abd20167131efb24",
            "f89d9802a2ad4bd8823f71a7319b8a93",
            "1b05011803e44bfa9edeabd1aa1ef3cf",
            "9a70e1da11ec468fb6d3f102e9b71164",
            "37321b20887c4002b7ed9bd25a145e0f",
            "94cc78cf5fd7456196254f8bf1b65069",
            "1e7504a4f8124e0481379b9b5cd9a29c",
            "20aa94022e664a3198742602c937e931",
            "7da42a7cfbc34e2cbc3737f575d399f2",
            "55aef202855d44ce92dfd50f0f0edb9b",
            "92aebd505d5f4cc2905973d9d1add99d",
            "92f104c5184648c68b0bcf9173cc5a20",
            "44aff30f58cf4189b392be6418706b15",
            "a0613c86d05d4ed5b5128dab491cf969",
            "51869cea45d0410fb2fba608c9dd193a",
            "23459879a1a84c52b43d0815b1eccfdd",
            "7af80de8db1941c5b6003c48a6e6063b",
            "3ed2362a049d416191ecce7686dd1988",
            "4587c2f38c07406d9f85eb370ffa1721",
            "f1242d9b32c14dad98b18c7f56369bf0",
            "30016eea3d3c4e0890bf814199898f9f",
            "fe45de2805794436a0494839534bc7b7",
            "316a3e01839f424ca2cded54681fb76b",
            "307f6e2f20c44dbba43a51d3257ffd6e",
            "df311a6588534f4cb822ba94843d2049",
            "e3ffd6f46d064b57ba55e22c43be89e7",
            "ec7e324150d74413b6d08f86986fd05d",
            "6e0e1c42c5cf4666afd91fc69fae78fc",
            "87493dd0ea334680893e96a51eab7d7b",
            "c4c7770a72d640beb2b32946b07c7af3",
            "d0798b487c124b97a833774973baf0c0",
            "db7b86dd1daf44aabad0497051c647b6",
            "d10b8b6821994b3a848a8e4cbd6c152c",
            "7a11811551a0486985443cef2391f3f3",
            "ab22b4d73496497e9fe8e93378b3d4ce",
            "a9b607d9a20c4a9485ad59ac4ccf33a7",
            "d2113c6076e442f3bef806dc3f895c98",
            "f3bf25d126f3425ea4a8cd5464a7f09e",
            "422b988e2daf48bc86d9b883b1160a91",
            "fa9246eb35434c1b9f320dfae673712b",
            "32ff6a23bdb14cabbc410ae4a27730c1",
            "689938d366944611a962d632407eb57e",
            "0458ab3ec95149adbc3369b19f73c783",
            "a2b18356130042c4b90980347ab4bd71",
            "671a336754df4204bf7932b213a194c1",
            "5cf0d244ae4545c785a5f5834c93a5ba",
            "b4a3262651a2499e89b9fcd7933d6c7f",
            "f74405730a804ad09d6ac31c2f5c5ae7",
            "89121bbe9533424fb09a2225deb22035",
            "a6196e4fd42d47c88146d7c28f3620fc",
            "5beb1a2de6894ba7a5ff45f5c52bb279",
            "c4ab44174f8348c09ca830426f368ef9",
            "956f6e3b0b0c4d4f9b2bcb539d97d449",
            "edf8ff49b23a466d929153cef92d8fca",
            "394330f6305d4251ab78e9fe5a21e4ce",
            "48de995d3fd74549a6b4921730f0931d",
            "3c9f1d24ec114ac99e5caefb169affda",
            "60e8633ca2d942cc9c9ec9e954046cce",
            "1282a91828d749c98e3284e9ba991f43",
            "e8ed81b8dd764b2c87849d7827f856b1",
            "9cf39fc64f9c431691b8a7f92bc096c3",
            "6a17967a919b4a6192559fab03b7c2da",
            "22212fd1a2054cc788cd6b9051764e1e",
            "e772b102d31748d6af762cc554562fec",
            "f17b70cc1d86471c84dd63a5c9a716d1",
            "c2892a3b6d8f43709ecc196b1577dea4",
            "ca0d5a84f0e94da68d0d6a23e5b0a734",
            "c4a03fb114b349c6a344e3b8bebb5318",
            "7bfcd0193cde4a588ba4c1020a660d95",
            "c14d0c2f93ad42dab778aa0f42735da6",
            "07c660b3c6214245860fa6b2fc482a05",
            "e7b4c25acb03474087772480da16cbe4",
            "db5a07f98c8d453eaa3e733459cd00d7",
            "8783f7e3a0a34ae78f69c74d24f02b40",
            "a54149357e974163bed8d907758f8294",
            "27f18c38d1f84dffad05bb07462070a8",
            "d012097bb09a438ea10b889a457b039a",
            "7546b11914984ce3ae6add687adb6bb8",
            "37af39562cb643d190361047823c8f82",
            "e135ee3596264268bffd1fd5a649656b",
            "cf84ddfcd1174894a609426df51fae81",
            "98d22f91ae6a4df695e3791a9bd4ec3e",
            "dad6c26847ce46498582e87848352291",
            "16b30fe1bc1f40c889e2d0b094a78568",
            "5958d371bc1449b893dab7e4b01fead0",
            "8af2abcd06a74e05a03b0b7cd8cae6a1",
            "ce99d9fff73a417b833b1c2d284efe88",
            "42dfa53556d345f196fe52c42eadaae3",
            "56dc0dc35301466b9a24583da5e30681"
          ]
        },
        "outputId": "227dad2a-9f20-4f28-dd84-9db37956ae9d"
      },
      "execution_count": null,
      "outputs": [
        {
          "output_type": "stream",
          "name": "stderr",
          "text": [
            "\u001b[34m\u001b[1mwandb\u001b[0m: \u001b[33mWARNING\u001b[0m Calling wandb.login() after wandb.init() has no effect.\n",
            "\u001b[34m\u001b[1mwandb\u001b[0m: Agent Starting Run: gfxacl22 with config:\n",
            "\u001b[34m\u001b[1mwandb\u001b[0m: \tbatch_size: 16\n",
            "\u001b[34m\u001b[1mwandb\u001b[0m: \tepochs: 4\n",
            "\u001b[34m\u001b[1mwandb\u001b[0m: \toptimizer_params: {'lr': 0.0001}\n",
            "\u001b[34m\u001b[1mwandb\u001b[0m: \tweight_decay: 0.09123580692439642\n"
          ]
        },
        {
          "output_type": "display_data",
          "data": {
            "text/plain": [
              "<IPython.core.display.HTML object>"
            ],
            "text/html": [
              "Tracking run with wandb version 0.12.11"
            ]
          },
          "metadata": {}
        },
        {
          "output_type": "display_data",
          "data": {
            "text/plain": [
              "<IPython.core.display.HTML object>"
            ],
            "text/html": [
              "Run data is saved locally in <code>/content/NLU_STS/wandb/run-20220324_030721-gfxacl22</code>"
            ]
          },
          "metadata": {}
        },
        {
          "output_type": "display_data",
          "data": {
            "text/plain": [
              "<IPython.core.display.HTML object>"
            ],
            "text/html": [
              "Syncing run <strong><a href=\"https://wandb.ai/wanted_sts/NLU_STS/runs/gfxacl22\" target=\"_blank\">polished-sweep-1</a></strong> to <a href=\"https://wandb.ai/wanted_sts/NLU_STS\" target=\"_blank\">Weights & Biases</a> (<a href=\"https://wandb.me/run\" target=\"_blank\">docs</a>)<br/>Sweep page:  <a href=\"https://wandb.ai/wanted_sts/NLU_STS/sweeps/jg66teq9\" target=\"_blank\">https://wandb.ai/wanted_sts/NLU_STS/sweeps/jg66teq9</a>"
            ]
          },
          "metadata": {}
        },
        {
          "output_type": "display_data",
          "data": {
            "text/plain": [
              "Downloading:   0%|          | 0.00/744 [00:00<?, ?B/s]"
            ],
            "application/vnd.jupyter.widget-view+json": {
              "version_major": 2,
              "version_minor": 0,
              "model_id": "c01ddf2f5650479db10296f9c78da603"
            }
          },
          "metadata": {}
        },
        {
          "output_type": "display_data",
          "data": {
            "text/plain": [
              "Downloading:   0%|          | 0.00/422M [00:00<?, ?B/s]"
            ],
            "application/vnd.jupyter.widget-view+json": {
              "version_major": 2,
              "version_minor": 0,
              "model_id": "88d513509e8348f69d987b9fa149f7da"
            }
          },
          "metadata": {}
        },
        {
          "output_type": "display_data",
          "data": {
            "text/plain": [
              "Downloading:   0%|          | 0.00/558 [00:00<?, ?B/s]"
            ],
            "application/vnd.jupyter.widget-view+json": {
              "version_major": 2,
              "version_minor": 0,
              "model_id": "794138330128463187d7d50f85c80edd"
            }
          },
          "metadata": {}
        },
        {
          "output_type": "display_data",
          "data": {
            "text/plain": [
              "Downloading:   0%|          | 0.00/243k [00:00<?, ?B/s]"
            ],
            "application/vnd.jupyter.widget-view+json": {
              "version_major": 2,
              "version_minor": 0,
              "model_id": "836e40d2173640468061c16f5b2ae438"
            }
          },
          "metadata": {}
        },
        {
          "output_type": "display_data",
          "data": {
            "text/plain": [
              "Downloading:   0%|          | 0.00/483k [00:00<?, ?B/s]"
            ],
            "application/vnd.jupyter.widget-view+json": {
              "version_major": 2,
              "version_minor": 0,
              "model_id": "37321b20887c4002b7ed9bd25a145e0f"
            }
          },
          "metadata": {}
        },
        {
          "output_type": "display_data",
          "data": {
            "text/plain": [
              "Downloading:   0%|          | 0.00/112 [00:00<?, ?B/s]"
            ],
            "application/vnd.jupyter.widget-view+json": {
              "version_major": 2,
              "version_minor": 0,
              "model_id": "23459879a1a84c52b43d0815b1eccfdd"
            }
          },
          "metadata": {}
        },
        {
          "output_type": "stream",
          "name": "stdout",
          "text": [
            "train data loaded\n"
          ]
        },
        {
          "output_type": "stream",
          "name": "stderr",
          "text": [
            "/usr/local/lib/python3.7/dist-packages/transformers/optimization.py:309: FutureWarning: This implementation of AdamW is deprecated and will be removed in a future version. Use the PyTorch implementation torch.optim.AdamW instead, or set `no_deprecation_warning=True` to disable this warning\n",
            "  FutureWarning,\n"
          ]
        },
        {
          "output_type": "display_data",
          "data": {
            "text/plain": [
              "Epoch:   0%|          | 0/4 [00:00<?, ?it/s]"
            ],
            "application/vnd.jupyter.widget-view+json": {
              "version_major": 2,
              "version_minor": 0,
              "model_id": "ec7e324150d74413b6d08f86986fd05d"
            }
          },
          "metadata": {}
        },
        {
          "output_type": "display_data",
          "data": {
            "text/plain": [
              "Iteration:   0%|          | 0/1312 [00:00<?, ?it/s]"
            ],
            "application/vnd.jupyter.widget-view+json": {
              "version_major": 2,
              "version_minor": 0,
              "model_id": "f3bf25d126f3425ea4a8cd5464a7f09e"
            }
          },
          "metadata": {}
        },
        {
          "output_type": "stream",
          "name": "stdout",
          "text": [
            "\n",
            "################ F1 Score 계산 ################\n",
            "              precision    recall  f1-score   support\n",
            "\n",
            "           0       1.00      0.92      0.96       596\n",
            "           1       0.93      1.00      0.96       571\n",
            "\n",
            "    accuracy                           0.96      1167\n",
            "   macro avg       0.96      0.96      0.96      1167\n",
            "weighted avg       0.96      0.96      0.96      1167\n",
            "\n",
            "\n",
            "################ F1 Score 계산 ################\n",
            "              precision    recall  f1-score   support\n",
            "\n",
            "           0       0.99      0.91      0.95       596\n",
            "           1       0.91      0.99      0.95       571\n",
            "\n",
            "    accuracy                           0.95      1167\n",
            "   macro avg       0.95      0.95      0.95      1167\n",
            "weighted avg       0.95      0.95      0.95      1167\n",
            "\n",
            "\n",
            "################ F1 Score 계산 ################\n",
            "              precision    recall  f1-score   support\n",
            "\n",
            "           0       0.98      0.91      0.95       596\n",
            "           1       0.91      0.98      0.95       571\n",
            "\n",
            "    accuracy                           0.95      1167\n",
            "   macro avg       0.95      0.95      0.95      1167\n",
            "weighted avg       0.95      0.95      0.95      1167\n",
            "\n",
            "\n",
            "################ F1 Score 계산 ################\n",
            "              precision    recall  f1-score   support\n",
            "\n",
            "           0       0.98      0.88      0.93       596\n",
            "           1       0.89      0.98      0.93       571\n",
            "\n",
            "    accuracy                           0.93      1167\n",
            "   macro avg       0.93      0.93      0.93      1167\n",
            "weighted avg       0.93      0.93      0.93      1167\n",
            "\n",
            "\n",
            "################ F1 Score 계산 ################\n",
            "              precision    recall  f1-score   support\n",
            "\n",
            "           0       0.95      0.90      0.93       596\n",
            "           1       0.90      0.95      0.93       571\n",
            "\n",
            "    accuracy                           0.93      1167\n",
            "   macro avg       0.93      0.93      0.93      1167\n",
            "weighted avg       0.93      0.93      0.93      1167\n",
            "\n",
            "\n",
            "################ F1 Score 계산 ################\n",
            "              precision    recall  f1-score   support\n",
            "\n",
            "           0       0.93      0.88      0.91       596\n",
            "           1       0.89      0.93      0.91       571\n",
            "\n",
            "    accuracy                           0.91      1167\n",
            "   macro avg       0.91      0.91      0.91      1167\n",
            "weighted avg       0.91      0.91      0.91      1167\n",
            "\n",
            "\n",
            "################ F1 Score 계산 ################\n",
            "              precision    recall  f1-score   support\n",
            "\n",
            "           0       0.97      0.90      0.93       596\n",
            "           1       0.90      0.97      0.93       571\n",
            "\n",
            "    accuracy                           0.93      1167\n",
            "   macro avg       0.93      0.93      0.93      1167\n",
            "weighted avg       0.93      0.93      0.93      1167\n",
            "\n",
            "\n",
            "################ F1 Score 계산 ################\n",
            "              precision    recall  f1-score   support\n",
            "\n",
            "           0       0.92      0.92      0.92       596\n",
            "           1       0.91      0.92      0.92       571\n",
            "\n",
            "    accuracy                           0.92      1167\n",
            "   macro avg       0.92      0.92      0.92      1167\n",
            "weighted avg       0.92      0.92      0.92      1167\n",
            "\n",
            "\n",
            "################ F1 Score 계산 ################\n",
            "              precision    recall  f1-score   support\n",
            "\n",
            "           0       0.94      0.89      0.91       596\n",
            "           1       0.89      0.94      0.91       571\n",
            "\n",
            "    accuracy                           0.91      1167\n",
            "   macro avg       0.91      0.91      0.91      1167\n",
            "weighted avg       0.92      0.91      0.91      1167\n",
            "\n",
            "\n",
            "################ F1 Score 계산 ################\n",
            "              precision    recall  f1-score   support\n",
            "\n",
            "           0       0.96      0.88      0.92       596\n",
            "           1       0.89      0.96      0.93       571\n",
            "\n",
            "    accuracy                           0.92      1167\n",
            "   macro avg       0.93      0.92      0.92      1167\n",
            "weighted avg       0.93      0.92      0.92      1167\n",
            "\n",
            "\n",
            "################ F1 Score 계산 ################\n",
            "              precision    recall  f1-score   support\n",
            "\n",
            "           0       0.97      0.89      0.92       596\n",
            "           1       0.89      0.97      0.93       571\n",
            "\n",
            "    accuracy                           0.93      1167\n",
            "   macro avg       0.93      0.93      0.93      1167\n",
            "weighted avg       0.93      0.93      0.93      1167\n",
            "\n"
          ]
        },
        {
          "output_type": "display_data",
          "data": {
            "text/plain": [
              "Iteration:   0%|          | 0/1312 [00:00<?, ?it/s]"
            ],
            "application/vnd.jupyter.widget-view+json": {
              "version_major": 2,
              "version_minor": 0,
              "model_id": "89121bbe9533424fb09a2225deb22035"
            }
          },
          "metadata": {}
        },
        {
          "output_type": "stream",
          "name": "stdout",
          "text": [
            "\n",
            "################ F1 Score 계산 ################\n",
            "              precision    recall  f1-score   support\n",
            "\n",
            "           0       0.97      0.91      0.94       596\n",
            "           1       0.91      0.97      0.94       571\n",
            "\n",
            "    accuracy                           0.94      1167\n",
            "   macro avg       0.94      0.94      0.94      1167\n",
            "weighted avg       0.94      0.94      0.94      1167\n",
            "\n",
            "\n",
            "################ F1 Score 계산 ################\n",
            "              precision    recall  f1-score   support\n",
            "\n",
            "           0       0.95      0.91      0.93       596\n",
            "           1       0.91      0.95      0.93       571\n",
            "\n",
            "    accuracy                           0.93      1167\n",
            "   macro avg       0.93      0.93      0.93      1167\n",
            "weighted avg       0.93      0.93      0.93      1167\n",
            "\n",
            "\n",
            "################ F1 Score 계산 ################\n",
            "              precision    recall  f1-score   support\n",
            "\n",
            "           0       0.97      0.90      0.93       596\n",
            "           1       0.90      0.97      0.93       571\n",
            "\n",
            "    accuracy                           0.93      1167\n",
            "   macro avg       0.94      0.93      0.93      1167\n",
            "weighted avg       0.94      0.93      0.93      1167\n",
            "\n",
            "\n",
            "################ F1 Score 계산 ################\n",
            "              precision    recall  f1-score   support\n",
            "\n",
            "           0       0.97      0.90      0.93       596\n",
            "           1       0.90      0.97      0.93       571\n",
            "\n",
            "    accuracy                           0.93      1167\n",
            "   macro avg       0.93      0.93      0.93      1167\n",
            "weighted avg       0.93      0.93      0.93      1167\n",
            "\n",
            "\n",
            "################ F1 Score 계산 ################\n",
            "              precision    recall  f1-score   support\n",
            "\n",
            "           0       0.97      0.91      0.94       596\n",
            "           1       0.91      0.97      0.94       571\n",
            "\n",
            "    accuracy                           0.94      1167\n",
            "   macro avg       0.94      0.94      0.94      1167\n",
            "weighted avg       0.94      0.94      0.94      1167\n",
            "\n",
            "\n",
            "################ F1 Score 계산 ################\n",
            "              precision    recall  f1-score   support\n",
            "\n",
            "           0       0.97      0.91      0.94       596\n",
            "           1       0.91      0.98      0.94       571\n",
            "\n",
            "    accuracy                           0.94      1167\n",
            "   macro avg       0.94      0.94      0.94      1167\n",
            "weighted avg       0.94      0.94      0.94      1167\n",
            "\n",
            "\n",
            "################ F1 Score 계산 ################\n",
            "              precision    recall  f1-score   support\n",
            "\n",
            "           0       0.97      0.90      0.94       596\n",
            "           1       0.91      0.97      0.94       571\n",
            "\n",
            "    accuracy                           0.94      1167\n",
            "   macro avg       0.94      0.94      0.94      1167\n",
            "weighted avg       0.94      0.94      0.94      1167\n",
            "\n",
            "\n",
            "################ F1 Score 계산 ################\n",
            "              precision    recall  f1-score   support\n",
            "\n",
            "           0       0.96      0.91      0.94       596\n",
            "           1       0.91      0.96      0.94       571\n",
            "\n",
            "    accuracy                           0.94      1167\n",
            "   macro avg       0.94      0.94      0.94      1167\n",
            "weighted avg       0.94      0.94      0.94      1167\n",
            "\n",
            "\n",
            "################ F1 Score 계산 ################\n",
            "              precision    recall  f1-score   support\n",
            "\n",
            "           0       0.97      0.91      0.94       596\n",
            "           1       0.92      0.97      0.94       571\n",
            "\n",
            "    accuracy                           0.94      1167\n",
            "   macro avg       0.94      0.94      0.94      1167\n",
            "weighted avg       0.94      0.94      0.94      1167\n",
            "\n",
            "\n",
            "################ F1 Score 계산 ################\n",
            "              precision    recall  f1-score   support\n",
            "\n",
            "           0       0.97      0.91      0.94       596\n",
            "           1       0.91      0.97      0.94       571\n",
            "\n",
            "    accuracy                           0.94      1167\n",
            "   macro avg       0.94      0.94      0.94      1167\n",
            "weighted avg       0.94      0.94      0.94      1167\n",
            "\n",
            "\n",
            "################ F1 Score 계산 ################\n",
            "              precision    recall  f1-score   support\n",
            "\n",
            "           0       0.97      0.91      0.94       596\n",
            "           1       0.91      0.97      0.94       571\n",
            "\n",
            "    accuracy                           0.94      1167\n",
            "   macro avg       0.94      0.94      0.94      1167\n",
            "weighted avg       0.94      0.94      0.94      1167\n",
            "\n"
          ]
        },
        {
          "output_type": "display_data",
          "data": {
            "text/plain": [
              "Iteration:   0%|          | 0/1312 [00:00<?, ?it/s]"
            ],
            "application/vnd.jupyter.widget-view+json": {
              "version_major": 2,
              "version_minor": 0,
              "model_id": "e8ed81b8dd764b2c87849d7827f856b1"
            }
          },
          "metadata": {}
        },
        {
          "output_type": "stream",
          "name": "stdout",
          "text": [
            "\n",
            "################ F1 Score 계산 ################\n",
            "              precision    recall  f1-score   support\n",
            "\n",
            "           0       0.96      0.91      0.93       596\n",
            "           1       0.91      0.96      0.94       571\n",
            "\n",
            "    accuracy                           0.93      1167\n",
            "   macro avg       0.94      0.94      0.93      1167\n",
            "weighted avg       0.94      0.93      0.93      1167\n",
            "\n",
            "\n",
            "################ F1 Score 계산 ################\n",
            "              precision    recall  f1-score   support\n",
            "\n",
            "           0       0.96      0.93      0.94       596\n",
            "           1       0.93      0.96      0.94       571\n",
            "\n",
            "    accuracy                           0.94      1167\n",
            "   macro avg       0.94      0.94      0.94      1167\n",
            "weighted avg       0.94      0.94      0.94      1167\n",
            "\n",
            "\n",
            "################ F1 Score 계산 ################\n",
            "              precision    recall  f1-score   support\n",
            "\n",
            "           0       0.98      0.92      0.95       596\n",
            "           1       0.92      0.98      0.95       571\n",
            "\n",
            "    accuracy                           0.95      1167\n",
            "   macro avg       0.95      0.95      0.95      1167\n",
            "weighted avg       0.95      0.95      0.95      1167\n",
            "\n",
            "\n",
            "################ F1 Score 계산 ################\n",
            "              precision    recall  f1-score   support\n",
            "\n",
            "           0       0.97      0.91      0.94       596\n",
            "           1       0.91      0.97      0.94       571\n",
            "\n",
            "    accuracy                           0.94      1167\n",
            "   macro avg       0.94      0.94      0.94      1167\n",
            "weighted avg       0.94      0.94      0.94      1167\n",
            "\n",
            "\n",
            "################ F1 Score 계산 ################\n",
            "              precision    recall  f1-score   support\n",
            "\n",
            "           0       0.97      0.92      0.94       596\n",
            "           1       0.92      0.97      0.94       571\n",
            "\n",
            "    accuracy                           0.94      1167\n",
            "   macro avg       0.94      0.94      0.94      1167\n",
            "weighted avg       0.95      0.94      0.94      1167\n",
            "\n",
            "\n",
            "################ F1 Score 계산 ################\n",
            "              precision    recall  f1-score   support\n",
            "\n",
            "           0       0.97      0.91      0.94       596\n",
            "           1       0.91      0.97      0.94       571\n",
            "\n",
            "    accuracy                           0.94      1167\n",
            "   macro avg       0.94      0.94      0.94      1167\n",
            "weighted avg       0.94      0.94      0.94      1167\n",
            "\n",
            "\n",
            "################ F1 Score 계산 ################\n",
            "              precision    recall  f1-score   support\n",
            "\n",
            "           0       0.97      0.93      0.95       596\n",
            "           1       0.93      0.97      0.95       571\n",
            "\n",
            "    accuracy                           0.95      1167\n",
            "   macro avg       0.95      0.95      0.95      1167\n",
            "weighted avg       0.95      0.95      0.95      1167\n",
            "\n",
            "\n",
            "################ F1 Score 계산 ################\n",
            "              precision    recall  f1-score   support\n",
            "\n",
            "           0       0.97      0.92      0.95       596\n",
            "           1       0.92      0.97      0.95       571\n",
            "\n",
            "    accuracy                           0.95      1167\n",
            "   macro avg       0.95      0.95      0.95      1167\n",
            "weighted avg       0.95      0.95      0.95      1167\n",
            "\n",
            "\n",
            "################ F1 Score 계산 ################\n",
            "              precision    recall  f1-score   support\n",
            "\n",
            "           0       0.98      0.91      0.95       596\n",
            "           1       0.92      0.98      0.95       571\n",
            "\n",
            "    accuracy                           0.95      1167\n",
            "   macro avg       0.95      0.95      0.95      1167\n",
            "weighted avg       0.95      0.95      0.95      1167\n",
            "\n",
            "\n",
            "################ F1 Score 계산 ################\n",
            "              precision    recall  f1-score   support\n",
            "\n",
            "           0       0.98      0.92      0.95       596\n",
            "           1       0.92      0.98      0.95       571\n",
            "\n",
            "    accuracy                           0.95      1167\n",
            "   macro avg       0.95      0.95      0.95      1167\n",
            "weighted avg       0.95      0.95      0.95      1167\n",
            "\n",
            "\n",
            "################ F1 Score 계산 ################\n",
            "              precision    recall  f1-score   support\n",
            "\n",
            "           0       0.97      0.92      0.95       596\n",
            "           1       0.92      0.97      0.95       571\n",
            "\n",
            "    accuracy                           0.95      1167\n",
            "   macro avg       0.95      0.95      0.95      1167\n",
            "weighted avg       0.95      0.95      0.95      1167\n",
            "\n"
          ]
        },
        {
          "output_type": "display_data",
          "data": {
            "text/plain": [
              "Iteration:   0%|          | 0/1312 [00:00<?, ?it/s]"
            ],
            "application/vnd.jupyter.widget-view+json": {
              "version_major": 2,
              "version_minor": 0,
              "model_id": "07c660b3c6214245860fa6b2fc482a05"
            }
          },
          "metadata": {}
        },
        {
          "output_type": "stream",
          "name": "stdout",
          "text": [
            "\n",
            "################ F1 Score 계산 ################\n",
            "              precision    recall  f1-score   support\n",
            "\n",
            "           0       0.98      0.92      0.95       596\n",
            "           1       0.93      0.98      0.95       571\n",
            "\n",
            "    accuracy                           0.95      1167\n",
            "   macro avg       0.95      0.95      0.95      1167\n",
            "weighted avg       0.95      0.95      0.95      1167\n",
            "\n",
            "\n",
            "################ F1 Score 계산 ################\n",
            "              precision    recall  f1-score   support\n",
            "\n",
            "           0       0.98      0.93      0.95       596\n",
            "           1       0.93      0.98      0.95       571\n",
            "\n",
            "    accuracy                           0.95      1167\n",
            "   macro avg       0.96      0.96      0.95      1167\n",
            "weighted avg       0.96      0.95      0.95      1167\n",
            "\n",
            "\n",
            "################ F1 Score 계산 ################\n",
            "              precision    recall  f1-score   support\n",
            "\n",
            "           0       0.98      0.93      0.95       596\n",
            "           1       0.93      0.98      0.95       571\n",
            "\n",
            "    accuracy                           0.95      1167\n",
            "   macro avg       0.95      0.95      0.95      1167\n",
            "weighted avg       0.95      0.95      0.95      1167\n",
            "\n",
            "\n",
            "################ F1 Score 계산 ################\n",
            "              precision    recall  f1-score   support\n",
            "\n",
            "           0       0.99      0.92      0.95       596\n",
            "           1       0.93      0.99      0.96       571\n",
            "\n",
            "    accuracy                           0.96      1167\n",
            "   macro avg       0.96      0.96      0.96      1167\n",
            "weighted avg       0.96      0.96      0.96      1167\n",
            "\n",
            "\n",
            "################ F1 Score 계산 ################\n",
            "              precision    recall  f1-score   support\n",
            "\n",
            "           0       0.98      0.92      0.95       596\n",
            "           1       0.93      0.98      0.95       571\n",
            "\n",
            "    accuracy                           0.95      1167\n",
            "   macro avg       0.95      0.95      0.95      1167\n",
            "weighted avg       0.95      0.95      0.95      1167\n",
            "\n",
            "\n",
            "################ F1 Score 계산 ################\n",
            "              precision    recall  f1-score   support\n",
            "\n",
            "           0       0.98      0.92      0.95       596\n",
            "           1       0.92      0.98      0.95       571\n",
            "\n",
            "    accuracy                           0.95      1167\n",
            "   macro avg       0.95      0.95      0.95      1167\n",
            "weighted avg       0.95      0.95      0.95      1167\n",
            "\n",
            "\n",
            "################ F1 Score 계산 ################\n",
            "              precision    recall  f1-score   support\n",
            "\n",
            "           0       0.98      0.92      0.95       596\n",
            "           1       0.92      0.98      0.95       571\n",
            "\n",
            "    accuracy                           0.95      1167\n",
            "   macro avg       0.95      0.95      0.95      1167\n",
            "weighted avg       0.95      0.95      0.95      1167\n",
            "\n",
            "\n",
            "################ F1 Score 계산 ################\n",
            "              precision    recall  f1-score   support\n",
            "\n",
            "           0       0.98      0.92      0.95       596\n",
            "           1       0.93      0.98      0.95       571\n",
            "\n",
            "    accuracy                           0.95      1167\n",
            "   macro avg       0.95      0.95      0.95      1167\n",
            "weighted avg       0.95      0.95      0.95      1167\n",
            "\n",
            "\n",
            "################ F1 Score 계산 ################\n",
            "              precision    recall  f1-score   support\n",
            "\n",
            "           0       0.98      0.93      0.95       596\n",
            "           1       0.93      0.98      0.95       571\n",
            "\n",
            "    accuracy                           0.95      1167\n",
            "   macro avg       0.95      0.95      0.95      1167\n",
            "weighted avg       0.95      0.95      0.95      1167\n",
            "\n",
            "\n",
            "################ F1 Score 계산 ################\n",
            "              precision    recall  f1-score   support\n",
            "\n",
            "           0       0.98      0.93      0.95       596\n",
            "           1       0.93      0.98      0.95       571\n",
            "\n",
            "    accuracy                           0.95      1167\n",
            "   macro avg       0.95      0.95      0.95      1167\n",
            "weighted avg       0.95      0.95      0.95      1167\n",
            "\n",
            "\n",
            "################ F1 Score 계산 ################\n",
            "              precision    recall  f1-score   support\n",
            "\n",
            "           0       0.98      0.93      0.95       596\n",
            "           1       0.93      0.98      0.95       571\n",
            "\n",
            "    accuracy                           0.95      1167\n",
            "   macro avg       0.95      0.95      0.95      1167\n",
            "weighted avg       0.95      0.95      0.95      1167\n",
            "\n",
            "\n"
          ]
        },
        {
          "output_type": "display_data",
          "data": {
            "text/plain": [
              "<IPython.core.display.HTML object>"
            ],
            "text/html": [
              "Waiting for W&B process to finish... <strong style=\"color:green\">(success).</strong>"
            ]
          },
          "metadata": {}
        },
        {
          "output_type": "display_data",
          "data": {
            "text/plain": [
              "VBox(children=(Label(value='0.001 MB of 0.001 MB uploaded (0.000 MB deduped)\\r'), FloatProgress(value=1.0, max…"
            ],
            "application/vnd.jupyter.widget-view+json": {
              "version_major": 2,
              "version_minor": 0,
              "model_id": "98d22f91ae6a4df695e3791a9bd4ec3e"
            }
          },
          "metadata": {}
        },
        {
          "output_type": "display_data",
          "data": {
            "text/plain": [
              "<IPython.core.display.HTML object>"
            ],
            "text/html": [
              "<style>\n",
              "    table.wandb td:nth-child(1) { padding: 0 10px; text-align: right }\n",
              "    .wandb-row { display: flex; flex-direction: row; flex-wrap: wrap; width: 100% }\n",
              "    .wandb-col { display: flex; flex-direction: column; flex-basis: 100%; flex: 1; padding: 10px; }\n",
              "    </style>\n",
              "<div class=\"wandb-row\"><div class=\"wandb-col\"><h3>Run history:</h3><br/><table class=\"wandb\"><tr><td>f1</td><td>█▇▆▄▄▁▄▂▂▃▅▄▅▅▅▆▅▅▅▆▅▆▆▅▆▅▇▆▇▇▇▇▇█▇▇▇▇▇▇</td></tr><tr><td>loss</td><td>▃▂▄█▃▇▃▄▄▆▃▂▃▅▁▃▃▂▂▂▂▂▂▂▁▂▃▂▁▂▁▁▁▂▁▁▁▁▁▁</td></tr></table><br/></div><div class=\"wandb-col\"><h3>Run summary:</h3><br/><table class=\"wandb\"><tr><td>f1</td><td>0.95311</td></tr><tr><td>loss</td><td>0.00268</td></tr></table><br/></div></div>"
            ]
          },
          "metadata": {}
        },
        {
          "output_type": "display_data",
          "data": {
            "text/plain": [
              "<IPython.core.display.HTML object>"
            ],
            "text/html": [
              "Synced <strong style=\"color:#cdcd00\">polished-sweep-1</strong>: <a href=\"https://wandb.ai/wanted_sts/NLU_STS/runs/gfxacl22\" target=\"_blank\">https://wandb.ai/wanted_sts/NLU_STS/runs/gfxacl22</a><br/>Synced 5 W&B file(s), 0 media file(s), 0 artifact file(s) and 0 other file(s)"
            ]
          },
          "metadata": {}
        },
        {
          "output_type": "display_data",
          "data": {
            "text/plain": [
              "<IPython.core.display.HTML object>"
            ],
            "text/html": [
              "Find logs at: <code>./wandb/run-20220324_030721-gfxacl22/logs</code>"
            ]
          },
          "metadata": {}
        }
      ]
    },
    {
      "cell_type": "markdown",
      "source": [
        "### Find best model\n",
        "- F1 score\n",
        "- Pearson's r\n",
        "- wandb로 훈련시킨 모델을 dev set으로 하나씩 평가하며 각 모델의 성능을 평가하고, 최종 모델 고르기.\n",
        "    - 모델의 크기가 너무 커서 github에 업로드가 안되므로 구글 드라이브에서 불러와야 합니다.\n",
        "    - 공유 드라이브에서 샘플 모델을 제공합니다.\n",
        "이 [사이트](https://drive.google.com/drive/folders/1B6WMGbNGVoEBfzA4854H0MbmKqAGzAkF?usp=sharing)에서 `드라이브 바로가기`를 눌러 내 드라이브에 저장해 사용합니다.\n",
        "\n",
        "    ![image.png](data:image/png;base64,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)\n"
      ],
      "metadata": {
        "id": "THOEhw5Kpdch"
      }
    },
    {
      "cell_type": "code",
      "source": [
        "from google.colab import drive\n",
        "drive.mount('/content/drive')"
      ],
      "metadata": {
        "colab": {
          "base_uri": "https://localhost:8080/"
        },
        "id": "J4dh-EtzEL1D",
        "outputId": "729759fc-4228-41eb-d896-a73810aa9377"
      },
      "execution_count": null,
      "outputs": [
        {
          "output_type": "stream",
          "name": "stdout",
          "text": [
            "Mounted at /content/drive\n"
          ]
        }
      ]
    },
    {
      "cell_type": "code",
      "source": [
        "from sentence_transformers import SentenceTransformer\n",
        "from sentence_transformers.evaluation import EmbeddingSimilarityEvaluator\n",
        "from sklearn.metrics import classification_report\n",
        "from sklearn.metrics.pairwise import paired_cosine_distances, paired_euclidean_distances, paired_manhattan_distances\n",
        "from scipy.stats import pearsonr"
      ],
      "metadata": {
        "id": "9PAr9E3Q4bdU"
      },
      "execution_count": null,
      "outputs": []
    },
    {
      "cell_type": "code",
      "source": [
        "# 가장 좋은 성능을 추출하기 위해 위에서 훈련했던 모델 가져오기\n",
        "\n",
        "path = '/content/NLU_STS/model_files/'\n",
        "model_saved = [path+x for x in os.listdir(path) if x.startswith(\"training\")]\n",
        "print('model:', model_saved)\n",
        "\n",
        "# dev set 가져오기\n",
        "test = pd.read_csv('./data/STS_test.csv')\n",
        "sentence1 = []\n",
        "sentence2 = []\n",
        "labels = []\n",
        "\n",
        "for i in range(len(test)):\n",
        "    sentence1.append(test['sentence1'][i])\n",
        "    sentence2.append(test['sentence2'][i])\n",
        "    labels.append(test['normalized'][i])\n",
        "\n",
        "print(f'\\ndev set len : sentence1- {len(sentence1)}, sentence2 - {len(sentence2)}, labels - {len(labels)}')"
      ],
      "metadata": {
        "id": "Ae9Fu4bYttoG",
        "outputId": "214b2c79-4a0e-40a5-b77b-17bdb2d26063",
        "colab": {
          "base_uri": "https://localhost:8080/"
        }
      },
      "execution_count": null,
      "outputs": [
        {
          "output_type": "stream",
          "name": "stdout",
          "text": [
            "model: ['/content/NLU_STS/model_files/training_sts-Huffon-sentence-klue-roberta-base-2022-03-24_12-07-56']\n",
            "\n",
            "dev set len : sentence1- 519, sentence2 - 519, labels - 519\n"
          ]
        }
      ]
    },
    {
      "cell_type": "code",
      "source": [
        "# 각 모델별 dev set score 계산하기\n",
        "\n",
        "for model in model_saved:\n",
        "    print(f'\\n\\n######### model: {model} #########')\n",
        "    model = SentenceTransformer(model)\n",
        "\n",
        "    corpus_embeddings = model.encode(sentence1, convert_to_tensor=True) # senetence1 유사도\n",
        "    query_embeddings = model.encode(sentence2, convert_to_tensor=True) # sentence2 유사도\n",
        "\n",
        "    print(f'\\n------------- f1 score -------------')\n",
        "    def cosine_similarity_manual(x, y, small_number=1e-8): # sentence1과 sentence2의 임베딩값으로 유사도 계산\n",
        "        result =  torch.dot(x, y) / (torch.linalg.norm(x) * torch.linalg.norm(y) + small_number)\n",
        "        return result\n",
        "\n",
        "    test_scores = []\n",
        "    for i in range(len(sentence1)):\n",
        "        score = cosine_similarity_manual(corpus_embeddings[i],query_embeddings[i])\n",
        "        score=score.cpu().detach().numpy()\n",
        "        test_scores.append(score)\n",
        "\n",
        "    test_scores = np.array(test_scores) # 모델 예측값\n",
        "    y_pred = np.where(test_scores>=0.6, 1, 0) # klue에서 3.0을 기준으로 binary label을 만들었기에, normalize 기준 threshold: 0.6\n",
        "    labels = np.array(labels)\n",
        "    y_label = np.where(labels >= 0.6, 1, 0)\n",
        "\n",
        "    print(classification_report(y_label, y_pred))\n",
        "\n",
        "    print(f'\\n------------- Pearson Similarity -------------')  # Pearson 기반 유사도 출력\n",
        "    corpus_embeddings = corpus_embeddings.cpu().detach().numpy()\n",
        "    query_embeddings = query_embeddings.cpu().detach().numpy()\n",
        "\n",
        "    cosine_scores = 1 - (paired_cosine_distances(corpus_embeddings, query_embeddings))\n",
        "    manhattan_distances = -paired_manhattan_distances(corpus_embeddings, query_embeddings)\n",
        "    euclidean_distances = -paired_euclidean_distances(corpus_embeddings, query_embeddings)\n",
        "    dot_products = [np.dot(emb1, emb2) for emb1, emb2 in zip(corpus_embeddings, query_embeddings)]\n",
        "\n",
        "\n",
        "    eval_pearson_cosine, _ = pearsonr(labels, cosine_scores)\n",
        "    eval_pearson_manhattan, _ = pearsonr(labels, manhattan_distances)\n",
        "    eval_pearson_euclidean, _ = pearsonr(labels, euclidean_distances)\n",
        "    eval_pearson_dot, _ = pearsonr(labels, dot_products)\n",
        "\n",
        "    print(\"Cosine-Similarity :\\tPearson: {:.4f}\".format(\n",
        "        eval_pearson_cosine))\n",
        "    print(\"Manhattan-Distance:\\tPearson: {:.4f}\".format(\n",
        "        eval_pearson_manhattan))\n",
        "    print(\"Euclidean-Distance:\\tPearson: {:.4f}\".format(\n",
        "        eval_pearson_euclidean))\n",
        "    print(\"Dot-Product-Similarity:\\tPearson: {:.4f}\".format(\n",
        "        eval_pearson_dot))"
      ],
      "metadata": {
        "id": "xOlvGhmfYT1X",
        "outputId": "d247482e-754c-442d-c866-ba8414324c35",
        "colab": {
          "base_uri": "https://localhost:8080/"
        }
      },
      "execution_count": null,
      "outputs": [
        {
          "output_type": "stream",
          "name": "stdout",
          "text": [
            "\n",
            "\n",
            "######### model: /content/NLU_STS/model_files/training_sts-Huffon-sentence-klue-roberta-base-2022-03-24_12-07-56 #########\n",
            "\n",
            "------------- f1 score -------------\n",
            "              precision    recall  f1-score   support\n",
            "\n",
            "           0       0.98      0.74      0.84       299\n",
            "           1       0.73      0.98      0.84       220\n",
            "\n",
            "    accuracy                           0.84       519\n",
            "   macro avg       0.86      0.86      0.84       519\n",
            "weighted avg       0.87      0.84      0.84       519\n",
            "\n",
            "\n",
            "------------- Pearson Similarity -------------\n",
            "Cosine-Similarity :\tPearson: 0.8702\n",
            "Manhattan-Distance:\tPearson: 0.8755\n",
            "Euclidean-Distance:\tPearson: 0.8760\n",
            "Dot-Product-Similarity:\tPearson: 0.8577\n"
          ]
        }
      ]
    },
    {
      "cell_type": "markdown",
      "source": [
        "## Serving\n",
        "[해당 Repository](https://github.com/seawavve/STS_serving)를 참고 바랍니다."
      ],
      "metadata": {
        "id": "zsObWY1osqNk"
      }
    }
  ]
}